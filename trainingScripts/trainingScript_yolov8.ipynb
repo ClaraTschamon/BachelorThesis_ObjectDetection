{
 "cells": [
  {
   "cell_type": "code",
   "execution_count": 1,
   "id": "8980e039",
   "metadata": {},
   "outputs": [
    {
     "name": "stdout",
     "output_type": "stream",
     "text": [
      "/data1/home/tscl/YOLOv8\n"
     ]
    }
   ],
   "source": [
    "from ultralytics import YOLO\n",
    "import os\n",
    "\n",
    "#to get the current working directory\n",
    "directory = os.getcwd()\n",
    "\n",
    "print(directory)"
   ]
  },
  {
   "cell_type": "markdown",
   "id": "f72f024e",
   "metadata": {},
   "source": [
    "# Download dataset from Roboflow in yolov8 format"
   ]
  },
  {
   "cell_type": "code",
   "execution_count": 2,
   "id": "cdf1c139",
   "metadata": {},
   "outputs": [
    {
     "name": "stdout",
     "output_type": "stream",
     "text": [
      "Requirement already satisfied: roboflow in /data1/home/tscl/anaconda3/envs/envclara/lib/python3.8/site-packages (1.1.7)\n",
      "Requirement already satisfied: certifi==2022.12.7 in /data1/home/tscl/anaconda3/envs/envclara/lib/python3.8/site-packages (from roboflow) (2022.12.7)\n",
      "Requirement already satisfied: chardet==4.0.0 in /data1/home/tscl/anaconda3/envs/envclara/lib/python3.8/site-packages (from roboflow) (4.0.0)\n",
      "Requirement already satisfied: cycler==0.10.0 in /data1/home/tscl/anaconda3/envs/envclara/lib/python3.8/site-packages (from roboflow) (0.10.0)\n",
      "Requirement already satisfied: idna==2.10 in /data1/home/tscl/anaconda3/envs/envclara/lib/python3.8/site-packages (from roboflow) (2.10)\n",
      "Requirement already satisfied: kiwisolver>=1.3.1 in /data1/home/tscl/anaconda3/envs/envclara/lib/python3.8/site-packages (from roboflow) (1.4.5)\n",
      "Requirement already satisfied: matplotlib in /data1/home/tscl/anaconda3/envs/envclara/lib/python3.8/site-packages (from roboflow) (3.7.3)\n",
      "Requirement already satisfied: numpy>=1.18.5 in /data1/home/tscl/anaconda3/envs/envclara/lib/python3.8/site-packages (from roboflow) (1.24.3)\n",
      "Requirement already satisfied: opencv-python-headless==4.8.0.74 in /data1/home/tscl/anaconda3/envs/envclara/lib/python3.8/site-packages (from roboflow) (4.8.0.74)\n",
      "Requirement already satisfied: Pillow>=7.1.2 in /data1/home/tscl/anaconda3/envs/envclara/lib/python3.8/site-packages (from roboflow) (10.0.1)\n",
      "Requirement already satisfied: pyparsing==2.4.7 in /data1/home/tscl/anaconda3/envs/envclara/lib/python3.8/site-packages (from roboflow) (2.4.7)\n",
      "Requirement already satisfied: python-dateutil in /data1/home/tscl/anaconda3/envs/envclara/lib/python3.8/site-packages (from roboflow) (2.8.2)\n",
      "Requirement already satisfied: python-dotenv in /data1/home/tscl/anaconda3/envs/envclara/lib/python3.8/site-packages (from roboflow) (1.0.0)\n",
      "Requirement already satisfied: requests in /data1/home/tscl/anaconda3/envs/envclara/lib/python3.8/site-packages (from roboflow) (2.31.0)\n",
      "Requirement already satisfied: six in /data1/home/tscl/anaconda3/envs/envclara/lib/python3.8/site-packages (from roboflow) (1.16.0)\n",
      "Requirement already satisfied: supervision in /data1/home/tscl/anaconda3/envs/envclara/lib/python3.8/site-packages (from roboflow) (0.16.0)\n",
      "Requirement already satisfied: urllib3>=1.26.6 in /data1/home/tscl/anaconda3/envs/envclara/lib/python3.8/site-packages (from roboflow) (1.26.16)\n",
      "Requirement already satisfied: tqdm>=4.41.0 in /data1/home/tscl/anaconda3/envs/envclara/lib/python3.8/site-packages (from roboflow) (4.66.1)\n",
      "Requirement already satisfied: PyYAML>=5.3.1 in /data1/home/tscl/anaconda3/envs/envclara/lib/python3.8/site-packages (from roboflow) (6.0.1)\n",
      "Requirement already satisfied: requests-toolbelt in /data1/home/tscl/anaconda3/envs/envclara/lib/python3.8/site-packages (from roboflow) (1.0.0)\n",
      "Requirement already satisfied: contourpy>=1.0.1 in /data1/home/tscl/anaconda3/envs/envclara/lib/python3.8/site-packages (from matplotlib->roboflow) (1.1.1)\n",
      "Requirement already satisfied: fonttools>=4.22.0 in /data1/home/tscl/anaconda3/envs/envclara/lib/python3.8/site-packages (from matplotlib->roboflow) (4.43.1)\n",
      "Requirement already satisfied: packaging>=20.0 in /data1/home/tscl/anaconda3/envs/envclara/lib/python3.8/site-packages (from matplotlib->roboflow) (23.1)\n",
      "Requirement already satisfied: importlib-resources>=3.2.0 in /data1/home/tscl/anaconda3/envs/envclara/lib/python3.8/site-packages (from matplotlib->roboflow) (5.2.0)\n",
      "Requirement already satisfied: charset-normalizer<4,>=2 in /data1/home/tscl/anaconda3/envs/envclara/lib/python3.8/site-packages (from requests->roboflow) (2.0.4)\n",
      "Requirement already satisfied: scipy<2.0.0,>=1.9.0 in /data1/home/tscl/anaconda3/envs/envclara/lib/python3.8/site-packages (from supervision->roboflow) (1.10.1)\n",
      "Requirement already satisfied: zipp>=3.1.0 in /data1/home/tscl/anaconda3/envs/envclara/lib/python3.8/site-packages (from importlib-resources>=3.2.0->matplotlib->roboflow) (3.11.0)\n",
      "loading Roboflow workspace...\n",
      "loading Roboflow project...\n",
      "Dependency ultralytics==8.0.134 is required but found version=8.0.195, to fix: `pip install ultralytics==8.0.134`\n"
     ]
    },
    {
     "name": "stderr",
     "output_type": "stream",
     "text": [
      "Downloading Dataset Version Zip in Chess-Pieces-3-2 to yolov8:: 100%|██████| 1621715/1621715 [01:23<00:00, 19496.67it/s]"
     ]
    },
    {
     "name": "stdout",
     "output_type": "stream",
     "text": []
    },
    {
     "name": "stderr",
     "output_type": "stream",
     "text": [
      "\n",
      "Extracting Dataset Version Zip to Chess-Pieces-3-2 in yolov8:: 100%|████████████| 35836/35836 [00:03<00:00, 9058.49it/s]\n"
     ]
    }
   ],
   "source": [
    "#!pip install roboflow\n",
    "\n",
    "#from roboflow import Roboflow\n",
    "#rf = Roboflow(api_key=\"cx2jF1GuAVvRWlxk9ZNY\")\n",
    "#project = rf.workspace(\"fhv\").project(\"chess-pieces-3\")\n",
    "#dataset = project.version(2).download(\"yolov8\")"
   ]
  },
  {
   "cell_type": "code",
   "execution_count": 2,
   "id": "6898552c",
   "metadata": {},
   "outputs": [],
   "source": [
    "os.environ[\"CUDA_DEVICE_ORDER\"] = \"PCI_BUS_ID\"\n",
    "os.environ[\"CUDA_VISIBLE_DEVICES\"] = \"0\""
   ]
  },
  {
   "cell_type": "code",
   "execution_count": 3,
   "id": "cd71327a",
   "metadata": {},
   "outputs": [
    {
     "name": "stdout",
     "output_type": "stream",
     "text": [
      "Ultralytics YOLOv8.0.222 🚀 Python-3.8.18 torch-1.12.1+cu113 CUDA:0 (Quadro RTX 6000, 24220MiB)\n",
      "WARNING ⚠️ Upgrade to torch>=2.0.0 for deterministic training.\n",
      "\u001B[34m\u001B[1mengine/trainer: \u001B[0mtask=detect, mode=train, model=yolov8m.pt, data=/data1/home/tscl/Chess-Pieces-3-2/data.yaml, epochs=40, patience=50, batch=32, imgsz=640, save=True, save_period=-1, cache=True, device=0, workers=8, project=None, name=train8, exist_ok=False, pretrained=True, optimizer=auto, verbose=True, seed=0, deterministic=True, single_cls=False, rect=False, cos_lr=False, close_mosaic=10, resume=False, amp=True, fraction=1.0, profile=False, freeze=None, overlap_mask=True, mask_ratio=4, dropout=0.0, val=True, split=val, save_json=False, save_hybrid=False, conf=None, iou=0.2, max_det=300, half=False, dnn=False, plots=True, source=None, vid_stride=1, stream_buffer=False, visualize=False, augment=False, agnostic_nms=False, classes=None, retina_masks=False, show=False, save_frames=False, save_txt=False, save_conf=False, save_crop=False, show_labels=True, show_conf=True, show_boxes=True, line_width=None, format=torchscript, keras=False, optimize=False, int8=False, dynamic=False, simplify=False, opset=None, workspace=4, nms=False, lr0=0.01, lrf=0.01, momentum=0.937, weight_decay=0.0005, warmup_epochs=3.0, warmup_momentum=0.8, warmup_bias_lr=0.1, box=0.05, cls=0.5, dfl=1.5, pose=12.0, kobj=1.0, label_smoothing=0.0, nbs=64, hsv_h=0.015, hsv_s=0.7, hsv_v=0.4, degrees=0.0, translate=0.1, scale=0.5, shear=0.0, perspective=0.0, flipud=0.0, fliplr=0.5, mosaic=1.0, mixup=0.0, copy_paste=0.0, cfg=None, tracker=botsort.yaml, save_dir=runs/detect/train8\n",
      "Overriding model.yaml nc=80 with nc=12\n",
      "\n",
      "                   from  n    params  module                                       arguments                     \n",
      "  0                  -1  1      1392  ultralytics.nn.modules.conv.Conv             [3, 48, 3, 2]                 \n",
      "  1                  -1  1     41664  ultralytics.nn.modules.conv.Conv             [48, 96, 3, 2]                \n",
      "  2                  -1  2    111360  ultralytics.nn.modules.block.C2f             [96, 96, 2, True]             \n",
      "  3                  -1  1    166272  ultralytics.nn.modules.conv.Conv             [96, 192, 3, 2]               \n",
      "  4                  -1  4    813312  ultralytics.nn.modules.block.C2f             [192, 192, 4, True]           \n",
      "  5                  -1  1    664320  ultralytics.nn.modules.conv.Conv             [192, 384, 3, 2]              \n",
      "  6                  -1  4   3248640  ultralytics.nn.modules.block.C2f             [384, 384, 4, True]           \n",
      "  7                  -1  1   1991808  ultralytics.nn.modules.conv.Conv             [384, 576, 3, 2]              \n",
      "  8                  -1  2   3985920  ultralytics.nn.modules.block.C2f             [576, 576, 2, True]           \n",
      "  9                  -1  1    831168  ultralytics.nn.modules.block.SPPF            [576, 576, 5]                 \n",
      " 10                  -1  1         0  torch.nn.modules.upsampling.Upsample         [None, 2, 'nearest']          \n",
      " 11             [-1, 6]  1         0  ultralytics.nn.modules.conv.Concat           [1]                           \n",
      " 12                  -1  2   1993728  ultralytics.nn.modules.block.C2f             [960, 384, 2]                 \n",
      " 13                  -1  1         0  torch.nn.modules.upsampling.Upsample         [None, 2, 'nearest']          \n",
      " 14             [-1, 4]  1         0  ultralytics.nn.modules.conv.Concat           [1]                           \n",
      " 15                  -1  2    517632  ultralytics.nn.modules.block.C2f             [576, 192, 2]                 \n",
      " 16                  -1  1    332160  ultralytics.nn.modules.conv.Conv             [192, 192, 3, 2]              \n",
      " 17            [-1, 12]  1         0  ultralytics.nn.modules.conv.Concat           [1]                           \n",
      " 18                  -1  2   1846272  ultralytics.nn.modules.block.C2f             [576, 384, 2]                 \n",
      " 19                  -1  1   1327872  ultralytics.nn.modules.conv.Conv             [384, 384, 3, 2]              \n",
      " 20             [-1, 9]  1         0  ultralytics.nn.modules.conv.Concat           [1]                           \n",
      " 21                  -1  2   4207104  ultralytics.nn.modules.block.C2f             [960, 576, 2]                 \n",
      " 22        [15, 18, 21]  1   3782644  ultralytics.nn.modules.head.Detect           [12, [192, 384, 576]]         \n",
      "Model summary: 295 layers, 25863268 parameters, 25863252 gradients, 79.1 GFLOPs\n",
      "\n",
      "Transferred 469/475 items from pretrained weights\n",
      "\u001B[34m\u001B[1mTensorBoard: \u001B[0mStart with 'tensorboard --logdir runs/detect/train8', view at http://localhost:6006/\n",
      "Freezing layer 'model.22.dfl.conv.weight'\n",
      "\u001B[34m\u001B[1mAMP: \u001B[0mrunning Automatic Mixed Precision (AMP) checks with YOLOv8n...\n",
      "\u001B[34m\u001B[1mAMP: \u001B[0mchecks passed ✅\n"
     ]
    },
    {
     "name": "stderr",
     "output_type": "stream",
     "text": [
      "\u001B[34m\u001B[1mtrain: \u001B[0mScanning /data1/home/tscl/Chess-Pieces-3-2/train/labels.cache... 16986 images, 159 backgrounds, 0 corrupt: 100%|█\u001B[0m"
     ]
    },
    {
     "name": "stdout",
     "output_type": "stream",
     "text": [
      "\u001B[34m\u001B[1mtrain: \u001B[0mWARNING ⚠️ /data1/home/tscl/Chess-Pieces-3-2/train/images/IMG_20200829_012731_jpg.rf.48455ad76c8df3563906d75b5a548744.jpg: 1 duplicate labels removed\n",
      "\u001B[34m\u001B[1mtrain: \u001B[0mWARNING ⚠️ /data1/home/tscl/Chess-Pieces-3-2/train/images/IMG_20200829_012731_jpg.rf.c162340d6b775a4ad56d1f9eee29b857.jpg: 1 duplicate labels removed\n",
      "\u001B[34m\u001B[1mtrain: \u001B[0mWARNING ⚠️ /data1/home/tscl/Chess-Pieces-3-2/train/images/IMG_20200829_012731_jpg.rf.fb4d2d2eb5394628818cc17d0bb9166d.jpg: 1 duplicate labels removed\n",
      "\u001B[34m\u001B[1mtrain: \u001B[0mWARNING ⚠️ /data1/home/tscl/Chess-Pieces-3-2/train/images/IMG_20200829_013159_jpg.rf.471cc6fc90e599058fb811d9399129ae.jpg: 1 duplicate labels removed\n",
      "\u001B[34m\u001B[1mtrain: \u001B[0mWARNING ⚠️ /data1/home/tscl/Chess-Pieces-3-2/train/images/IMG_20200829_013159_jpg.rf.673a8f4716969977686c34c892036aa4.jpg: 1 duplicate labels removed\n",
      "\u001B[34m\u001B[1mtrain: \u001B[0mWARNING ⚠️ /data1/home/tscl/Chess-Pieces-3-2/train/images/IMG_20200829_013159_jpg.rf.c8f2fac2991e09e0f69de6e84fae92f0.jpg: 1 duplicate labels removed\n",
      "\u001B[34m\u001B[1mtrain: \u001B[0mWARNING ⚠️ /data1/home/tscl/Chess-Pieces-3-2/train/images/IMG_20200908_230810_jpg.rf.0b5fb97b5ba95e4e6c05f8bd421355f1.jpg: 2 duplicate labels removed\n",
      "\u001B[34m\u001B[1mtrain: \u001B[0mWARNING ⚠️ /data1/home/tscl/Chess-Pieces-3-2/train/images/IMG_20200908_230810_jpg.rf.0c00122a606ee06f5aa7443f8ca3d71e.jpg: 2 duplicate labels removed\n",
      "\u001B[34m\u001B[1mtrain: \u001B[0mWARNING ⚠️ /data1/home/tscl/Chess-Pieces-3-2/train/images/IMG_20200908_230810_jpg.rf.bf747a086fbb4b466b9e9a7a83568b86.jpg: 2 duplicate labels removed\n",
      "\u001B[34m\u001B[1mtrain: \u001B[0mWARNING ⚠️ /data1/home/tscl/Chess-Pieces-3-2/train/images/IMG_20200908_231320_jpg.rf.36415b922498a900c27a6497f0085d17.jpg: 1 duplicate labels removed\n",
      "\u001B[34m\u001B[1mtrain: \u001B[0mWARNING ⚠️ /data1/home/tscl/Chess-Pieces-3-2/train/images/IMG_20200908_231320_jpg.rf.3f9f1e7d0355e6750d4b1dcd4d375943.jpg: 1 duplicate labels removed\n",
      "\u001B[34m\u001B[1mtrain: \u001B[0mWARNING ⚠️ /data1/home/tscl/Chess-Pieces-3-2/train/images/IMG_20200908_231320_jpg.rf.6b1ccb15170aa37272f96fd9446bc396.jpg: 1 duplicate labels removed\n",
      "\u001B[34m\u001B[1mtrain: \u001B[0mWARNING ⚠️ /data1/home/tscl/Chess-Pieces-3-2/train/images/IMG_20200909_210543_jpg.rf.31f0cdf29e54a91404e9af8a07656278.jpg: 3 duplicate labels removed\n",
      "\u001B[34m\u001B[1mtrain: \u001B[0mWARNING ⚠️ /data1/home/tscl/Chess-Pieces-3-2/train/images/IMG_20200909_210543_jpg.rf.57935b431b5def44b8b762e9bf847c84.jpg: 3 duplicate labels removed\n",
      "\u001B[34m\u001B[1mtrain: \u001B[0mWARNING ⚠️ /data1/home/tscl/Chess-Pieces-3-2/train/images/IMG_20200909_210543_jpg.rf.a861a80f15ed06523a5e93a45429cad8.jpg: 3 duplicate labels removed\n",
      "WARNING ⚠️ Box and segment counts should be equal, but got len(segments) = 93, len(boxes) = 209886. To resolve this only boxes will be used and all segments will be removed. To avoid this please supply either a detect or segment dataset, not a detect-segment mixed dataset.\n"
     ]
    },
    {
     "name": "stderr",
     "output_type": "stream",
     "text": [
      "\n",
      "\u001B[34m\u001B[1mtrain: \u001B[0mCaching images (19.4GB True): 100%|██████████| 16986/16986 [00:10<00:00, 1604.38it/s]\u001B[0m\n",
      "\u001B[34m\u001B[1mval: \u001B[0mScanning /data1/home/tscl/Chess-Pieces-3-2/valid/labels.cache... 910 images, 0 backgrounds, 0 corrupt: 100%|███████\u001B[0m\n",
      "\u001B[34m\u001B[1mval: \u001B[0mCaching images (1.0GB True): 100%|██████████| 910/910 [00:00<00:00, 1353.49it/s]\u001B[0m\n"
     ]
    },
    {
     "name": "stdout",
     "output_type": "stream",
     "text": [
      "Plotting labels to runs/detect/train8/labels.jpg... \n",
      "\u001B[34m\u001B[1moptimizer:\u001B[0m 'optimizer=auto' found, ignoring 'lr0=0.01' and 'momentum=0.937' and determining best 'optimizer', 'lr0' and 'momentum' automatically... \n",
      "\u001B[34m\u001B[1moptimizer:\u001B[0m SGD(lr=0.01, momentum=0.9) with parameter groups 77 weight(decay=0.0), 84 weight(decay=0.0005), 83 bias(decay=0.0)\n",
      "Image sizes 640 train, 640 val\n",
      "Using 8 dataloader workers\n",
      "Logging results to \u001B[1mruns/detect/train8\u001B[0m\n",
      "Starting training for 40 epochs...\n",
      "\n",
      "      Epoch    GPU_mem   box_loss   cls_loss   dfl_loss  Instances       Size\n"
     ]
    },
    {
     "name": "stderr",
     "output_type": "stream",
     "text": [
      "       1/40      14.5G   0.009368      1.652      1.165        377        640: 100%|██████████| 531/531 [03:38<00:00,  2\n",
      "                 Class     Images  Instances      Box(P          R      mAP50  mAP50-95): 100%|██████████| 15/15 [00:05<"
     ]
    },
    {
     "name": "stdout",
     "output_type": "stream",
     "text": [
      "                   all        910      16125      0.825      0.826      0.875      0.574\n"
     ]
    },
    {
     "name": "stderr",
     "output_type": "stream",
     "text": [
      "\n"
     ]
    },
    {
     "name": "stdout",
     "output_type": "stream",
     "text": [
      "\n",
      "      Epoch    GPU_mem   box_loss   cls_loss   dfl_loss  Instances       Size\n"
     ]
    },
    {
     "name": "stderr",
     "output_type": "stream",
     "text": [
      "       2/40        16G   0.008327     0.9451       1.07        403        640: 100%|██████████| 531/531 [03:36<00:00,  2\n",
      "                 Class     Images  Instances      Box(P          R      mAP50  mAP50-95): 100%|██████████| 15/15 [00:05<"
     ]
    },
    {
     "name": "stdout",
     "output_type": "stream",
     "text": [
      "                   all        910      16125      0.896       0.88       0.93      0.622\n"
     ]
    },
    {
     "name": "stderr",
     "output_type": "stream",
     "text": [
      "\n"
     ]
    },
    {
     "name": "stdout",
     "output_type": "stream",
     "text": [
      "\n",
      "      Epoch    GPU_mem   box_loss   cls_loss   dfl_loss  Instances       Size\n"
     ]
    },
    {
     "name": "stderr",
     "output_type": "stream",
     "text": [
      "       3/40      15.2G   0.008248     0.8917      1.053        445        640: 100%|██████████| 531/531 [03:37<00:00,  2\n",
      "                 Class     Images  Instances      Box(P          R      mAP50  mAP50-95): 100%|██████████| 15/15 [00:06<"
     ]
    },
    {
     "name": "stdout",
     "output_type": "stream",
     "text": [
      "                   all        910      16125      0.896      0.869      0.923      0.613\n"
     ]
    },
    {
     "name": "stderr",
     "output_type": "stream",
     "text": [
      "\n"
     ]
    },
    {
     "name": "stdout",
     "output_type": "stream",
     "text": [
      "\n",
      "      Epoch    GPU_mem   box_loss   cls_loss   dfl_loss  Instances       Size\n"
     ]
    },
    {
     "name": "stderr",
     "output_type": "stream",
     "text": [
      "       4/40      14.1G   0.008344     0.8763       1.06        559        640: 100%|██████████| 531/531 [03:37<00:00,  2\n",
      "                 Class     Images  Instances      Box(P          R      mAP50  mAP50-95): 100%|██████████| 15/15 [00:05<"
     ]
    },
    {
     "name": "stdout",
     "output_type": "stream",
     "text": [
      "                   all        910      16125      0.929      0.902      0.935      0.633\n"
     ]
    },
    {
     "name": "stderr",
     "output_type": "stream",
     "text": [
      "\n"
     ]
    },
    {
     "name": "stdout",
     "output_type": "stream",
     "text": [
      "\n",
      "      Epoch    GPU_mem   box_loss   cls_loss   dfl_loss  Instances       Size\n"
     ]
    },
    {
     "name": "stderr",
     "output_type": "stream",
     "text": [
      "       5/40      16.4G   0.008149     0.8113      1.054        581        640: 100%|██████████| 531/531 [03:36<00:00,  2\n",
      "                 Class     Images  Instances      Box(P          R      mAP50  mAP50-95): 100%|██████████| 15/15 [00:05<"
     ]
    },
    {
     "name": "stdout",
     "output_type": "stream",
     "text": [
      "                   all        910      16125      0.936      0.917      0.946      0.639\n"
     ]
    },
    {
     "name": "stderr",
     "output_type": "stream",
     "text": [
      "\n"
     ]
    },
    {
     "name": "stdout",
     "output_type": "stream",
     "text": [
      "\n",
      "      Epoch    GPU_mem   box_loss   cls_loss   dfl_loss  Instances       Size\n"
     ]
    },
    {
     "name": "stderr",
     "output_type": "stream",
     "text": [
      "       6/40      15.6G   0.008002     0.7534      1.044        611        640: 100%|██████████| 531/531 [03:37<00:00,  2\n",
      "                 Class     Images  Instances      Box(P          R      mAP50  mAP50-95): 100%|██████████| 15/15 [00:05<"
     ]
    },
    {
     "name": "stdout",
     "output_type": "stream",
     "text": [
      "                   all        910      16125      0.938      0.921      0.946      0.639\n"
     ]
    },
    {
     "name": "stderr",
     "output_type": "stream",
     "text": [
      "\n"
     ]
    },
    {
     "name": "stdout",
     "output_type": "stream",
     "text": [
      "\n",
      "      Epoch    GPU_mem   box_loss   cls_loss   dfl_loss  Instances       Size\n"
     ]
    },
    {
     "name": "stderr",
     "output_type": "stream",
     "text": [
      "       7/40      15.8G   0.007855      0.719      1.036        493        640: 100%|██████████| 531/531 [03:34<00:00,  2\n",
      "                 Class     Images  Instances      Box(P          R      mAP50  mAP50-95): 100%|██████████| 15/15 [00:05<"
     ]
    },
    {
     "name": "stdout",
     "output_type": "stream",
     "text": [
      "                   all        910      16125      0.951      0.929       0.95      0.653\n"
     ]
    },
    {
     "name": "stderr",
     "output_type": "stream",
     "text": [
      "\n"
     ]
    },
    {
     "name": "stdout",
     "output_type": "stream",
     "text": [
      "\n",
      "      Epoch    GPU_mem   box_loss   cls_loss   dfl_loss  Instances       Size\n"
     ]
    },
    {
     "name": "stderr",
     "output_type": "stream",
     "text": [
      "       8/40      15.9G   0.007744     0.6897      1.031        390        640: 100%|██████████| 531/531 [03:35<00:00,  2\n",
      "                 Class     Images  Instances      Box(P          R      mAP50  mAP50-95): 100%|██████████| 15/15 [00:05<"
     ]
    },
    {
     "name": "stdout",
     "output_type": "stream",
     "text": [
      "                   all        910      16125      0.951      0.933      0.953       0.66\n"
     ]
    },
    {
     "name": "stderr",
     "output_type": "stream",
     "text": [
      "\n"
     ]
    },
    {
     "name": "stdout",
     "output_type": "stream",
     "text": [
      "\n",
      "      Epoch    GPU_mem   box_loss   cls_loss   dfl_loss  Instances       Size\n"
     ]
    },
    {
     "name": "stderr",
     "output_type": "stream",
     "text": [
      "       9/40      14.6G   0.007659     0.6665      1.027        295        640: 100%|██████████| 531/531 [03:36<00:00,  2\n",
      "                 Class     Images  Instances      Box(P          R      mAP50  mAP50-95): 100%|██████████| 15/15 [00:05<"
     ]
    },
    {
     "name": "stdout",
     "output_type": "stream",
     "text": [
      "                   all        910      16125      0.949      0.928       0.95      0.662\n"
     ]
    },
    {
     "name": "stderr",
     "output_type": "stream",
     "text": [
      "\n"
     ]
    },
    {
     "name": "stdout",
     "output_type": "stream",
     "text": [
      "\n",
      "      Epoch    GPU_mem   box_loss   cls_loss   dfl_loss  Instances       Size\n"
     ]
    },
    {
     "name": "stderr",
     "output_type": "stream",
     "text": [
      "      10/40      16.3G   0.007581     0.6511       1.02        467        640: 100%|██████████| 531/531 [03:37<00:00,  2\n",
      "                 Class     Images  Instances      Box(P          R      mAP50  mAP50-95): 100%|██████████| 15/15 [00:05<"
     ]
    },
    {
     "name": "stdout",
     "output_type": "stream",
     "text": [
      "                   all        910      16125      0.961      0.943      0.958      0.671\n"
     ]
    },
    {
     "name": "stderr",
     "output_type": "stream",
     "text": [
      "\n"
     ]
    },
    {
     "name": "stdout",
     "output_type": "stream",
     "text": [
      "\n",
      "      Epoch    GPU_mem   box_loss   cls_loss   dfl_loss  Instances       Size\n"
     ]
    },
    {
     "name": "stderr",
     "output_type": "stream",
     "text": [
      "      11/40      15.7G   0.007514     0.6327       1.02        471        640: 100%|██████████| 531/531 [03:33<00:00,  2\n",
      "                 Class     Images  Instances      Box(P          R      mAP50  mAP50-95): 100%|██████████| 15/15 [00:05<"
     ]
    },
    {
     "name": "stdout",
     "output_type": "stream",
     "text": [
      "                   all        910      16125      0.958      0.945      0.958      0.673\n"
     ]
    },
    {
     "name": "stderr",
     "output_type": "stream",
     "text": [
      "\n"
     ]
    },
    {
     "name": "stdout",
     "output_type": "stream",
     "text": [
      "\n",
      "      Epoch    GPU_mem   box_loss   cls_loss   dfl_loss  Instances       Size\n"
     ]
    },
    {
     "name": "stderr",
     "output_type": "stream",
     "text": [
      "      12/40      14.7G   0.007463     0.6108      1.011        522        640: 100%|██████████| 531/531 [03:34<00:00,  2\n",
      "                 Class     Images  Instances      Box(P          R      mAP50  mAP50-95): 100%|██████████| 15/15 [00:05<\n"
     ]
    },
    {
     "name": "stdout",
     "output_type": "stream",
     "text": [
      "                   all        910      16125      0.965      0.942      0.957      0.676\n",
      "\n",
      "      Epoch    GPU_mem   box_loss   cls_loss   dfl_loss  Instances       Size\n"
     ]
    },
    {
     "name": "stderr",
     "output_type": "stream",
     "text": [
      "      13/40      15.1G   0.007373     0.6046      1.014        371        640: 100%|██████████| 531/531 [03:36<00:00,  2\n",
      "                 Class     Images  Instances      Box(P          R      mAP50  mAP50-95): 100%|██████████| 15/15 [00:05<"
     ]
    },
    {
     "name": "stdout",
     "output_type": "stream",
     "text": [
      "                   all        910      16125      0.969      0.945      0.958      0.684\n"
     ]
    },
    {
     "name": "stderr",
     "output_type": "stream",
     "text": [
      "\n"
     ]
    },
    {
     "name": "stdout",
     "output_type": "stream",
     "text": [
      "\n",
      "      Epoch    GPU_mem   box_loss   cls_loss   dfl_loss  Instances       Size\n"
     ]
    },
    {
     "name": "stderr",
     "output_type": "stream",
     "text": [
      "      14/40      14.7G   0.007288     0.5885      1.007        403        640: 100%|██████████| 531/531 [03:36<00:00,  2\n",
      "                 Class     Images  Instances      Box(P          R      mAP50  mAP50-95): 100%|██████████| 15/15 [00:05<"
     ]
    },
    {
     "name": "stdout",
     "output_type": "stream",
     "text": [
      "                   all        910      16125      0.972      0.946      0.961      0.685\n"
     ]
    },
    {
     "name": "stderr",
     "output_type": "stream",
     "text": [
      "\n"
     ]
    },
    {
     "name": "stdout",
     "output_type": "stream",
     "text": [
      "\n",
      "      Epoch    GPU_mem   box_loss   cls_loss   dfl_loss  Instances       Size\n"
     ]
    },
    {
     "name": "stderr",
     "output_type": "stream",
     "text": [
      "      15/40      13.9G   0.007255     0.5768      1.004        532        640: 100%|██████████| 531/531 [03:34<00:00,  2\n",
      "                 Class     Images  Instances      Box(P          R      mAP50  mAP50-95): 100%|██████████| 15/15 [00:05<"
     ]
    },
    {
     "name": "stdout",
     "output_type": "stream",
     "text": [
      "                   all        910      16125       0.97      0.947       0.96      0.682\n"
     ]
    },
    {
     "name": "stderr",
     "output_type": "stream",
     "text": [
      "\n"
     ]
    },
    {
     "name": "stdout",
     "output_type": "stream",
     "text": [
      "\n",
      "      Epoch    GPU_mem   box_loss   cls_loss   dfl_loss  Instances       Size\n"
     ]
    },
    {
     "name": "stderr",
     "output_type": "stream",
     "text": [
      "      16/40      15.2G   0.007188     0.5639      1.002        325        640: 100%|██████████| 531/531 [03:33<00:00,  2\n",
      "                 Class     Images  Instances      Box(P          R      mAP50  mAP50-95): 100%|██████████| 15/15 [00:05<"
     ]
    },
    {
     "name": "stdout",
     "output_type": "stream",
     "text": [
      "                   all        910      16125      0.967       0.95      0.962      0.688\n"
     ]
    },
    {
     "name": "stderr",
     "output_type": "stream",
     "text": [
      "\n"
     ]
    },
    {
     "name": "stdout",
     "output_type": "stream",
     "text": [
      "\n",
      "      Epoch    GPU_mem   box_loss   cls_loss   dfl_loss  Instances       Size\n"
     ]
    },
    {
     "name": "stderr",
     "output_type": "stream",
     "text": [
      "      17/40      15.4G   0.007116     0.5533     0.9982        385        640: 100%|██████████| 531/531 [03:32<00:00,  2\n",
      "                 Class     Images  Instances      Box(P          R      mAP50  mAP50-95): 100%|██████████| 15/15 [00:05<"
     ]
    },
    {
     "name": "stdout",
     "output_type": "stream",
     "text": [
      "                   all        910      16125      0.971      0.946      0.962      0.691\n"
     ]
    },
    {
     "name": "stderr",
     "output_type": "stream",
     "text": [
      "\n"
     ]
    },
    {
     "name": "stdout",
     "output_type": "stream",
     "text": [
      "\n",
      "      Epoch    GPU_mem   box_loss   cls_loss   dfl_loss  Instances       Size\n"
     ]
    },
    {
     "name": "stderr",
     "output_type": "stream",
     "text": [
      "      18/40      15.6G   0.007086     0.5481     0.9977        394        640: 100%|██████████| 531/531 [03:35<00:00,  2\n",
      "                 Class     Images  Instances      Box(P          R      mAP50  mAP50-95): 100%|██████████| 15/15 [00:05<"
     ]
    },
    {
     "name": "stdout",
     "output_type": "stream",
     "text": [
      "                   all        910      16125      0.971      0.952      0.964      0.695\n"
     ]
    },
    {
     "name": "stderr",
     "output_type": "stream",
     "text": [
      "\n"
     ]
    },
    {
     "name": "stdout",
     "output_type": "stream",
     "text": [
      "\n",
      "      Epoch    GPU_mem   box_loss   cls_loss   dfl_loss  Instances       Size\n"
     ]
    },
    {
     "name": "stderr",
     "output_type": "stream",
     "text": [
      "      19/40        15G   0.007038     0.5377     0.9928        381        640: 100%|██████████| 531/531 [03:33<00:00,  2\n",
      "                 Class     Images  Instances      Box(P          R      mAP50  mAP50-95): 100%|██████████| 15/15 [00:05<"
     ]
    },
    {
     "name": "stdout",
     "output_type": "stream",
     "text": [
      "                   all        910      16125      0.969      0.951      0.962      0.692\n"
     ]
    },
    {
     "name": "stderr",
     "output_type": "stream",
     "text": [
      "\n"
     ]
    },
    {
     "name": "stdout",
     "output_type": "stream",
     "text": [
      "\n",
      "      Epoch    GPU_mem   box_loss   cls_loss   dfl_loss  Instances       Size\n"
     ]
    },
    {
     "name": "stderr",
     "output_type": "stream",
     "text": [
      "      20/40      14.6G   0.006981     0.5318     0.9887        468        640: 100%|██████████| 531/531 [03:34<00:00,  2\n",
      "                 Class     Images  Instances      Box(P          R      mAP50  mAP50-95): 100%|██████████| 15/15 [00:05<"
     ]
    },
    {
     "name": "stdout",
     "output_type": "stream",
     "text": [
      "                   all        910      16125      0.974      0.952      0.965      0.699\n"
     ]
    },
    {
     "name": "stderr",
     "output_type": "stream",
     "text": [
      "\n"
     ]
    },
    {
     "name": "stdout",
     "output_type": "stream",
     "text": [
      "\n",
      "      Epoch    GPU_mem   box_loss   cls_loss   dfl_loss  Instances       Size\n"
     ]
    },
    {
     "name": "stderr",
     "output_type": "stream",
     "text": [
      "      21/40      14.6G   0.006947     0.5213     0.9879        495        640: 100%|██████████| 531/531 [03:36<00:00,  2\n",
      "                 Class     Images  Instances      Box(P          R      mAP50  mAP50-95): 100%|██████████| 15/15 [00:05<"
     ]
    },
    {
     "name": "stdout",
     "output_type": "stream",
     "text": [
      "                   all        910      16125      0.972      0.954      0.965        0.7\n"
     ]
    },
    {
     "name": "stderr",
     "output_type": "stream",
     "text": [
      "\n"
     ]
    },
    {
     "name": "stdout",
     "output_type": "stream",
     "text": [
      "\n",
      "      Epoch    GPU_mem   box_loss   cls_loss   dfl_loss  Instances       Size\n"
     ]
    },
    {
     "name": "stderr",
     "output_type": "stream",
     "text": [
      "      22/40        15G   0.006906     0.5132     0.9856        368        640: 100%|██████████| 531/531 [03:37<00:00,  2\n",
      "                 Class     Images  Instances      Box(P          R      mAP50  mAP50-95): 100%|██████████| 15/15 [00:05<"
     ]
    },
    {
     "name": "stdout",
     "output_type": "stream",
     "text": [
      "                   all        910      16125      0.974      0.952      0.966      0.703\n"
     ]
    },
    {
     "name": "stderr",
     "output_type": "stream",
     "text": [
      "\n"
     ]
    },
    {
     "name": "stdout",
     "output_type": "stream",
     "text": [
      "\n",
      "      Epoch    GPU_mem   box_loss   cls_loss   dfl_loss  Instances       Size\n"
     ]
    },
    {
     "name": "stderr",
     "output_type": "stream",
     "text": [
      "      23/40      15.5G   0.006855      0.509     0.9813        367        640: 100%|██████████| 531/531 [03:34<00:00,  2\n",
      "                 Class     Images  Instances      Box(P          R      mAP50  mAP50-95): 100%|██████████| 15/15 [00:05<"
     ]
    },
    {
     "name": "stdout",
     "output_type": "stream",
     "text": [
      "                   all        910      16125      0.973      0.952      0.966      0.702\n"
     ]
    },
    {
     "name": "stderr",
     "output_type": "stream",
     "text": [
      "\n"
     ]
    },
    {
     "name": "stdout",
     "output_type": "stream",
     "text": [
      "\n",
      "      Epoch    GPU_mem   box_loss   cls_loss   dfl_loss  Instances       Size\n"
     ]
    },
    {
     "name": "stderr",
     "output_type": "stream",
     "text": [
      "      24/40        14G   0.006797     0.4976     0.9762        438        640: 100%|██████████| 531/531 [03:33<00:00,  2\n",
      "                 Class     Images  Instances      Box(P          R      mAP50  mAP50-95): 100%|██████████| 15/15 [00:05<"
     ]
    },
    {
     "name": "stdout",
     "output_type": "stream",
     "text": [
      "                   all        910      16125      0.972      0.953      0.966      0.705\n"
     ]
    },
    {
     "name": "stderr",
     "output_type": "stream",
     "text": [
      "\n"
     ]
    },
    {
     "name": "stdout",
     "output_type": "stream",
     "text": [
      "\n",
      "      Epoch    GPU_mem   box_loss   cls_loss   dfl_loss  Instances       Size\n"
     ]
    },
    {
     "name": "stderr",
     "output_type": "stream",
     "text": [
      "      25/40      15.3G   0.006745     0.4902      0.976        560        640: 100%|██████████| 531/531 [03:34<00:00,  2\n",
      "                 Class     Images  Instances      Box(P          R      mAP50  mAP50-95): 100%|██████████| 15/15 [00:05<"
     ]
    },
    {
     "name": "stdout",
     "output_type": "stream",
     "text": [
      "                   all        910      16125      0.972      0.955      0.966      0.706\n"
     ]
    },
    {
     "name": "stderr",
     "output_type": "stream",
     "text": [
      "\n"
     ]
    },
    {
     "name": "stdout",
     "output_type": "stream",
     "text": [
      "\n",
      "      Epoch    GPU_mem   box_loss   cls_loss   dfl_loss  Instances       Size\n"
     ]
    },
    {
     "name": "stderr",
     "output_type": "stream",
     "text": [
      "      26/40      14.8G   0.006673     0.4846     0.9715        404        640: 100%|██████████| 531/531 [03:34<00:00,  2\n",
      "                 Class     Images  Instances      Box(P          R      mAP50  mAP50-95): 100%|██████████| 15/15 [00:05<"
     ]
    },
    {
     "name": "stdout",
     "output_type": "stream",
     "text": [
      "                   all        910      16125      0.977      0.951      0.966      0.705\n"
     ]
    },
    {
     "name": "stderr",
     "output_type": "stream",
     "text": [
      "\n"
     ]
    },
    {
     "name": "stdout",
     "output_type": "stream",
     "text": [
      "\n",
      "      Epoch    GPU_mem   box_loss   cls_loss   dfl_loss  Instances       Size\n"
     ]
    },
    {
     "name": "stderr",
     "output_type": "stream",
     "text": [
      "      27/40      13.9G   0.006647     0.4765      0.971        345        640: 100%|██████████| 531/531 [03:32<00:00,  2\n",
      "                 Class     Images  Instances      Box(P          R      mAP50  mAP50-95): 100%|██████████| 15/15 [00:05<"
     ]
    },
    {
     "name": "stdout",
     "output_type": "stream",
     "text": [
      "                   all        910      16125      0.975      0.954      0.967      0.707\n"
     ]
    },
    {
     "name": "stderr",
     "output_type": "stream",
     "text": [
      "\n"
     ]
    },
    {
     "name": "stdout",
     "output_type": "stream",
     "text": [
      "\n",
      "      Epoch    GPU_mem   box_loss   cls_loss   dfl_loss  Instances       Size\n"
     ]
    },
    {
     "name": "stderr",
     "output_type": "stream",
     "text": [
      "      28/40      13.7G   0.006648     0.4734     0.9694        474        640: 100%|██████████| 531/531 [03:33<00:00,  2\n",
      "                 Class     Images  Instances      Box(P          R      mAP50  mAP50-95): 100%|██████████| 15/15 [00:05<"
     ]
    },
    {
     "name": "stdout",
     "output_type": "stream",
     "text": [
      "                   all        910      16125      0.978      0.952      0.968      0.709\n"
     ]
    },
    {
     "name": "stderr",
     "output_type": "stream",
     "text": [
      "\n"
     ]
    },
    {
     "name": "stdout",
     "output_type": "stream",
     "text": [
      "\n",
      "      Epoch    GPU_mem   box_loss   cls_loss   dfl_loss  Instances       Size\n"
     ]
    },
    {
     "name": "stderr",
     "output_type": "stream",
     "text": [
      "      29/40      15.2G   0.006567     0.4673     0.9624        363        640: 100%|██████████| 531/531 [03:35<00:00,  2\n",
      "                 Class     Images  Instances      Box(P          R      mAP50  mAP50-95): 100%|██████████| 15/15 [00:05<"
     ]
    },
    {
     "name": "stdout",
     "output_type": "stream",
     "text": [
      "                   all        910      16125      0.977      0.953      0.967       0.71\n"
     ]
    },
    {
     "name": "stderr",
     "output_type": "stream",
     "text": [
      "\n"
     ]
    },
    {
     "name": "stdout",
     "output_type": "stream",
     "text": [
      "\n",
      "      Epoch    GPU_mem   box_loss   cls_loss   dfl_loss  Instances       Size\n"
     ]
    },
    {
     "name": "stderr",
     "output_type": "stream",
     "text": [
      "      30/40      15.7G   0.006502     0.4569     0.9619        384        640: 100%|██████████| 531/531 [03:34<00:00,  2\n",
      "                 Class     Images  Instances      Box(P          R      mAP50  mAP50-95): 100%|██████████| 15/15 [00:05<"
     ]
    },
    {
     "name": "stdout",
     "output_type": "stream",
     "text": [
      "                   all        910      16125      0.976      0.955      0.968      0.713\n"
     ]
    },
    {
     "name": "stderr",
     "output_type": "stream",
     "text": [
      "\n"
     ]
    },
    {
     "name": "stdout",
     "output_type": "stream",
     "text": [
      "Closing dataloader mosaic\n",
      "\n",
      "      Epoch    GPU_mem   box_loss   cls_loss   dfl_loss  Instances       Size\n"
     ]
    },
    {
     "name": "stderr",
     "output_type": "stream",
     "text": [
      "      31/40      13.4G   0.006308     0.4034     0.9893        182        640: 100%|██████████| 531/531 [03:37<00:00,  2\n",
      "                 Class     Images  Instances      Box(P          R      mAP50  mAP50-95): 100%|██████████| 15/15 [00:05<"
     ]
    },
    {
     "name": "stdout",
     "output_type": "stream",
     "text": [
      "                   all        910      16125      0.975      0.953      0.967      0.711\n"
     ]
    },
    {
     "name": "stderr",
     "output_type": "stream",
     "text": [
      "\n"
     ]
    },
    {
     "name": "stdout",
     "output_type": "stream",
     "text": [
      "\n",
      "      Epoch    GPU_mem   box_loss   cls_loss   dfl_loss  Instances       Size\n"
     ]
    },
    {
     "name": "stderr",
     "output_type": "stream",
     "text": [
      "      32/40      13.3G   0.006232     0.3926     0.9847        364        640: 100%|██████████| 531/531 [03:30<00:00,  2\n",
      "                 Class     Images  Instances      Box(P          R      mAP50  mAP50-95): 100%|██████████| 15/15 [00:05<"
     ]
    },
    {
     "name": "stdout",
     "output_type": "stream",
     "text": [
      "                   all        910      16125      0.975      0.951      0.967      0.713\n"
     ]
    },
    {
     "name": "stderr",
     "output_type": "stream",
     "text": [
      "\n"
     ]
    },
    {
     "name": "stdout",
     "output_type": "stream",
     "text": [
      "\n",
      "      Epoch    GPU_mem   box_loss   cls_loss   dfl_loss  Instances       Size\n"
     ]
    },
    {
     "name": "stderr",
     "output_type": "stream",
     "text": [
      "      33/40      13.4G    0.00618     0.3854     0.9831        410        640: 100%|██████████| 531/531 [03:31<00:00,  2\n",
      "                 Class     Images  Instances      Box(P          R      mAP50  mAP50-95): 100%|██████████| 15/15 [00:05<"
     ]
    },
    {
     "name": "stdout",
     "output_type": "stream",
     "text": [
      "                   all        910      16125      0.974      0.952      0.967      0.712\n"
     ]
    },
    {
     "name": "stderr",
     "output_type": "stream",
     "text": [
      "\n"
     ]
    },
    {
     "name": "stdout",
     "output_type": "stream",
     "text": [
      "\n",
      "      Epoch    GPU_mem   box_loss   cls_loss   dfl_loss  Instances       Size\n"
     ]
    },
    {
     "name": "stderr",
     "output_type": "stream",
     "text": [
      "      34/40      13.3G   0.006106     0.3786     0.9747        263        640: 100%|██████████| 531/531 [03:31<00:00,  2\n",
      "                 Class     Images  Instances      Box(P          R      mAP50  mAP50-95): 100%|██████████| 15/15 [00:05<"
     ]
    },
    {
     "name": "stdout",
     "output_type": "stream",
     "text": [
      "                   all        910      16125      0.973      0.954      0.966      0.713\n"
     ]
    },
    {
     "name": "stderr",
     "output_type": "stream",
     "text": [
      "\n"
     ]
    },
    {
     "name": "stdout",
     "output_type": "stream",
     "text": [
      "\n",
      "      Epoch    GPU_mem   box_loss   cls_loss   dfl_loss  Instances       Size\n"
     ]
    },
    {
     "name": "stderr",
     "output_type": "stream",
     "text": [
      "      35/40      13.4G   0.006044     0.3715     0.9712        245        640: 100%|██████████| 531/531 [03:31<00:00,  2\n",
      "                 Class     Images  Instances      Box(P          R      mAP50  mAP50-95): 100%|██████████| 15/15 [00:05<"
     ]
    },
    {
     "name": "stdout",
     "output_type": "stream",
     "text": [
      "                   all        910      16125      0.974      0.953      0.966      0.713\n"
     ]
    },
    {
     "name": "stderr",
     "output_type": "stream",
     "text": [
      "\n"
     ]
    },
    {
     "name": "stdout",
     "output_type": "stream",
     "text": [
      "\n",
      "      Epoch    GPU_mem   box_loss   cls_loss   dfl_loss  Instances       Size\n"
     ]
    },
    {
     "name": "stderr",
     "output_type": "stream",
     "text": [
      "      36/40      13.4G   0.005992     0.3651       0.97        422        640: 100%|██████████| 531/531 [03:33<00:00,  2\n",
      "                 Class     Images  Instances      Box(P          R      mAP50  mAP50-95): 100%|██████████| 15/15 [00:05<"
     ]
    },
    {
     "name": "stdout",
     "output_type": "stream",
     "text": [
      "                   all        910      16125      0.972      0.954      0.966      0.713\n"
     ]
    },
    {
     "name": "stderr",
     "output_type": "stream",
     "text": [
      "\n"
     ]
    },
    {
     "name": "stdout",
     "output_type": "stream",
     "text": [
      "\n",
      "      Epoch    GPU_mem   box_loss   cls_loss   dfl_loss  Instances       Size\n"
     ]
    },
    {
     "name": "stderr",
     "output_type": "stream",
     "text": [
      "      37/40      13.4G   0.005926     0.3596     0.9673        341        640: 100%|██████████| 531/531 [03:34<00:00,  2\n",
      "                 Class     Images  Instances      Box(P          R      mAP50  mAP50-95): 100%|██████████| 15/15 [00:05<"
     ]
    },
    {
     "name": "stdout",
     "output_type": "stream",
     "text": [
      "                   all        910      16125      0.972      0.954      0.967      0.713\n"
     ]
    },
    {
     "name": "stderr",
     "output_type": "stream",
     "text": [
      "\n"
     ]
    },
    {
     "name": "stdout",
     "output_type": "stream",
     "text": [
      "\n",
      "      Epoch    GPU_mem   box_loss   cls_loss   dfl_loss  Instances       Size\n"
     ]
    },
    {
     "name": "stderr",
     "output_type": "stream",
     "text": [
      "      38/40      13.3G   0.005881     0.3536     0.9608        208        640: 100%|██████████| 531/531 [03:34<00:00,  2\n",
      "                 Class     Images  Instances      Box(P          R      mAP50  mAP50-95): 100%|██████████| 15/15 [00:05<"
     ]
    },
    {
     "name": "stdout",
     "output_type": "stream",
     "text": [
      "                   all        910      16125      0.974      0.951      0.966      0.714\n"
     ]
    },
    {
     "name": "stderr",
     "output_type": "stream",
     "text": [
      "\n"
     ]
    },
    {
     "name": "stdout",
     "output_type": "stream",
     "text": [
      "\n",
      "      Epoch    GPU_mem   box_loss   cls_loss   dfl_loss  Instances       Size\n"
     ]
    },
    {
     "name": "stderr",
     "output_type": "stream",
     "text": [
      "      39/40      13.4G   0.005806     0.3477     0.9572        354        640: 100%|██████████| 531/531 [03:31<00:00,  2\n",
      "                 Class     Images  Instances      Box(P          R      mAP50  mAP50-95): 100%|██████████| 15/15 [00:05<"
     ]
    },
    {
     "name": "stdout",
     "output_type": "stream",
     "text": [
      "                   all        910      16125      0.975       0.95      0.966      0.713\n"
     ]
    },
    {
     "name": "stderr",
     "output_type": "stream",
     "text": [
      "\n"
     ]
    },
    {
     "name": "stdout",
     "output_type": "stream",
     "text": [
      "\n",
      "      Epoch    GPU_mem   box_loss   cls_loss   dfl_loss  Instances       Size\n"
     ]
    },
    {
     "name": "stderr",
     "output_type": "stream",
     "text": [
      "      40/40      13.8G   0.005766      0.343     0.9545        314        640: 100%|██████████| 531/531 [03:30<00:00,  2\n",
      "                 Class     Images  Instances      Box(P          R      mAP50  mAP50-95): 100%|██████████| 15/15 [00:05<\n"
     ]
    },
    {
     "name": "stdout",
     "output_type": "stream",
     "text": [
      "                   all        910      16125      0.974      0.951      0.966      0.713\n",
      "\n",
      "40 epochs completed in 2.460 hours.\n",
      "Optimizer stripped from runs/detect/train8/weights/last.pt, 52.1MB\n",
      "Optimizer stripped from runs/detect/train8/weights/best.pt, 52.1MB\n",
      "\n",
      "Validating runs/detect/train8/weights/best.pt...\n",
      "Ultralytics YOLOv8.0.222 🚀 Python-3.8.18 torch-1.12.1+cu113 CUDA:0 (Quadro RTX 6000, 24220MiB)\n",
      "Model summary (fused): 218 layers, 25846708 parameters, 0 gradients, 78.7 GFLOPs\n"
     ]
    },
    {
     "name": "stderr",
     "output_type": "stream",
     "text": [
      "                 Class     Images  Instances      Box(P          R      mAP50  mAP50-95): 100%|██████████| 15/15 [00:09<\n"
     ]
    },
    {
     "name": "stdout",
     "output_type": "stream",
     "text": [
      "                   all        910      16125      0.972      0.954      0.967      0.714\n",
      "          Black-bishop        910       1292      0.981      0.959       0.97      0.666\n",
      "            Black-king        910        790       0.96      0.934      0.959      0.756\n",
      "          Black-knight        910        987      0.974      0.963      0.972      0.709\n",
      "            Black-pawn        910       3831      0.977       0.96      0.971      0.682\n",
      "           Black-queen        910        786      0.961      0.948      0.966      0.764\n",
      "            Black-rook        910       1171      0.963      0.937      0.952      0.692\n",
      "          White-bishop        910       1204       0.98       0.96      0.975      0.685\n",
      "            White-king        910        887      0.968      0.962      0.972       0.77\n",
      "          White-knight        910       1125      0.973      0.941      0.959      0.698\n",
      "            White-pawn        910       2363      0.969      0.969      0.967      0.652\n",
      "           White-queen        910        931       0.99       0.96      0.975      0.779\n",
      "            White-rook        910        758      0.968       0.96      0.963      0.711\n",
      "Speed: 0.4ms preprocess, 3.5ms inference, 0.0ms loss, 1.5ms postprocess per image\n",
      "Results saved to \u001B[1mruns/detect/train8\u001B[0m\n"
     ]
    }
   ],
   "source": [
    "model = YOLO('yolov8m.pt')\n",
    "results = model.train(data='/data1/home/tscl/Chess-Pieces-3-2/data.yaml', imgsz=640,  epochs=40, box=0.05, iou=0.2, batch=32, cache=True, device=0)"
   ]
  },
  {
   "cell_type": "code",
   "execution_count": 4,
   "id": "ae0dc8e9",
   "metadata": {},
   "outputs": [
    {
     "name": "stdout",
     "output_type": "stream",
     "text": [
      "  adding: runs/detect/train8/ (stored 0%)\n",
      "  adding: runs/detect/train8/weights/ (stored 0%)\n",
      "  adding: runs/detect/train8/weights/last.pt (deflated 8%)\n",
      "  adding: runs/detect/train8/weights/best.pt (deflated 8%)\n",
      "  adding: runs/detect/train8/args.yaml (deflated 50%)\n",
      "  adding: runs/detect/train8/events.out.tfevents.1700578688.srvgpu.368682.0 (deflated 77%)\n",
      "  adding: runs/detect/train8/labels_correlogram.jpg (deflated 33%)\n",
      "  adding: runs/detect/train8/labels.jpg (deflated 27%)\n",
      "  adding: runs/detect/train8/train_batch0.jpg (deflated 1%)\n",
      "  adding: runs/detect/train8/train_batch1.jpg (deflated 1%)\n",
      "  adding: runs/detect/train8/train_batch2.jpg (deflated 1%)\n",
      "  adding: runs/detect/train8/results.csv (deflated 84%)\n",
      "  adding: runs/detect/train8/train_batch7965.jpg (deflated 2%)\n",
      "  adding: runs/detect/train8/train_batch7966.jpg (deflated 4%)\n",
      "  adding: runs/detect/train8/train_batch7967.jpg (deflated 4%)\n",
      "  adding: runs/detect/train8/val_batch0_pred.jpg (deflated 8%)\n",
      "  adding: runs/detect/train8/val_batch0_labels.jpg (deflated 8%)\n",
      "  adding: runs/detect/train8/val_batch1_pred.jpg (deflated 10%)\n",
      "  adding: runs/detect/train8/val_batch1_labels.jpg (deflated 10%)\n",
      "  adding: runs/detect/train8/val_batch2_pred.jpg (deflated 7%)\n",
      "  adding: runs/detect/train8/val_batch2_labels.jpg (deflated 7%)\n",
      "  adding: runs/detect/train8/PR_curve.png (deflated 14%)\n",
      "  adding: runs/detect/train8/F1_curve.png (deflated 9%)\n",
      "  adding: runs/detect/train8/P_curve.png (deflated 13%)\n",
      "  adding: runs/detect/train8/R_curve.png (deflated 9%)\n",
      "  adding: runs/detect/train8/confusion_matrix_normalized.png (deflated 18%)\n",
      "  adding: runs/detect/train8/confusion_matrix.png (deflated 18%)\n",
      "  adding: runs/detect/train8/results.png (deflated 9%)\n"
     ]
    }
   ],
   "source": [
    "!zip -r runs/detect/train.zip runs/detect/train"
   ]
  },
  {
   "cell_type": "markdown",
   "id": "4ac99301",
   "metadata": {},
   "source": [
    "# Validation\n",
    "https://docs.ultralytics.com/modes/val/"
   ]
  },
  {
   "cell_type": "code",
   "execution_count": 5,
   "id": "591f43bf",
   "metadata": {},
   "outputs": [
    {
     "name": "stderr",
     "output_type": "stream",
     "text": [
      "Ultralytics YOLOv8.0.195 🚀 Python-3.8.18 torch-1.12.1+cu113 CUDA:0 (Quadro RTX 6000, 24220MiB)\n",
      "Model summary (fused): 218 layers, 25846708 parameters, 0 gradients, 78.7 GFLOPs\n",
      "\u001B[34m\u001B[1mval: \u001B[0mScanning /data1/home/tscl/Chess-Pieces-3-2/valid/labels.cache... 910 images, 0 backgrounds, 0 corrupt: 100%|███████\u001B[0m\n",
      "                 Class     Images  Instances      Box(P          R      mAP50  mAP50-95): 100%|██████████| 57/57 [00:13<\n",
      "                   all        910      16125      0.973      0.949      0.965      0.702\n",
      "          Black-bishop        910       1292      0.974      0.952      0.965      0.657\n",
      "            Black-king        910        790      0.967      0.932      0.957      0.745\n",
      "          Black-knight        910        987       0.98      0.953       0.97      0.698\n",
      "            Black-pawn        910       3831      0.978      0.957      0.967       0.67\n",
      "           Black-queen        910        786      0.965      0.939      0.965      0.753\n",
      "            Black-rook        910       1171      0.959      0.936      0.954      0.682\n",
      "          White-bishop        910       1204      0.982      0.954      0.974      0.676\n",
      "            White-king        910        887      0.971      0.954      0.972      0.759\n",
      "          White-knight        910       1125      0.977       0.94      0.958      0.689\n",
      "            White-pawn        910       2363      0.966      0.964      0.969      0.637\n",
      "           White-queen        910        931      0.988      0.948      0.973       0.77\n",
      "            White-rook        910        758      0.967      0.952      0.954      0.689\n",
      "Speed: 0.3ms preprocess, 7.3ms inference, 0.0ms loss, 0.9ms postprocess per image\n",
      "Results saved to \u001B[1mruns/detect/val\u001B[0m\n"
     ]
    },
    {
     "data": {
      "text/plain": [
       "array([    0.65652,     0.74464,     0.69809,     0.67012,     0.75344,     0.68181,      0.6761,     0.75899,     0.68851,     0.63715,     0.76968,     0.68878])"
      ]
     },
     "execution_count": 5,
     "metadata": {},
     "output_type": "execute_result"
    }
   ],
   "source": [
    "model = YOLO('runs/detect/train8/weights/best.pt')\n",
    "\n",
    "# Validate the model\n",
    "metrics = model.val()  # no arguments needed, dataset and settings remembered\n",
    "metrics.box.map    # map50-95\n",
    "metrics.box.map50  # map50\n",
    "metrics.box.map75  # map75\n",
    "metrics.box.maps   # a list contains map50-95 of each category"
   ]
  },
  {
   "cell_type": "code",
   "execution_count": 6,
   "id": "e2e846a6",
   "metadata": {},
   "outputs": [
    {
     "name": "stdout",
     "output_type": "stream",
     "text": [
      "  adding: runs/detect/val/ (stored 0%)\n",
      "  adding: runs/detect/val/val_batch0_labels.jpg (deflated 8%)\n",
      "  adding: runs/detect/val/val_batch0_pred.jpg (deflated 8%)\n",
      "  adding: runs/detect/val/val_batch1_labels.jpg (deflated 8%)\n",
      "  adding: runs/detect/val/val_batch1_pred.jpg (deflated 8%)\n",
      "  adding: runs/detect/val/val_batch2_labels.jpg (deflated 9%)\n",
      "  adding: runs/detect/val/val_batch2_pred.jpg (deflated 8%)\n",
      "  adding: runs/detect/val/PR_curve.png (deflated 15%)\n",
      "  adding: runs/detect/val/F1_curve.png (deflated 9%)\n",
      "  adding: runs/detect/val/P_curve.png (deflated 13%)\n",
      "  adding: runs/detect/val/R_curve.png (deflated 9%)\n",
      "  adding: runs/detect/val/confusion_matrix_normalized.png (deflated 17%)\n",
      "  adding: runs/detect/val/confusion_matrix.png (deflated 17%)\n"
     ]
    }
   ],
   "source": [
    "!zip -r runs/detect/val.zip runs/detect/val"
   ]
  },
  {
   "cell_type": "markdown",
   "id": "99e22a70",
   "metadata": {},
   "source": [
    "# Hyperparameter Tuning"
   ]
  },
  {
   "cell_type": "markdown",
   "id": "35200dbb",
   "metadata": {},
   "source": [
    "https://docs.ultralytics.com/guides/hyperparameter-tuning/#results\n",
    "Im folgenden wird 300 mal ein Model 30 Epochen lang trainiert, um schlussendlich eine Liste mit den besten Hyperparameters zu erhalten. Dies ist viel zu aufwendig und braucht ewig! Deshalb abgebrochen. Und mit Ray Tune versucht."
   ]
  },
  {
   "cell_type": "code",
   "execution_count": 4,
   "id": "d2390b96",
   "metadata": {},
   "outputs": [
    {
     "name": "stderr",
     "output_type": "stream",
     "text": [
      "\u001B[34m\u001B[1mTuner: \u001B[0mInitialized Tuner instance with 'tune_dir=runs/detect/tune'\n",
      "\u001B[34m\u001B[1mTuner: \u001B[0m💡 Learn about tuning at https://docs.ultralytics.com/guides/hyperparameter-tuning\n",
      "\u001B[34m\u001B[1mTuner: \u001B[0mStarting iteration 1/300 with hyperparameters: {'lr0': 0.01, 'lrf': 0.01, 'momentum': 0.937, 'weight_decay': 0.0005, 'warmup_epochs': 3.0, 'warmup_momentum': 0.8, 'box': 7.5, 'cls': 0.5, 'dfl': 1.5, 'hsv_h': 0.015, 'hsv_s': 0.7, 'hsv_v': 0.4, 'degrees': 0.0, 'translate': 0.1, 'scale': 0.5, 'shear': 0.0, 'perspective': 0.0, 'flipud': 0.0, 'fliplr': 0.5, 'mosaic': 1.0, 'mixup': 0.0, 'copy_paste': 0.0}\n",
      "Ultralytics YOLOv8.0.195 🚀 Python-3.8.18 torch-1.12.1+cu113 CUDA:0 (Quadro RTX 6000, 24220MiB)\n",
      "WARNING ⚠️ Upgrade to torch>=2.0.0 for deterministic training.\n",
      "\u001B[34m\u001B[1mengine/trainer: \u001B[0mtask=detect, mode=train, model=yolov8m.pt, data=/data1/home/tscl/Chess-Pieces-3-2/data.yaml, epochs=30, patience=50, batch=16, imgsz=640, save=False, save_period=-1, cache=False, device=0, workers=8, project=None, name=None, exist_ok=False, pretrained=True, optimizer=AdamW, verbose=True, seed=0, deterministic=True, single_cls=False, rect=False, cos_lr=False, close_mosaic=10, resume=False, amp=True, fraction=1.0, profile=False, freeze=None, overlap_mask=True, mask_ratio=4, dropout=0.0, val=False, split=val, save_json=False, save_hybrid=False, conf=None, iou=0.7, max_det=300, half=False, dnn=False, plots=False, source=None, show=False, save_txt=False, save_conf=False, save_crop=False, show_labels=True, show_conf=True, vid_stride=1, stream_buffer=False, line_width=None, visualize=False, augment=False, agnostic_nms=False, classes=None, retina_masks=False, boxes=True, format=torchscript, keras=False, optimize=False, int8=False, dynamic=False, simplify=False, opset=None, workspace=4, nms=False, lr0=0.01, lrf=0.01, momentum=0.937, weight_decay=0.0005, warmup_epochs=3.0, warmup_momentum=0.8, warmup_bias_lr=0.1, box=7.5, cls=0.5, dfl=1.5, pose=12.0, kobj=1.0, label_smoothing=0.0, nbs=64, hsv_h=0.015, hsv_s=0.7, hsv_v=0.4, degrees=0.0, translate=0.1, scale=0.5, shear=0.0, perspective=0.0, flipud=0.0, fliplr=0.5, mosaic=1.0, mixup=0.0, copy_paste=0.0, cfg=None, tracker=botsort.yaml, save_dir=runs/detect/train5\n",
      "Overriding model.yaml nc=80 with nc=12\n",
      "\n",
      "                   from  n    params  module                                       arguments                     \n",
      "  0                  -1  1      1392  ultralytics.nn.modules.conv.Conv             [3, 48, 3, 2]                 \n",
      "  1                  -1  1     41664  ultralytics.nn.modules.conv.Conv             [48, 96, 3, 2]                \n",
      "  2                  -1  2    111360  ultralytics.nn.modules.block.C2f             [96, 96, 2, True]             \n",
      "  3                  -1  1    166272  ultralytics.nn.modules.conv.Conv             [96, 192, 3, 2]               \n",
      "  4                  -1  4    813312  ultralytics.nn.modules.block.C2f             [192, 192, 4, True]           \n",
      "  5                  -1  1    664320  ultralytics.nn.modules.conv.Conv             [192, 384, 3, 2]              \n",
      "  6                  -1  4   3248640  ultralytics.nn.modules.block.C2f             [384, 384, 4, True]           \n",
      "  7                  -1  1   1991808  ultralytics.nn.modules.conv.Conv             [384, 576, 3, 2]              \n",
      "  8                  -1  2   3985920  ultralytics.nn.modules.block.C2f             [576, 576, 2, True]           \n",
      "  9                  -1  1    831168  ultralytics.nn.modules.block.SPPF            [576, 576, 5]                 \n",
      " 10                  -1  1         0  torch.nn.modules.upsampling.Upsample         [None, 2, 'nearest']          \n",
      " 11             [-1, 6]  1         0  ultralytics.nn.modules.conv.Concat           [1]                           \n",
      " 12                  -1  2   1993728  ultralytics.nn.modules.block.C2f             [960, 384, 2]                 \n",
      " 13                  -1  1         0  torch.nn.modules.upsampling.Upsample         [None, 2, 'nearest']          \n",
      " 14             [-1, 4]  1         0  ultralytics.nn.modules.conv.Concat           [1]                           \n",
      " 15                  -1  2    517632  ultralytics.nn.modules.block.C2f             [576, 192, 2]                 \n",
      " 16                  -1  1    332160  ultralytics.nn.modules.conv.Conv             [192, 192, 3, 2]              \n",
      " 17            [-1, 12]  1         0  ultralytics.nn.modules.conv.Concat           [1]                           \n",
      " 18                  -1  2   1846272  ultralytics.nn.modules.block.C2f             [576, 384, 2]                 \n",
      " 19                  -1  1   1327872  ultralytics.nn.modules.conv.Conv             [384, 384, 3, 2]              \n",
      " 20             [-1, 9]  1         0  ultralytics.nn.modules.conv.Concat           [1]                           \n",
      " 21                  -1  2   4207104  ultralytics.nn.modules.block.C2f             [960, 576, 2]                 \n",
      " 22        [15, 18, 21]  1   3782644  ultralytics.nn.modules.head.Detect           [12, [192, 384, 576]]         \n",
      "Model summary: 295 layers, 25863268 parameters, 25863252 gradients, 79.1 GFLOPs\n",
      "\n",
      "Transferred 469/475 items from pretrained weights\n",
      "\u001B[34m\u001B[1mTensorBoard: \u001B[0mStart with 'tensorboard --logdir runs/detect/train5', view at http://localhost:6006/\n",
      "Freezing layer 'model.22.dfl.conv.weight'\n",
      "\u001B[34m\u001B[1mAMP: \u001B[0mrunning Automatic Mixed Precision (AMP) checks with YOLOv8n...\n",
      "\u001B[34m\u001B[1mAMP: \u001B[0mchecks passed ✅\n",
      "\u001B[34m\u001B[1mtrain: \u001B[0mScanning /data1/home/tscl/Chess-Pieces-3-2/train/labels.cache... 16986 images, 159 backgrounds, 0 corrupt: 100%|██████████| 16986/16986 [00:00<?, ?it/s]\n",
      "\u001B[34m\u001B[1mtrain: \u001B[0mWARNING ⚠️ /data1/home/tscl/Chess-Pieces-3-2/train/images/IMG_20200829_012731_jpg.rf.48455ad76c8df3563906d75b5a548744.jpg: 1 duplicate labels removed\n",
      "\u001B[34m\u001B[1mtrain: \u001B[0mWARNING ⚠️ /data1/home/tscl/Chess-Pieces-3-2/train/images/IMG_20200829_012731_jpg.rf.c162340d6b775a4ad56d1f9eee29b857.jpg: 1 duplicate labels removed\n",
      "\u001B[34m\u001B[1mtrain: \u001B[0mWARNING ⚠️ /data1/home/tscl/Chess-Pieces-3-2/train/images/IMG_20200829_012731_jpg.rf.fb4d2d2eb5394628818cc17d0bb9166d.jpg: 1 duplicate labels removed\n",
      "\u001B[34m\u001B[1mtrain: \u001B[0mWARNING ⚠️ /data1/home/tscl/Chess-Pieces-3-2/train/images/IMG_20200829_013159_jpg.rf.471cc6fc90e599058fb811d9399129ae.jpg: 1 duplicate labels removed\n",
      "\u001B[34m\u001B[1mtrain: \u001B[0mWARNING ⚠️ /data1/home/tscl/Chess-Pieces-3-2/train/images/IMG_20200829_013159_jpg.rf.673a8f4716969977686c34c892036aa4.jpg: 1 duplicate labels removed\n",
      "\u001B[34m\u001B[1mtrain: \u001B[0mWARNING ⚠️ /data1/home/tscl/Chess-Pieces-3-2/train/images/IMG_20200829_013159_jpg.rf.c8f2fac2991e09e0f69de6e84fae92f0.jpg: 1 duplicate labels removed\n",
      "\u001B[34m\u001B[1mtrain: \u001B[0mWARNING ⚠️ /data1/home/tscl/Chess-Pieces-3-2/train/images/IMG_20200908_230810_jpg.rf.0b5fb97b5ba95e4e6c05f8bd421355f1.jpg: 2 duplicate labels removed\n",
      "\u001B[34m\u001B[1mtrain: \u001B[0mWARNING ⚠️ /data1/home/tscl/Chess-Pieces-3-2/train/images/IMG_20200908_230810_jpg.rf.0c00122a606ee06f5aa7443f8ca3d71e.jpg: 2 duplicate labels removed\n",
      "\u001B[34m\u001B[1mtrain: \u001B[0mWARNING ⚠️ /data1/home/tscl/Chess-Pieces-3-2/train/images/IMG_20200908_230810_jpg.rf.bf747a086fbb4b466b9e9a7a83568b86.jpg: 2 duplicate labels removed\n",
      "\u001B[34m\u001B[1mtrain: \u001B[0mWARNING ⚠️ /data1/home/tscl/Chess-Pieces-3-2/train/images/IMG_20200908_231320_jpg.rf.36415b922498a900c27a6497f0085d17.jpg: 1 duplicate labels removed\n",
      "\u001B[34m\u001B[1mtrain: \u001B[0mWARNING ⚠️ /data1/home/tscl/Chess-Pieces-3-2/train/images/IMG_20200908_231320_jpg.rf.3f9f1e7d0355e6750d4b1dcd4d375943.jpg: 1 duplicate labels removed\n",
      "\u001B[34m\u001B[1mtrain: \u001B[0mWARNING ⚠️ /data1/home/tscl/Chess-Pieces-3-2/train/images/IMG_20200908_231320_jpg.rf.6b1ccb15170aa37272f96fd9446bc396.jpg: 1 duplicate labels removed\n",
      "\u001B[34m\u001B[1mtrain: \u001B[0mWARNING ⚠️ /data1/home/tscl/Chess-Pieces-3-2/train/images/IMG_20200909_210543_jpg.rf.31f0cdf29e54a91404e9af8a07656278.jpg: 3 duplicate labels removed\n",
      "\u001B[34m\u001B[1mtrain: \u001B[0mWARNING ⚠️ /data1/home/tscl/Chess-Pieces-3-2/train/images/IMG_20200909_210543_jpg.rf.57935b431b5def44b8b762e9bf847c84.jpg: 3 duplicate labels removed\n",
      "\u001B[34m\u001B[1mtrain: \u001B[0mWARNING ⚠️ /data1/home/tscl/Chess-Pieces-3-2/train/images/IMG_20200909_210543_jpg.rf.a861a80f15ed06523a5e93a45429cad8.jpg: 3 duplicate labels removed\n",
      "WARNING ⚠️ Box and segment counts should be equal, but got len(segments) = 93, len(boxes) = 209886. To resolve this only boxes will be used and all segments will be removed. To avoid this please supply either a detect or segment dataset, not a detect-segment mixed dataset.\n"
     ]
    },
    {
     "name": "stderr",
     "output_type": "stream",
     "text": [
      "\u001B[34m\u001B[1mval: \u001B[0mScanning /data1/home/tscl/Chess-Pieces-3-2/valid/labels.cache... 910 images, 0 backgrounds, 0 corrupt: 100%|██████████| 910/910 [00:00<?, ?it/s]\n",
      "\u001B[34m\u001B[1moptimizer:\u001B[0m AdamW(lr=0.01, momentum=0.937) with parameter groups 77 weight(decay=0.0), 84 weight(decay=0.0005), 83 bias(decay=0.0)\n",
      "Image sizes 640 train, 640 val\n",
      "Using 8 dataloader workers\n",
      "Logging results to \u001B[1mruns/detect/train5\u001B[0m\n",
      "Starting training for 30 epochs...\n",
      "\n",
      "      Epoch    GPU_mem   box_loss   cls_loss   dfl_loss  Instances       Size\n",
      "       1/30      7.04G      1.447      1.555      1.212        108        640: 100%|██████████| 1062/1062 [04:06<00:00,  4.31it/s]\n",
      "\n",
      "      Epoch    GPU_mem   box_loss   cls_loss   dfl_loss  Instances       Size\n",
      "       2/30       7.9G      1.372      1.236      1.175        193        640: 100%|██████████| 1062/1062 [03:47<00:00,  4.66it/s]\n",
      "\n",
      "      Epoch    GPU_mem   box_loss   cls_loss   dfl_loss  Instances       Size\n",
      "       3/30      8.22G      1.309      1.086      1.141        141        640: 100%|██████████| 1062/1062 [03:42<00:00,  4.76it/s]\n",
      "\n",
      "      Epoch    GPU_mem   box_loss   cls_loss   dfl_loss  Instances       Size\n",
      "       4/30      8.44G      1.271          1      1.124        199        640: 100%|██████████| 1062/1062 [03:40<00:00,  4.81it/s]\n",
      "\n",
      "      Epoch    GPU_mem   box_loss   cls_loss   dfl_loss  Instances       Size\n",
      "       5/30      8.28G      1.236     0.9241      1.109        160        640: 100%|██████████| 1062/1062 [03:40<00:00,  4.82it/s]\n",
      "\n",
      "      Epoch    GPU_mem   box_loss   cls_loss   dfl_loss  Instances       Size\n",
      "       6/30      8.21G      1.216     0.8816      1.101        223        640: 100%|██████████| 1062/1062 [03:40<00:00,  4.82it/s]\n",
      "\n",
      "      Epoch    GPU_mem   box_loss   cls_loss   dfl_loss  Instances       Size\n",
      "       7/30       7.7G      1.192     0.8263      1.086        163        640: 100%|██████████| 1062/1062 [03:40<00:00,  4.82it/s]\n",
      "\n",
      "      Epoch    GPU_mem   box_loss   cls_loss   dfl_loss  Instances       Size\n",
      "       8/30       7.6G      1.179     0.8084      1.084         97        640: 100%|██████████| 1062/1062 [03:40<00:00,  4.82it/s]\n",
      "\n",
      "      Epoch    GPU_mem   box_loss   cls_loss   dfl_loss  Instances       Size\n",
      "       9/30      8.22G      1.159     0.7751      1.072        168        640: 100%|██████████| 1062/1062 [03:40<00:00,  4.82it/s]\n",
      "\n",
      "      Epoch    GPU_mem   box_loss   cls_loss   dfl_loss  Instances       Size\n",
      "      10/30      7.86G      1.146     0.7565      1.064        196        640: 100%|██████████| 1062/1062 [03:40<00:00,  4.82it/s]\n",
      "\n",
      "      Epoch    GPU_mem   box_loss   cls_loss   dfl_loss  Instances       Size\n",
      "      11/30      8.25G      1.135     0.7358      1.062         71        640: 100%|██████████| 1062/1062 [03:40<00:00,  4.81it/s]\n",
      "\n",
      "      Epoch    GPU_mem   box_loss   cls_loss   dfl_loss  Instances       Size\n",
      "      12/30      7.65G      1.133     0.7226      1.058         76        640: 100%|██████████| 1062/1062 [03:40<00:00,  4.81it/s]\n",
      "\n",
      "      Epoch    GPU_mem   box_loss   cls_loss   dfl_loss  Instances       Size\n",
      "      13/30      7.62G      1.117     0.7031      1.054        235        640: 100%|██████████| 1062/1062 [03:40<00:00,  4.81it/s]\n",
      "\n",
      "      Epoch    GPU_mem   box_loss   cls_loss   dfl_loss  Instances       Size\n",
      "      14/30      8.55G      1.104     0.6837      1.047        158        640: 100%|██████████| 1062/1062 [03:40<00:00,  4.81it/s]\n",
      "\n",
      "      Epoch    GPU_mem   box_loss   cls_loss   dfl_loss  Instances       Size\n",
      "      15/30      8.55G      1.104     0.6718      1.045        139        640: 100%|██████████| 1062/1062 [03:41<00:00,  4.81it/s]\n",
      "\n",
      "      Epoch    GPU_mem   box_loss   cls_loss   dfl_loss  Instances       Size\n",
      "      16/30      8.23G      1.087      0.657      1.038        127        640: 100%|██████████| 1062/1062 [03:40<00:00,  4.81it/s]\n",
      "\n",
      "      Epoch    GPU_mem   box_loss   cls_loss   dfl_loss  Instances       Size\n",
      "      17/30      8.41G      1.082     0.6501      1.036        148        640: 100%|██████████| 1062/1062 [03:40<00:00,  4.81it/s]\n",
      "\n",
      "      Epoch    GPU_mem   box_loss   cls_loss   dfl_loss  Instances       Size\n",
      "      18/30      8.23G      1.067     0.6285      1.036         82        640: 100%|██████████| 1062/1062 [03:40<00:00,  4.82it/s]\n",
      "\n",
      "      Epoch    GPU_mem   box_loss   cls_loss   dfl_loss  Instances       Size\n",
      "      19/30      8.21G      1.068     0.6204      1.029        171        640: 100%|██████████| 1062/1062 [03:40<00:00,  4.82it/s]\n",
      "\n",
      "      Epoch    GPU_mem   box_loss   cls_loss   dfl_loss  Instances       Size\n",
      "      20/30      8.17G      1.056     0.6126      1.027        249        640: 100%|██████████| 1062/1062 [03:42<00:00,  4.77it/s]\n",
      "Closing dataloader mosaic\n",
      "\n",
      "      Epoch    GPU_mem   box_loss   cls_loss   dfl_loss  Instances       Size\n",
      "      21/30       7.1G      1.038     0.5463       1.07        141        640: 100%|██████████| 1062/1062 [03:41<00:00,  4.80it/s]\n",
      "\n",
      "      Epoch    GPU_mem   box_loss   cls_loss   dfl_loss  Instances       Size\n",
      "      22/30      7.07G      1.028     0.5319      1.071        104        640: 100%|██████████| 1062/1062 [03:39<00:00,  4.85it/s]\n",
      "\n",
      "      Epoch    GPU_mem   box_loss   cls_loss   dfl_loss  Instances       Size\n",
      "      23/30      7.08G      1.013     0.5188      1.059         72        640: 100%|██████████| 1062/1062 [03:39<00:00,  4.84it/s]\n",
      "\n",
      "      Epoch    GPU_mem   box_loss   cls_loss   dfl_loss  Instances       Size\n",
      "      24/30      7.31G      1.003     0.5077      1.053        103        640: 100%|██████████| 1062/1062 [03:39<00:00,  4.85it/s]\n",
      "\n",
      "      Epoch    GPU_mem   box_loss   cls_loss   dfl_loss  Instances       Size\n",
      "      25/30      7.03G     0.9924      0.498       1.05        144        640: 100%|██████████| 1062/1062 [03:39<00:00,  4.85it/s]\n",
      "\n",
      "      Epoch    GPU_mem   box_loss   cls_loss   dfl_loss  Instances       Size\n",
      "      26/30      7.26G     0.9812     0.4834      1.041        118        640: 100%|██████████| 1062/1062 [03:39<00:00,  4.84it/s]\n",
      "\n",
      "      Epoch    GPU_mem   box_loss   cls_loss   dfl_loss  Instances       Size\n",
      "      27/30      7.29G     0.9718     0.4751      1.039         75        640: 100%|██████████| 1062/1062 [03:39<00:00,  4.84it/s]\n",
      "\n",
      "      Epoch    GPU_mem   box_loss   cls_loss   dfl_loss  Instances       Size\n",
      "      28/30      7.11G     0.9609     0.4682      1.033         85        640: 100%|██████████| 1062/1062 [03:39<00:00,  4.84it/s]\n",
      "\n",
      "      Epoch    GPU_mem   box_loss   cls_loss   dfl_loss  Instances       Size\n",
      "      29/30      7.07G     0.9523     0.4571       1.03        111        640: 100%|██████████| 1062/1062 [03:39<00:00,  4.85it/s]\n",
      "\n",
      "      Epoch    GPU_mem   box_loss   cls_loss   dfl_loss  Instances       Size\n",
      "      30/30      7.32G     0.9437     0.4485      1.024        153        640: 100%|██████████| 1062/1062 [03:39<00:00,  4.84it/s]\n",
      "                 Class     Images  Instances      Box(P          R      mAP50  mAP50-95): 100%|██████████| 29/29 [00:05<00:00,  5.31it/s]\n",
      "                   all        910      16125      0.968      0.947      0.958      0.681\n",
      "\n",
      "30 epochs completed in 1.849 hours.\n",
      "Optimizer stripped from runs/detect/train5/weights/last.pt, 52.1MB\n",
      "Optimizer stripped from runs/detect/train5/weights/best.pt, 52.1MB\n",
      "\n",
      "Validating runs/detect/train5/weights/best.pt...\n",
      "Ultralytics YOLOv8.0.195 🚀 Python-3.8.18 torch-1.12.1+cu113 CUDA:0 (Quadro RTX 6000, 24220MiB)\n",
      "Model summary (fused): 218 layers, 25846708 parameters, 0 gradients, 78.7 GFLOPs\n",
      "                 Class     Images  Instances      Box(P          R      mAP50  mAP50-95): 100%|██████████| 29/29 [00:04<00:00,  5.87it/s]\n",
      "                   all        910      16125      0.968      0.947      0.958      0.681\n",
      "          Black-bishop        910       1292      0.977      0.946      0.967      0.643\n",
      "            Black-king        910        790      0.952      0.922      0.948      0.721\n",
      "          Black-knight        910        987       0.97      0.958      0.965      0.675\n",
      "            Black-pawn        910       3831      0.979      0.955      0.966      0.648\n",
      "           Black-queen        910        786      0.949       0.93      0.948      0.729\n",
      "            Black-rook        910       1171      0.961      0.937      0.942      0.666\n",
      "          White-bishop        910       1204      0.976      0.946      0.961      0.656\n",
      "            White-king        910        887      0.969      0.956      0.965      0.735\n",
      "          White-knight        910       1125      0.974      0.943      0.948      0.663\n",
      "            White-pawn        910       2363      0.967      0.961      0.963       0.61\n",
      "           White-queen        910        931      0.978      0.957      0.971      0.748\n",
      "            White-rook        910        758      0.965      0.955      0.951      0.674\n",
      "Speed: 0.1ms preprocess, 3.6ms inference, 0.0ms loss, 0.5ms postprocess per image\n"
     ]
    },
    {
     "name": "stderr",
     "output_type": "stream",
     "text": [
      "💡 Learn more at https://docs.ultralytics.com/modes/train\n",
      "Saved runs/detect/tune/tune_scatter_plots.png\n",
      "Saved runs/detect/tune/tune_fitness.png\n",
      "\n",
      "\u001B[34m\u001B[1mTuner: \u001B[0m1/300 iterations complete ✅ (6682.37s)\n",
      "\u001B[34m\u001B[1mTuner: \u001B[0mResults saved to \u001B[1mruns/detect/tune\u001B[0m\n",
      "\u001B[34m\u001B[1mTuner: \u001B[0mBest fitness=0.70838 observed at iteration 1\n",
      "\u001B[34m\u001B[1mTuner: \u001B[0mBest fitness metrics are {'metrics/precision(B)': 0.96811, 'metrics/recall(B)': 0.94685, 'metrics/mAP50(B)': 0.95788, 'metrics/mAP50-95(B)': 0.68066, 'val/box_loss': 1.03277, 'val/cls_loss': 0.40334, 'val/dfl_loss': 1.06489, 'fitness': 0.70838}\n",
      "\u001B[34m\u001B[1mTuner: \u001B[0mBest fitness model is runs/detect/train5\n",
      "\u001B[34m\u001B[1mTuner: \u001B[0mBest fitness hyperparameters are printed below.\n",
      "\n",
      "Printing '\u001B[1m\u001B[30mruns/detect/tune/best_hyperparameters.yaml\u001B[0m'\n",
      "\n",
      "lr0: 0.01\n",
      "lrf: 0.01\n",
      "momentum: 0.937\n",
      "weight_decay: 0.0005\n",
      "warmup_epochs: 3.0\n",
      "warmup_momentum: 0.8\n",
      "box: 7.5\n",
      "cls: 0.5\n",
      "dfl: 1.5\n",
      "hsv_h: 0.015\n",
      "hsv_s: 0.7\n",
      "hsv_v: 0.4\n",
      "degrees: 0.0\n",
      "translate: 0.1\n",
      "scale: 0.5\n",
      "shear: 0.0\n",
      "perspective: 0.0\n",
      "flipud: 0.0\n",
      "fliplr: 0.5\n",
      "mosaic: 1.0\n",
      "mixup: 0.0\n",
      "copy_paste: 0.0\n",
      "\n",
      "\u001B[34m\u001B[1mTuner: \u001B[0mStarting iteration 2/300 with hyperparameters: {'lr0': 0.01002, 'lrf': 0.00995, 'momentum': 0.937, 'weight_decay': 0.0005, 'warmup_epochs': 2.99991, 'warmup_momentum': 0.79857, 'box': 7.5, 'cls': 0.4999, 'dfl': 1.49914, 'hsv_h': 0.01504, 'hsv_s': 0.7, 'hsv_v': 0.40157, 'degrees': 0.0, 'translate': 0.10052, 'scale': 0.5, 'shear': 0.0, 'perspective': 0.0, 'flipud': 0.0, 'fliplr': 0.49884, 'mosaic': 0.99376, 'mixup': 0.0, 'copy_paste': 0.0}\n",
      "Ultralytics YOLOv8.0.195 🚀 Python-3.8.18 torch-1.12.1+cu113 CUDA:0 (Quadro RTX 6000, 24220MiB)\n",
      "WARNING ⚠️ Upgrade to torch>=2.0.0 for deterministic training.\n",
      "\u001B[34m\u001B[1mengine/trainer: \u001B[0mtask=detect, mode=train, model=yolov8m.pt, data=/data1/home/tscl/Chess-Pieces-3-2/data.yaml, epochs=30, patience=50, batch=16, imgsz=640, save=False, save_period=-1, cache=False, device=0, workers=8, project=None, name=None, exist_ok=False, pretrained=True, optimizer=AdamW, verbose=True, seed=0, deterministic=True, single_cls=False, rect=False, cos_lr=False, close_mosaic=10, resume=False, amp=True, fraction=1.0, profile=False, freeze=None, overlap_mask=True, mask_ratio=4, dropout=0.0, val=False, split=val, save_json=False, save_hybrid=False, conf=None, iou=0.7, max_det=300, half=False, dnn=False, plots=False, source=None, show=False, save_txt=False, save_conf=False, save_crop=False, show_labels=True, show_conf=True, vid_stride=1, stream_buffer=False, line_width=None, visualize=False, augment=False, agnostic_nms=False, classes=None, retina_masks=False, boxes=True, format=torchscript, keras=False, optimize=False, int8=False, dynamic=False, simplify=False, opset=None, workspace=4, nms=False, lr0=0.01002, lrf=0.00995, momentum=0.937, weight_decay=0.0005, warmup_epochs=2.99991, warmup_momentum=0.79857, warmup_bias_lr=0.1, box=7.5, cls=0.4999, dfl=1.49914, pose=12.0, kobj=1.0, label_smoothing=0.0, nbs=64, hsv_h=0.01504, hsv_s=0.7, hsv_v=0.40157, degrees=0.0, translate=0.10052, scale=0.5, shear=0.0, perspective=0.0, flipud=0.0, fliplr=0.49884, mosaic=0.99376, mixup=0.0, copy_paste=0.0, cfg=None, tracker=botsort.yaml, save_dir=runs/detect/train6\n",
      "Overriding model.yaml nc=80 with nc=12\n",
      "\n",
      "                   from  n    params  module                                       arguments                     \n",
      "  0                  -1  1      1392  ultralytics.nn.modules.conv.Conv             [3, 48, 3, 2]                 \n",
      "  1                  -1  1     41664  ultralytics.nn.modules.conv.Conv             [48, 96, 3, 2]                \n",
      "  2                  -1  2    111360  ultralytics.nn.modules.block.C2f             [96, 96, 2, True]             \n",
      "  3                  -1  1    166272  ultralytics.nn.modules.conv.Conv             [96, 192, 3, 2]               \n",
      "  4                  -1  4    813312  ultralytics.nn.modules.block.C2f             [192, 192, 4, True]           \n",
      "  5                  -1  1    664320  ultralytics.nn.modules.conv.Conv             [192, 384, 3, 2]              \n",
      "  6                  -1  4   3248640  ultralytics.nn.modules.block.C2f             [384, 384, 4, True]           \n",
      "  7                  -1  1   1991808  ultralytics.nn.modules.conv.Conv             [384, 576, 3, 2]              \n",
      "  8                  -1  2   3985920  ultralytics.nn.modules.block.C2f             [576, 576, 2, True]           \n",
      "  9                  -1  1    831168  ultralytics.nn.modules.block.SPPF            [576, 576, 5]                 \n",
      " 10                  -1  1         0  torch.nn.modules.upsampling.Upsample         [None, 2, 'nearest']          \n",
      " 11             [-1, 6]  1         0  ultralytics.nn.modules.conv.Concat           [1]                           \n",
      " 12                  -1  2   1993728  ultralytics.nn.modules.block.C2f             [960, 384, 2]                 \n",
      " 13                  -1  1         0  torch.nn.modules.upsampling.Upsample         [None, 2, 'nearest']          \n",
      " 14             [-1, 4]  1         0  ultralytics.nn.modules.conv.Concat           [1]                           \n",
      " 15                  -1  2    517632  ultralytics.nn.modules.block.C2f             [576, 192, 2]                 \n",
      " 16                  -1  1    332160  ultralytics.nn.modules.conv.Conv             [192, 192, 3, 2]              \n",
      " 17            [-1, 12]  1         0  ultralytics.nn.modules.conv.Concat           [1]                           \n",
      " 18                  -1  2   1846272  ultralytics.nn.modules.block.C2f             [576, 384, 2]                 \n",
      " 19                  -1  1   1327872  ultralytics.nn.modules.conv.Conv             [384, 384, 3, 2]              \n",
      " 20             [-1, 9]  1         0  ultralytics.nn.modules.conv.Concat           [1]                           \n",
      " 21                  -1  2   4207104  ultralytics.nn.modules.block.C2f             [960, 576, 2]                 \n",
      " 22        [15, 18, 21]  1   3782644  ultralytics.nn.modules.head.Detect           [12, [192, 384, 576]]         \n",
      "Model summary: 295 layers, 25863268 parameters, 25863252 gradients, 79.1 GFLOPs\n",
      "\n",
      "Transferred 469/475 items from pretrained weights\n",
      "\u001B[34m\u001B[1mTensorBoard: \u001B[0mStart with 'tensorboard --logdir runs/detect/train6', view at http://localhost:6006/\n",
      "Freezing layer 'model.22.dfl.conv.weight'\n",
      "\u001B[34m\u001B[1mAMP: \u001B[0mrunning Automatic Mixed Precision (AMP) checks with YOLOv8n...\n",
      "\u001B[34m\u001B[1mAMP: \u001B[0mchecks passed ✅\n",
      "\u001B[34m\u001B[1mtrain: \u001B[0mScanning /data1/home/tscl/Chess-Pieces-3-2/train/labels.cache... 16986 images, 159 backgrounds, 0 corrupt: 100%|██████████| 16986/16986 [00:00<?, ?it/s]\n",
      "\u001B[34m\u001B[1mtrain: \u001B[0mWARNING ⚠️ /data1/home/tscl/Chess-Pieces-3-2/train/images/IMG_20200829_012731_jpg.rf.48455ad76c8df3563906d75b5a548744.jpg: 1 duplicate labels removed\n",
      "\u001B[34m\u001B[1mtrain: \u001B[0mWARNING ⚠️ /data1/home/tscl/Chess-Pieces-3-2/train/images/IMG_20200829_012731_jpg.rf.c162340d6b775a4ad56d1f9eee29b857.jpg: 1 duplicate labels removed\n",
      "\u001B[34m\u001B[1mtrain: \u001B[0mWARNING ⚠️ /data1/home/tscl/Chess-Pieces-3-2/train/images/IMG_20200829_012731_jpg.rf.fb4d2d2eb5394628818cc17d0bb9166d.jpg: 1 duplicate labels removed\n",
      "\u001B[34m\u001B[1mtrain: \u001B[0mWARNING ⚠️ /data1/home/tscl/Chess-Pieces-3-2/train/images/IMG_20200829_013159_jpg.rf.471cc6fc90e599058fb811d9399129ae.jpg: 1 duplicate labels removed\n",
      "\u001B[34m\u001B[1mtrain: \u001B[0mWARNING ⚠️ /data1/home/tscl/Chess-Pieces-3-2/train/images/IMG_20200829_013159_jpg.rf.673a8f4716969977686c34c892036aa4.jpg: 1 duplicate labels removed\n",
      "\u001B[34m\u001B[1mtrain: \u001B[0mWARNING ⚠️ /data1/home/tscl/Chess-Pieces-3-2/train/images/IMG_20200829_013159_jpg.rf.c8f2fac2991e09e0f69de6e84fae92f0.jpg: 1 duplicate labels removed\n",
      "\u001B[34m\u001B[1mtrain: \u001B[0mWARNING ⚠️ /data1/home/tscl/Chess-Pieces-3-2/train/images/IMG_20200908_230810_jpg.rf.0b5fb97b5ba95e4e6c05f8bd421355f1.jpg: 2 duplicate labels removed\n",
      "\u001B[34m\u001B[1mtrain: \u001B[0mWARNING ⚠️ /data1/home/tscl/Chess-Pieces-3-2/train/images/IMG_20200908_230810_jpg.rf.0c00122a606ee06f5aa7443f8ca3d71e.jpg: 2 duplicate labels removed\n",
      "\u001B[34m\u001B[1mtrain: \u001B[0mWARNING ⚠️ /data1/home/tscl/Chess-Pieces-3-2/train/images/IMG_20200908_230810_jpg.rf.bf747a086fbb4b466b9e9a7a83568b86.jpg: 2 duplicate labels removed\n",
      "\u001B[34m\u001B[1mtrain: \u001B[0mWARNING ⚠️ /data1/home/tscl/Chess-Pieces-3-2/train/images/IMG_20200908_231320_jpg.rf.36415b922498a900c27a6497f0085d17.jpg: 1 duplicate labels removed\n",
      "\u001B[34m\u001B[1mtrain: \u001B[0mWARNING ⚠️ /data1/home/tscl/Chess-Pieces-3-2/train/images/IMG_20200908_231320_jpg.rf.3f9f1e7d0355e6750d4b1dcd4d375943.jpg: 1 duplicate labels removed\n",
      "\u001B[34m\u001B[1mtrain: \u001B[0mWARNING ⚠️ /data1/home/tscl/Chess-Pieces-3-2/train/images/IMG_20200908_231320_jpg.rf.6b1ccb15170aa37272f96fd9446bc396.jpg: 1 duplicate labels removed\n",
      "\u001B[34m\u001B[1mtrain: \u001B[0mWARNING ⚠️ /data1/home/tscl/Chess-Pieces-3-2/train/images/IMG_20200909_210543_jpg.rf.31f0cdf29e54a91404e9af8a07656278.jpg: 3 duplicate labels removed\n",
      "\u001B[34m\u001B[1mtrain: \u001B[0mWARNING ⚠️ /data1/home/tscl/Chess-Pieces-3-2/train/images/IMG_20200909_210543_jpg.rf.57935b431b5def44b8b762e9bf847c84.jpg: 3 duplicate labels removed\n",
      "\u001B[34m\u001B[1mtrain: \u001B[0mWARNING ⚠️ /data1/home/tscl/Chess-Pieces-3-2/train/images/IMG_20200909_210543_jpg.rf.a861a80f15ed06523a5e93a45429cad8.jpg: 3 duplicate labels removed\n",
      "WARNING ⚠️ Box and segment counts should be equal, but got len(segments) = 93, len(boxes) = 209886. To resolve this only boxes will be used and all segments will be removed. To avoid this please supply either a detect or segment dataset, not a detect-segment mixed dataset.\n"
     ]
    },
    {
     "name": "stderr",
     "output_type": "stream",
     "text": [
      "\u001B[34m\u001B[1mval: \u001B[0mScanning /data1/home/tscl/Chess-Pieces-3-2/valid/labels.cache... 910 images, 0 backgrounds, 0 corrupt: 100%|██████████| 910/910 [00:00<?, ?it/s]\n",
      "\u001B[34m\u001B[1moptimizer:\u001B[0m AdamW(lr=0.01002, momentum=0.937) with parameter groups 77 weight(decay=0.0), 84 weight(decay=0.0005), 83 bias(decay=0.0)\n",
      "Image sizes 640 train, 640 val\n",
      "Using 8 dataloader workers\n",
      "Logging results to \u001B[1mruns/detect/train6\u001B[0m\n",
      "Starting training for 30 epochs...\n",
      "\n",
      "      Epoch    GPU_mem   box_loss   cls_loss   dfl_loss  Instances       Size\n",
      "       1/30      7.23G       1.45      1.546      1.214        161        640: 100%|██████████| 1062/1062 [04:07<00:00,  4.30it/s]\n",
      "\n",
      "      Epoch    GPU_mem   box_loss   cls_loss   dfl_loss  Instances       Size\n",
      "       2/30      7.92G      1.378      1.235      1.176        212        640: 100%|██████████| 1062/1062 [03:47<00:00,  4.66it/s]\n",
      "\n",
      "      Epoch    GPU_mem   box_loss   cls_loss   dfl_loss  Instances       Size\n",
      "       3/30      7.58G       1.31      1.092      1.144        119        640: 100%|██████████| 1062/1062 [03:42<00:00,  4.77it/s]\n",
      "\n",
      "      Epoch    GPU_mem   box_loss   cls_loss   dfl_loss  Instances       Size\n",
      "       4/30      8.16G      1.273     0.9912      1.122        143        640: 100%|██████████| 1062/1062 [03:41<00:00,  4.80it/s]\n",
      "\n",
      "      Epoch    GPU_mem   box_loss   cls_loss   dfl_loss  Instances       Size\n",
      "       5/30      8.52G      1.244     0.9324       1.11        276        640: 100%|██████████| 1062/1062 [03:40<00:00,  4.81it/s]\n",
      "\n",
      "      Epoch    GPU_mem   box_loss   cls_loss   dfl_loss  Instances       Size\n",
      "       6/30      8.34G      1.216     0.8767      1.092        173        640: 100%|██████████| 1062/1062 [03:41<00:00,  4.80it/s]\n",
      "\n",
      "      Epoch    GPU_mem   box_loss   cls_loss   dfl_loss  Instances       Size\n",
      "       7/30      7.59G      1.191     0.8351      1.089        208        640: 100%|██████████| 1062/1062 [03:40<00:00,  4.81it/s]\n",
      "\n",
      "      Epoch    GPU_mem   box_loss   cls_loss   dfl_loss  Instances       Size\n",
      "       8/30      7.99G      1.176     0.7987      1.079        157        640: 100%|██████████| 1062/1062 [03:40<00:00,  4.81it/s]\n",
      "\n",
      "      Epoch    GPU_mem   box_loss   cls_loss   dfl_loss  Instances       Size\n",
      "       9/30      7.63G      1.171     0.7762      1.075        253        640: 100%|██████████| 1062/1062 [03:41<00:00,  4.80it/s]\n",
      "\n",
      "      Epoch    GPU_mem   box_loss   cls_loss   dfl_loss  Instances       Size\n",
      "      10/30      7.85G       1.15     0.7541      1.066        107        640: 100%|██████████| 1062/1062 [03:41<00:00,  4.80it/s]\n",
      "\n",
      "      Epoch    GPU_mem   box_loss   cls_loss   dfl_loss  Instances       Size\n",
      "      11/30      7.94G      1.135     0.7369      1.061        163        640: 100%|██████████| 1062/1062 [03:41<00:00,  4.80it/s]\n",
      "\n",
      "      Epoch    GPU_mem   box_loss   cls_loss   dfl_loss  Instances       Size\n",
      "      12/30      7.91G      1.124     0.7136      1.053        188        640: 100%|██████████| 1062/1062 [03:41<00:00,  4.80it/s]\n",
      "\n",
      "      Epoch    GPU_mem   box_loss   cls_loss   dfl_loss  Instances       Size\n",
      "      13/30      8.46G      1.114     0.6972      1.051        172        640: 100%|██████████| 1062/1062 [03:40<00:00,  4.82it/s]\n",
      "\n",
      "      Epoch    GPU_mem   box_loss   cls_loss   dfl_loss  Instances       Size\n",
      "      14/30      7.87G       1.11     0.6806      1.052        166        640: 100%|██████████| 1062/1062 [03:40<00:00,  4.81it/s]\n",
      "\n",
      "      Epoch    GPU_mem   box_loss   cls_loss   dfl_loss  Instances       Size\n",
      "      15/30      7.95G      1.099      0.665      1.046        239        640: 100%|██████████| 1062/1062 [03:40<00:00,  4.82it/s]\n",
      "\n",
      "      Epoch    GPU_mem   box_loss   cls_loss   dfl_loss  Instances       Size\n",
      "      16/30      7.14G      1.087     0.6544       1.04        156        640: 100%|██████████| 1062/1062 [03:40<00:00,  4.81it/s]\n",
      "\n",
      "      Epoch    GPU_mem   box_loss   cls_loss   dfl_loss  Instances       Size\n",
      "      17/30      8.31G      1.076     0.6353      1.038        135        640: 100%|██████████| 1062/1062 [03:40<00:00,  4.82it/s]\n",
      "\n",
      "      Epoch    GPU_mem   box_loss   cls_loss   dfl_loss  Instances       Size\n",
      "      18/30       7.9G      1.068       0.63      1.035        196        640: 100%|██████████| 1062/1062 [03:40<00:00,  4.81it/s]\n",
      "\n",
      "      Epoch    GPU_mem   box_loss   cls_loss   dfl_loss  Instances       Size\n",
      "      19/30      7.65G      1.063     0.6172       1.03        167        640: 100%|██████████| 1062/1062 [03:40<00:00,  4.81it/s]\n",
      "\n",
      "      Epoch    GPU_mem   box_loss   cls_loss   dfl_loss  Instances       Size\n",
      "      20/30      8.29G      1.051     0.6099      1.024        117        640: 100%|██████████| 1062/1062 [03:40<00:00,  4.82it/s]\n",
      "Closing dataloader mosaic\n",
      "\n",
      "      Epoch    GPU_mem   box_loss   cls_loss   dfl_loss  Instances       Size\n",
      "      21/30       7.1G      1.035     0.5414      1.068        141        640: 100%|██████████| 1062/1062 [03:39<00:00,  4.83it/s]\n",
      "\n",
      "      Epoch    GPU_mem   box_loss   cls_loss   dfl_loss  Instances       Size\n",
      "      22/30      7.07G      1.025      0.532       1.07        104        640: 100%|██████████| 1062/1062 [03:38<00:00,  4.85it/s]\n",
      "\n",
      "      Epoch    GPU_mem   box_loss   cls_loss   dfl_loss  Instances       Size\n",
      "      23/30      7.08G      1.008     0.5135      1.057         72        640: 100%|██████████| 1062/1062 [03:38<00:00,  4.86it/s]\n",
      "\n",
      "      Epoch    GPU_mem   box_loss   cls_loss   dfl_loss  Instances       Size\n",
      "      24/30      7.31G     0.9987     0.5045      1.052        103        640: 100%|██████████| 1062/1062 [03:38<00:00,  4.85it/s]\n",
      "\n",
      "      Epoch    GPU_mem   box_loss   cls_loss   dfl_loss  Instances       Size\n",
      "      25/30      7.03G     0.9881     0.4948      1.048        144        640: 100%|██████████| 1062/1062 [03:38<00:00,  4.86it/s]\n",
      "\n",
      "      Epoch    GPU_mem   box_loss   cls_loss   dfl_loss  Instances       Size\n",
      "      26/30      7.26G     0.9761     0.4794      1.039        118        640: 100%|██████████| 1062/1062 [03:38<00:00,  4.86it/s]\n",
      "\n",
      "      Epoch    GPU_mem   box_loss   cls_loss   dfl_loss  Instances       Size\n",
      "      27/30      7.29G     0.9655     0.4719      1.037         75        640: 100%|██████████| 1062/1062 [03:38<00:00,  4.86it/s]\n",
      "\n",
      "      Epoch    GPU_mem   box_loss   cls_loss   dfl_loss  Instances       Size\n",
      "      28/30      7.11G     0.9549     0.4638       1.03         85        640: 100%|██████████| 1062/1062 [03:38<00:00,  4.86it/s]\n",
      "\n",
      "      Epoch    GPU_mem   box_loss   cls_loss   dfl_loss  Instances       Size\n",
      "      29/30      7.07G     0.9439     0.4517      1.026        111        640: 100%|██████████| 1062/1062 [03:38<00:00,  4.85it/s]\n",
      "\n",
      "      Epoch    GPU_mem   box_loss   cls_loss   dfl_loss  Instances       Size\n",
      "      30/30      7.32G     0.9374     0.4435      1.021        153        640: 100%|██████████| 1062/1062 [03:38<00:00,  4.85it/s]\n",
      "                 Class     Images  Instances      Box(P          R      mAP50  mAP50-95): 100%|██████████| 29/29 [00:05<00:00,  5.31it/s]\n",
      "                   all        910      16125       0.97      0.949      0.961      0.685\n",
      "\n",
      "30 epochs completed in 1.848 hours.\n",
      "Optimizer stripped from runs/detect/train6/weights/last.pt, 52.1MB\n",
      "Optimizer stripped from runs/detect/train6/weights/best.pt, 52.1MB\n",
      "\n",
      "Validating runs/detect/train6/weights/best.pt...\n",
      "Ultralytics YOLOv8.0.195 🚀 Python-3.8.18 torch-1.12.1+cu113 CUDA:0 (Quadro RTX 6000, 24220MiB)\n",
      "Model summary (fused): 218 layers, 25846708 parameters, 0 gradients, 78.7 GFLOPs\n",
      "                 Class     Images  Instances      Box(P          R      mAP50  mAP50-95): 100%|██████████| 29/29 [00:04<00:00,  5.85it/s]\n",
      "                   all        910      16125       0.97      0.949      0.961      0.685\n",
      "          Black-bishop        910       1292      0.977      0.945      0.964      0.642\n",
      "            Black-king        910        790      0.957      0.936      0.957      0.726\n",
      "          Black-knight        910        987      0.976      0.962      0.968      0.681\n",
      "            Black-pawn        910       3831      0.979      0.952      0.966      0.657\n",
      "           Black-queen        910        786      0.963      0.939      0.957      0.732\n",
      "            Black-rook        910       1171       0.96      0.939      0.945      0.672\n",
      "          White-bishop        910       1204      0.977      0.953      0.966      0.657\n",
      "            White-king        910        887      0.965      0.958      0.967      0.738\n",
      "          White-knight        910       1125      0.971       0.94      0.946      0.661\n",
      "            White-pawn        910       2363      0.967      0.959      0.968      0.624\n",
      "           White-queen        910        931      0.982      0.954      0.973      0.751\n",
      "            White-rook        910        758      0.962      0.955       0.95      0.678\n",
      "Speed: 0.1ms preprocess, 3.6ms inference, 0.0ms loss, 0.5ms postprocess per image\n",
      "💡 Learn more at https://docs.ultralytics.com/modes/train\n"
     ]
    },
    {
     "name": "stderr",
     "output_type": "stream",
     "text": [
      "Saved runs/detect/tune/tune_scatter_plots.png\n",
      "Saved runs/detect/tune/tune_fitness.png\n",
      "\n",
      "\u001B[34m\u001B[1mTuner: \u001B[0m2/300 iterations complete ✅ (13361.46s)\n",
      "\u001B[34m\u001B[1mTuner: \u001B[0mResults saved to \u001B[1mruns/detect/tune\u001B[0m\n",
      "\u001B[34m\u001B[1mTuner: \u001B[0mBest fitness=0.71247 observed at iteration 2\n",
      "\u001B[34m\u001B[1mTuner: \u001B[0mBest fitness metrics are {'metrics/precision(B)': 0.96983, 'metrics/recall(B)': 0.94933, 'metrics/mAP50(B)': 0.96066, 'metrics/mAP50-95(B)': 0.6849, 'val/box_loss': 1.02362, 'val/cls_loss': 0.4006, 'val/dfl_loss': 1.06558, 'fitness': 0.71247}\n",
      "\u001B[34m\u001B[1mTuner: \u001B[0mBest fitness model is runs/detect/train6\n",
      "\u001B[34m\u001B[1mTuner: \u001B[0mBest fitness hyperparameters are printed below.\n",
      "\n",
      "Printing '\u001B[1m\u001B[30mruns/detect/tune/best_hyperparameters.yaml\u001B[0m'\n",
      "\n",
      "lr0: 0.01002\n",
      "lrf: 0.00995\n",
      "momentum: 0.937\n",
      "weight_decay: 0.0005\n",
      "warmup_epochs: 2.99991\n",
      "warmup_momentum: 0.79857\n",
      "box: 7.5\n",
      "cls: 0.4999\n",
      "dfl: 1.49914\n",
      "hsv_h: 0.01504\n",
      "hsv_s: 0.7\n",
      "hsv_v: 0.40157\n",
      "degrees: 0.0\n",
      "translate: 0.10052\n",
      "scale: 0.5\n",
      "shear: 0.0\n",
      "perspective: 0.0\n",
      "flipud: 0.0\n",
      "fliplr: 0.49884\n",
      "mosaic: 0.99376\n",
      "mixup: 0.0\n",
      "copy_paste: 0.0\n",
      "\n",
      "\u001B[34m\u001B[1mTuner: \u001B[0mStarting iteration 3/300 with hyperparameters: {'lr0': 0.01551, 'lrf': 0.0113, 'momentum': 0.94206, 'weight_decay': 0.0005, 'warmup_epochs': 2.87171, 'warmup_momentum': 0.9446, 'box': 7.5, 'cls': 0.4999, 'dfl': 1.49914, 'hsv_h': 0.01504, 'hsv_s': 0.64802, 'hsv_v': 0.44319, 'degrees': 0.0, 'translate': 0.11019, 'scale': 0.48799, 'shear': 0.0, 'perspective': 0.0, 'flipud': 0.0, 'fliplr': 0.53457, 'mosaic': 0.99376, 'mixup': 0.0, 'copy_paste': 0.0}\n",
      "Ultralytics YOLOv8.0.195 🚀 Python-3.8.18 torch-1.12.1+cu113 CUDA:0 (Quadro RTX 6000, 24220MiB)\n",
      "WARNING ⚠️ Upgrade to torch>=2.0.0 for deterministic training.\n",
      "\u001B[34m\u001B[1mengine/trainer: \u001B[0mtask=detect, mode=train, model=yolov8m.pt, data=/data1/home/tscl/Chess-Pieces-3-2/data.yaml, epochs=30, patience=50, batch=16, imgsz=640, save=False, save_period=-1, cache=False, device=0, workers=8, project=None, name=None, exist_ok=False, pretrained=True, optimizer=AdamW, verbose=True, seed=0, deterministic=True, single_cls=False, rect=False, cos_lr=False, close_mosaic=10, resume=False, amp=True, fraction=1.0, profile=False, freeze=None, overlap_mask=True, mask_ratio=4, dropout=0.0, val=False, split=val, save_json=False, save_hybrid=False, conf=None, iou=0.7, max_det=300, half=False, dnn=False, plots=False, source=None, show=False, save_txt=False, save_conf=False, save_crop=False, show_labels=True, show_conf=True, vid_stride=1, stream_buffer=False, line_width=None, visualize=False, augment=False, agnostic_nms=False, classes=None, retina_masks=False, boxes=True, format=torchscript, keras=False, optimize=False, int8=False, dynamic=False, simplify=False, opset=None, workspace=4, nms=False, lr0=0.01551, lrf=0.0113, momentum=0.94206, weight_decay=0.0005, warmup_epochs=2.87171, warmup_momentum=0.9446, warmup_bias_lr=0.1, box=7.5, cls=0.4999, dfl=1.49914, pose=12.0, kobj=1.0, label_smoothing=0.0, nbs=64, hsv_h=0.01504, hsv_s=0.64802, hsv_v=0.44319, degrees=0.0, translate=0.11019, scale=0.48799, shear=0.0, perspective=0.0, flipud=0.0, fliplr=0.53457, mosaic=0.99376, mixup=0.0, copy_paste=0.0, cfg=None, tracker=botsort.yaml, save_dir=runs/detect/train7\n",
      "Overriding model.yaml nc=80 with nc=12\n",
      "\n",
      "                   from  n    params  module                                       arguments                     \n",
      "  0                  -1  1      1392  ultralytics.nn.modules.conv.Conv             [3, 48, 3, 2]                 \n",
      "  1                  -1  1     41664  ultralytics.nn.modules.conv.Conv             [48, 96, 3, 2]                \n",
      "  2                  -1  2    111360  ultralytics.nn.modules.block.C2f             [96, 96, 2, True]             \n",
      "  3                  -1  1    166272  ultralytics.nn.modules.conv.Conv             [96, 192, 3, 2]               \n",
      "  4                  -1  4    813312  ultralytics.nn.modules.block.C2f             [192, 192, 4, True]           \n",
      "  5                  -1  1    664320  ultralytics.nn.modules.conv.Conv             [192, 384, 3, 2]              \n",
      "  6                  -1  4   3248640  ultralytics.nn.modules.block.C2f             [384, 384, 4, True]           \n",
      "  7                  -1  1   1991808  ultralytics.nn.modules.conv.Conv             [384, 576, 3, 2]              \n",
      "  8                  -1  2   3985920  ultralytics.nn.modules.block.C2f             [576, 576, 2, True]           \n",
      "  9                  -1  1    831168  ultralytics.nn.modules.block.SPPF            [576, 576, 5]                 \n",
      " 10                  -1  1         0  torch.nn.modules.upsampling.Upsample         [None, 2, 'nearest']          \n",
      " 11             [-1, 6]  1         0  ultralytics.nn.modules.conv.Concat           [1]                           \n",
      " 12                  -1  2   1993728  ultralytics.nn.modules.block.C2f             [960, 384, 2]                 \n",
      " 13                  -1  1         0  torch.nn.modules.upsampling.Upsample         [None, 2, 'nearest']          \n",
      " 14             [-1, 4]  1         0  ultralytics.nn.modules.conv.Concat           [1]                           \n",
      " 15                  -1  2    517632  ultralytics.nn.modules.block.C2f             [576, 192, 2]                 \n",
      " 16                  -1  1    332160  ultralytics.nn.modules.conv.Conv             [192, 192, 3, 2]              \n",
      " 17            [-1, 12]  1         0  ultralytics.nn.modules.conv.Concat           [1]                           \n",
      " 18                  -1  2   1846272  ultralytics.nn.modules.block.C2f             [576, 384, 2]                 \n",
      " 19                  -1  1   1327872  ultralytics.nn.modules.conv.Conv             [384, 384, 3, 2]              \n",
      " 20             [-1, 9]  1         0  ultralytics.nn.modules.conv.Concat           [1]                           \n",
      " 21                  -1  2   4207104  ultralytics.nn.modules.block.C2f             [960, 576, 2]                 \n",
      " 22        [15, 18, 21]  1   3782644  ultralytics.nn.modules.head.Detect           [12, [192, 384, 576]]         \n",
      "Model summary: 295 layers, 25863268 parameters, 25863252 gradients, 79.1 GFLOPs\n",
      "\n",
      "Transferred 469/475 items from pretrained weights\n",
      "\u001B[34m\u001B[1mTensorBoard: \u001B[0mStart with 'tensorboard --logdir runs/detect/train7', view at http://localhost:6006/\n",
      "Freezing layer 'model.22.dfl.conv.weight'\n",
      "\u001B[34m\u001B[1mAMP: \u001B[0mrunning Automatic Mixed Precision (AMP) checks with YOLOv8n...\n",
      "\u001B[34m\u001B[1mAMP: \u001B[0mchecks passed ✅\n",
      "\u001B[34m\u001B[1mtrain: \u001B[0mScanning /data1/home/tscl/Chess-Pieces-3-2/train/labels.cache... 16986 images, 159 backgrounds, 0 corrupt: 100%|██████████| 16986/16986 [00:00<?, ?it/s]\n",
      "\u001B[34m\u001B[1mtrain: \u001B[0mWARNING ⚠️ /data1/home/tscl/Chess-Pieces-3-2/train/images/IMG_20200829_012731_jpg.rf.48455ad76c8df3563906d75b5a548744.jpg: 1 duplicate labels removed\n",
      "\u001B[34m\u001B[1mtrain: \u001B[0mWARNING ⚠️ /data1/home/tscl/Chess-Pieces-3-2/train/images/IMG_20200829_012731_jpg.rf.c162340d6b775a4ad56d1f9eee29b857.jpg: 1 duplicate labels removed\n",
      "\u001B[34m\u001B[1mtrain: \u001B[0mWARNING ⚠️ /data1/home/tscl/Chess-Pieces-3-2/train/images/IMG_20200829_012731_jpg.rf.fb4d2d2eb5394628818cc17d0bb9166d.jpg: 1 duplicate labels removed\n",
      "\u001B[34m\u001B[1mtrain: \u001B[0mWARNING ⚠️ /data1/home/tscl/Chess-Pieces-3-2/train/images/IMG_20200829_013159_jpg.rf.471cc6fc90e599058fb811d9399129ae.jpg: 1 duplicate labels removed\n",
      "\u001B[34m\u001B[1mtrain: \u001B[0mWARNING ⚠️ /data1/home/tscl/Chess-Pieces-3-2/train/images/IMG_20200829_013159_jpg.rf.673a8f4716969977686c34c892036aa4.jpg: 1 duplicate labels removed\n",
      "\u001B[34m\u001B[1mtrain: \u001B[0mWARNING ⚠️ /data1/home/tscl/Chess-Pieces-3-2/train/images/IMG_20200829_013159_jpg.rf.c8f2fac2991e09e0f69de6e84fae92f0.jpg: 1 duplicate labels removed\n",
      "\u001B[34m\u001B[1mtrain: \u001B[0mWARNING ⚠️ /data1/home/tscl/Chess-Pieces-3-2/train/images/IMG_20200908_230810_jpg.rf.0b5fb97b5ba95e4e6c05f8bd421355f1.jpg: 2 duplicate labels removed\n",
      "\u001B[34m\u001B[1mtrain: \u001B[0mWARNING ⚠️ /data1/home/tscl/Chess-Pieces-3-2/train/images/IMG_20200908_230810_jpg.rf.0c00122a606ee06f5aa7443f8ca3d71e.jpg: 2 duplicate labels removed\n",
      "\u001B[34m\u001B[1mtrain: \u001B[0mWARNING ⚠️ /data1/home/tscl/Chess-Pieces-3-2/train/images/IMG_20200908_230810_jpg.rf.bf747a086fbb4b466b9e9a7a83568b86.jpg: 2 duplicate labels removed\n",
      "\u001B[34m\u001B[1mtrain: \u001B[0mWARNING ⚠️ /data1/home/tscl/Chess-Pieces-3-2/train/images/IMG_20200908_231320_jpg.rf.36415b922498a900c27a6497f0085d17.jpg: 1 duplicate labels removed\n",
      "\u001B[34m\u001B[1mtrain: \u001B[0mWARNING ⚠️ /data1/home/tscl/Chess-Pieces-3-2/train/images/IMG_20200908_231320_jpg.rf.3f9f1e7d0355e6750d4b1dcd4d375943.jpg: 1 duplicate labels removed\n",
      "\u001B[34m\u001B[1mtrain: \u001B[0mWARNING ⚠️ /data1/home/tscl/Chess-Pieces-3-2/train/images/IMG_20200908_231320_jpg.rf.6b1ccb15170aa37272f96fd9446bc396.jpg: 1 duplicate labels removed\n",
      "\u001B[34m\u001B[1mtrain: \u001B[0mWARNING ⚠️ /data1/home/tscl/Chess-Pieces-3-2/train/images/IMG_20200909_210543_jpg.rf.31f0cdf29e54a91404e9af8a07656278.jpg: 3 duplicate labels removed\n",
      "\u001B[34m\u001B[1mtrain: \u001B[0mWARNING ⚠️ /data1/home/tscl/Chess-Pieces-3-2/train/images/IMG_20200909_210543_jpg.rf.57935b431b5def44b8b762e9bf847c84.jpg: 3 duplicate labels removed\n",
      "\u001B[34m\u001B[1mtrain: \u001B[0mWARNING ⚠️ /data1/home/tscl/Chess-Pieces-3-2/train/images/IMG_20200909_210543_jpg.rf.a861a80f15ed06523a5e93a45429cad8.jpg: 3 duplicate labels removed\n",
      "WARNING ⚠️ Box and segment counts should be equal, but got len(segments) = 93, len(boxes) = 209886. To resolve this only boxes will be used and all segments will be removed. To avoid this please supply either a detect or segment dataset, not a detect-segment mixed dataset.\n"
     ]
    },
    {
     "name": "stderr",
     "output_type": "stream",
     "text": [
      "\u001B[34m\u001B[1mval: \u001B[0mScanning /data1/home/tscl/Chess-Pieces-3-2/valid/labels.cache... 910 images, 0 backgrounds, 0 corrupt: 100%|██████████| 910/910 [00:00<?, ?it/s]\n",
      "\u001B[34m\u001B[1moptimizer:\u001B[0m AdamW(lr=0.01551, momentum=0.94206) with parameter groups 77 weight(decay=0.0), 84 weight(decay=0.0005), 83 bias(decay=0.0)\n",
      "Image sizes 640 train, 640 val\n",
      "Using 8 dataloader workers\n",
      "Logging results to \u001B[1mruns/detect/train7\u001B[0m\n",
      "Starting training for 30 epochs...\n",
      "\n",
      "      Epoch    GPU_mem   box_loss   cls_loss   dfl_loss  Instances       Size\n",
      "       1/30      7.03G       1.49      1.639      1.242        311        640:  84%|████████▍ | 894/1062 [03:34<00:40,  4.17it/s]\n",
      "Traceback (most recent call last):\n",
      "  File \"/data1/home/tscl/anaconda3/envs/envclara/bin/yolo\", line 8, in <module>\n",
      "    sys.exit(entrypoint())\n",
      "  File \"/data1/home/tscl/anaconda3/envs/envclara/lib/python3.8/site-packages/ultralytics/cfg/__init__.py\", line 446, in entrypoint\n",
      "    getattr(model, mode)(**overrides)  # default args from model\n",
      "  File \"/data1/home/tscl/anaconda3/envs/envclara/lib/python3.8/site-packages/ultralytics/engine/model.py\", line 347, in train\n",
      "    self.trainer.train()\n",
      "  File \"/data1/home/tscl/anaconda3/envs/envclara/lib/python3.8/site-packages/ultralytics/engine/trainer.py\", line 195, in train\n",
      "    self._do_train(world_size)\n",
      "  File \"/data1/home/tscl/anaconda3/envs/envclara/lib/python3.8/site-packages/ultralytics/engine/trainer.py\", line 359, in _do_train\n",
      "    self.optimizer_step()\n",
      "  File \"/data1/home/tscl/anaconda3/envs/envclara/lib/python3.8/site-packages/ultralytics/engine/trainer.py\", line 477, in optimizer_step\n",
      "    torch.nn.utils.clip_grad_norm_(self.model.parameters(), max_norm=10.0)  # clip gradients\n",
      "  File \"/data1/home/tscl/anaconda3/envs/envclara/lib/python3.8/site-packages/torch/nn/utils/clip_grad.py\", line 42, in clip_grad_norm_\n",
      "    total_norm = torch.norm(torch.stack([torch.norm(p.grad.detach(), norm_type).to(device) for p in parameters]), norm_type)\n",
      "  File \"/data1/home/tscl/anaconda3/envs/envclara/lib/python3.8/site-packages/torch/nn/utils/clip_grad.py\", line 42, in <listcomp>\n",
      "    total_norm = torch.norm(torch.stack([torch.norm(p.grad.detach(), norm_type).to(device) for p in parameters]), norm_type)\n",
      "  File \"/data1/home/tscl/anaconda3/envs/envclara/lib/python3.8/site-packages/torch/functional.py\", line 1451, in norm\n",
      "    return _VF.norm(input, p, dim=_dim, keepdim=keepdim)  # type: ignore[attr-defined]\n",
      "KeyboardInterrupt\n"
     ]
    },
    {
     "ename": "KeyboardInterrupt",
     "evalue": "",
     "output_type": "error",
     "traceback": [
      "\u001B[0;31m---------------------------------------------------------------------------\u001B[0m",
      "\u001B[0;31mKeyboardInterrupt\u001B[0m                         Traceback (most recent call last)",
      "Cell \u001B[0;32mIn[4], line 5\u001B[0m\n\u001B[1;32m      2\u001B[0m model \u001B[38;5;241m=\u001B[39m YOLO(\u001B[38;5;124m'\u001B[39m\u001B[38;5;124myolov8m.pt\u001B[39m\u001B[38;5;124m'\u001B[39m)\n\u001B[1;32m      4\u001B[0m \u001B[38;5;66;03m# Tune hyperparameters on COCO8 for 30 epochs\u001B[39;00m\n\u001B[0;32m----> 5\u001B[0m \u001B[43mmodel\u001B[49m\u001B[38;5;241;43m.\u001B[39;49m\u001B[43mtune\u001B[49m\u001B[43m(\u001B[49m\u001B[43mdata\u001B[49m\u001B[38;5;241;43m=\u001B[39;49m\u001B[38;5;124;43m'\u001B[39;49m\u001B[38;5;124;43m/data1/home/tscl/Chess-Pieces-3-2/data.yaml\u001B[39;49m\u001B[38;5;124;43m'\u001B[39;49m\u001B[43m,\u001B[49m\u001B[43m \u001B[49m\u001B[43mepochs\u001B[49m\u001B[38;5;241;43m=\u001B[39;49m\u001B[38;5;241;43m30\u001B[39;49m\u001B[43m,\u001B[49m\u001B[43m \u001B[49m\u001B[43miterations\u001B[49m\u001B[38;5;241;43m=\u001B[39;49m\u001B[38;5;241;43m300\u001B[39;49m\u001B[43m,\u001B[49m\u001B[43m \u001B[49m\u001B[43moptimizer\u001B[49m\u001B[38;5;241;43m=\u001B[39;49m\u001B[38;5;124;43m'\u001B[39;49m\u001B[38;5;124;43mAdamW\u001B[39;49m\u001B[38;5;124;43m'\u001B[39;49m\u001B[43m,\u001B[49m\u001B[43m \u001B[49m\u001B[43mplots\u001B[49m\u001B[38;5;241;43m=\u001B[39;49m\u001B[38;5;28;43;01mFalse\u001B[39;49;00m\u001B[43m,\u001B[49m\u001B[43m \u001B[49m\u001B[43msave\u001B[49m\u001B[38;5;241;43m=\u001B[39;49m\u001B[38;5;28;43;01mFalse\u001B[39;49;00m\u001B[43m,\u001B[49m\u001B[43m \u001B[49m\u001B[43mval\u001B[49m\u001B[38;5;241;43m=\u001B[39;49m\u001B[38;5;28;43;01mFalse\u001B[39;49;00m\u001B[43m,\u001B[49m\u001B[43m \u001B[49m\u001B[43mdevice\u001B[49m\u001B[38;5;241;43m=\u001B[39;49m\u001B[38;5;241;43m0\u001B[39;49m\u001B[43m)\u001B[49m\n",
      "File \u001B[0;32m~/anaconda3/envs/envclara/lib/python3.8/site-packages/ultralytics/engine/model.py:372\u001B[0m, in \u001B[0;36mModel.tune\u001B[0;34m(self, use_ray, iterations, *args, **kwargs)\u001B[0m\n\u001B[1;32m    370\u001B[0m custom \u001B[38;5;241m=\u001B[39m {}  \u001B[38;5;66;03m# method defaults\u001B[39;00m\n\u001B[1;32m    371\u001B[0m args \u001B[38;5;241m=\u001B[39m {\u001B[38;5;241m*\u001B[39m\u001B[38;5;241m*\u001B[39m\u001B[38;5;28mself\u001B[39m\u001B[38;5;241m.\u001B[39moverrides, \u001B[38;5;241m*\u001B[39m\u001B[38;5;241m*\u001B[39mcustom, \u001B[38;5;241m*\u001B[39m\u001B[38;5;241m*\u001B[39mkwargs, \u001B[38;5;124m'\u001B[39m\u001B[38;5;124mmode\u001B[39m\u001B[38;5;124m'\u001B[39m: \u001B[38;5;124m'\u001B[39m\u001B[38;5;124mtrain\u001B[39m\u001B[38;5;124m'\u001B[39m}  \u001B[38;5;66;03m# highest priority args on the right\u001B[39;00m\n\u001B[0;32m--> 372\u001B[0m \u001B[38;5;28;01mreturn\u001B[39;00m \u001B[43mTuner\u001B[49m\u001B[43m(\u001B[49m\u001B[43margs\u001B[49m\u001B[38;5;241;43m=\u001B[39;49m\u001B[43margs\u001B[49m\u001B[43m,\u001B[49m\u001B[43m \u001B[49m\u001B[43m_callbacks\u001B[49m\u001B[38;5;241;43m=\u001B[39;49m\u001B[38;5;28;43mself\u001B[39;49m\u001B[38;5;241;43m.\u001B[39;49m\u001B[43mcallbacks\u001B[49m\u001B[43m)\u001B[49m\u001B[43m(\u001B[49m\u001B[43mmodel\u001B[49m\u001B[38;5;241;43m=\u001B[39;49m\u001B[38;5;28;43mself\u001B[39;49m\u001B[43m,\u001B[49m\u001B[43m \u001B[49m\u001B[43miterations\u001B[49m\u001B[38;5;241;43m=\u001B[39;49m\u001B[43miterations\u001B[49m\u001B[43m)\u001B[49m\n",
      "File \u001B[0;32m~/anaconda3/envs/envclara/lib/python3.8/site-packages/ultralytics/engine/tuner.py:182\u001B[0m, in \u001B[0;36mTuner.__call__\u001B[0;34m(self, model, iterations, cleanup)\u001B[0m\n\u001B[1;32m    180\u001B[0m weights_dir \u001B[38;5;241m=\u001B[39m save_dir \u001B[38;5;241m/\u001B[39m \u001B[38;5;124m'\u001B[39m\u001B[38;5;124mweights\u001B[39m\u001B[38;5;124m'\u001B[39m\n\u001B[1;32m    181\u001B[0m cmd \u001B[38;5;241m=\u001B[39m [\u001B[38;5;124m'\u001B[39m\u001B[38;5;124myolo\u001B[39m\u001B[38;5;124m'\u001B[39m, \u001B[38;5;124m'\u001B[39m\u001B[38;5;124mtrain\u001B[39m\u001B[38;5;124m'\u001B[39m, \u001B[38;5;241m*\u001B[39m(\u001B[38;5;124mf\u001B[39m\u001B[38;5;124m'\u001B[39m\u001B[38;5;132;01m{\u001B[39;00mk\u001B[38;5;132;01m}\u001B[39;00m\u001B[38;5;124m=\u001B[39m\u001B[38;5;132;01m{\u001B[39;00mv\u001B[38;5;132;01m}\u001B[39;00m\u001B[38;5;124m'\u001B[39m \u001B[38;5;28;01mfor\u001B[39;00m k, v \u001B[38;5;129;01min\u001B[39;00m train_args\u001B[38;5;241m.\u001B[39mitems())]\n\u001B[0;32m--> 182\u001B[0m \u001B[38;5;28;01massert\u001B[39;00m \u001B[43msubprocess\u001B[49m\u001B[38;5;241;43m.\u001B[39;49m\u001B[43mrun\u001B[49m\u001B[43m(\u001B[49m\u001B[43mcmd\u001B[49m\u001B[43m,\u001B[49m\u001B[43m \u001B[49m\u001B[43mcheck\u001B[49m\u001B[38;5;241;43m=\u001B[39;49m\u001B[38;5;28;43;01mTrue\u001B[39;49;00m\u001B[43m)\u001B[49m\u001B[38;5;241m.\u001B[39mreturncode \u001B[38;5;241m==\u001B[39m \u001B[38;5;241m0\u001B[39m, \u001B[38;5;124m'\u001B[39m\u001B[38;5;124mtraining failed\u001B[39m\u001B[38;5;124m'\u001B[39m\n\u001B[1;32m    183\u001B[0m ckpt_file \u001B[38;5;241m=\u001B[39m weights_dir \u001B[38;5;241m/\u001B[39m (\u001B[38;5;124m'\u001B[39m\u001B[38;5;124mbest.pt\u001B[39m\u001B[38;5;124m'\u001B[39m \u001B[38;5;28;01mif\u001B[39;00m (weights_dir \u001B[38;5;241m/\u001B[39m \u001B[38;5;124m'\u001B[39m\u001B[38;5;124mbest.pt\u001B[39m\u001B[38;5;124m'\u001B[39m)\u001B[38;5;241m.\u001B[39mexists() \u001B[38;5;28;01melse\u001B[39;00m \u001B[38;5;124m'\u001B[39m\u001B[38;5;124mlast.pt\u001B[39m\u001B[38;5;124m'\u001B[39m)\n\u001B[1;32m    184\u001B[0m metrics \u001B[38;5;241m=\u001B[39m torch\u001B[38;5;241m.\u001B[39mload(ckpt_file)[\u001B[38;5;124m'\u001B[39m\u001B[38;5;124mtrain_metrics\u001B[39m\u001B[38;5;124m'\u001B[39m]\n",
      "File \u001B[0;32m~/anaconda3/envs/envclara/lib/python3.8/subprocess.py:495\u001B[0m, in \u001B[0;36mrun\u001B[0;34m(input, capture_output, timeout, check, *popenargs, **kwargs)\u001B[0m\n\u001B[1;32m    493\u001B[0m \u001B[38;5;28;01mwith\u001B[39;00m Popen(\u001B[38;5;241m*\u001B[39mpopenargs, \u001B[38;5;241m*\u001B[39m\u001B[38;5;241m*\u001B[39mkwargs) \u001B[38;5;28;01mas\u001B[39;00m process:\n\u001B[1;32m    494\u001B[0m     \u001B[38;5;28;01mtry\u001B[39;00m:\n\u001B[0;32m--> 495\u001B[0m         stdout, stderr \u001B[38;5;241m=\u001B[39m \u001B[43mprocess\u001B[49m\u001B[38;5;241;43m.\u001B[39;49m\u001B[43mcommunicate\u001B[49m\u001B[43m(\u001B[49m\u001B[38;5;28;43minput\u001B[39;49m\u001B[43m,\u001B[49m\u001B[43m \u001B[49m\u001B[43mtimeout\u001B[49m\u001B[38;5;241;43m=\u001B[39;49m\u001B[43mtimeout\u001B[49m\u001B[43m)\u001B[49m\n\u001B[1;32m    496\u001B[0m     \u001B[38;5;28;01mexcept\u001B[39;00m TimeoutExpired \u001B[38;5;28;01mas\u001B[39;00m exc:\n\u001B[1;32m    497\u001B[0m         process\u001B[38;5;241m.\u001B[39mkill()\n",
      "File \u001B[0;32m~/anaconda3/envs/envclara/lib/python3.8/subprocess.py:1020\u001B[0m, in \u001B[0;36mPopen.communicate\u001B[0;34m(self, input, timeout)\u001B[0m\n\u001B[1;32m   1018\u001B[0m         stderr \u001B[38;5;241m=\u001B[39m \u001B[38;5;28mself\u001B[39m\u001B[38;5;241m.\u001B[39mstderr\u001B[38;5;241m.\u001B[39mread()\n\u001B[1;32m   1019\u001B[0m         \u001B[38;5;28mself\u001B[39m\u001B[38;5;241m.\u001B[39mstderr\u001B[38;5;241m.\u001B[39mclose()\n\u001B[0;32m-> 1020\u001B[0m     \u001B[38;5;28;43mself\u001B[39;49m\u001B[38;5;241;43m.\u001B[39;49m\u001B[43mwait\u001B[49m\u001B[43m(\u001B[49m\u001B[43m)\u001B[49m\n\u001B[1;32m   1021\u001B[0m \u001B[38;5;28;01melse\u001B[39;00m:\n\u001B[1;32m   1022\u001B[0m     \u001B[38;5;28;01mif\u001B[39;00m timeout \u001B[38;5;129;01mis\u001B[39;00m \u001B[38;5;129;01mnot\u001B[39;00m \u001B[38;5;28;01mNone\u001B[39;00m:\n",
      "File \u001B[0;32m~/anaconda3/envs/envclara/lib/python3.8/subprocess.py:1083\u001B[0m, in \u001B[0;36mPopen.wait\u001B[0;34m(self, timeout)\u001B[0m\n\u001B[1;32m   1081\u001B[0m     endtime \u001B[38;5;241m=\u001B[39m _time() \u001B[38;5;241m+\u001B[39m timeout\n\u001B[1;32m   1082\u001B[0m \u001B[38;5;28;01mtry\u001B[39;00m:\n\u001B[0;32m-> 1083\u001B[0m     \u001B[38;5;28;01mreturn\u001B[39;00m \u001B[38;5;28;43mself\u001B[39;49m\u001B[38;5;241;43m.\u001B[39;49m\u001B[43m_wait\u001B[49m\u001B[43m(\u001B[49m\u001B[43mtimeout\u001B[49m\u001B[38;5;241;43m=\u001B[39;49m\u001B[43mtimeout\u001B[49m\u001B[43m)\u001B[49m\n\u001B[1;32m   1084\u001B[0m \u001B[38;5;28;01mexcept\u001B[39;00m \u001B[38;5;167;01mKeyboardInterrupt\u001B[39;00m:\n\u001B[1;32m   1085\u001B[0m     \u001B[38;5;66;03m# https://bugs.python.org/issue25942\u001B[39;00m\n\u001B[1;32m   1086\u001B[0m     \u001B[38;5;66;03m# The first keyboard interrupt waits briefly for the child to\u001B[39;00m\n\u001B[1;32m   1087\u001B[0m     \u001B[38;5;66;03m# exit under the common assumption that it also received the ^C\u001B[39;00m\n\u001B[1;32m   1088\u001B[0m     \u001B[38;5;66;03m# generated SIGINT and will exit rapidly.\u001B[39;00m\n\u001B[1;32m   1089\u001B[0m     \u001B[38;5;28;01mif\u001B[39;00m timeout \u001B[38;5;129;01mis\u001B[39;00m \u001B[38;5;129;01mnot\u001B[39;00m \u001B[38;5;28;01mNone\u001B[39;00m:\n",
      "File \u001B[0;32m~/anaconda3/envs/envclara/lib/python3.8/subprocess.py:1822\u001B[0m, in \u001B[0;36mPopen._wait\u001B[0;34m(self, timeout)\u001B[0m\n\u001B[1;32m   1820\u001B[0m \u001B[38;5;28;01mif\u001B[39;00m \u001B[38;5;28mself\u001B[39m\u001B[38;5;241m.\u001B[39mreturncode \u001B[38;5;129;01mis\u001B[39;00m \u001B[38;5;129;01mnot\u001B[39;00m \u001B[38;5;28;01mNone\u001B[39;00m:\n\u001B[1;32m   1821\u001B[0m     \u001B[38;5;28;01mbreak\u001B[39;00m  \u001B[38;5;66;03m# Another thread waited.\u001B[39;00m\n\u001B[0;32m-> 1822\u001B[0m (pid, sts) \u001B[38;5;241m=\u001B[39m \u001B[38;5;28;43mself\u001B[39;49m\u001B[38;5;241;43m.\u001B[39;49m\u001B[43m_try_wait\u001B[49m\u001B[43m(\u001B[49m\u001B[38;5;241;43m0\u001B[39;49m\u001B[43m)\u001B[49m\n\u001B[1;32m   1823\u001B[0m \u001B[38;5;66;03m# Check the pid and loop as waitpid has been known to\u001B[39;00m\n\u001B[1;32m   1824\u001B[0m \u001B[38;5;66;03m# return 0 even without WNOHANG in odd situations.\u001B[39;00m\n\u001B[1;32m   1825\u001B[0m \u001B[38;5;66;03m# http://bugs.python.org/issue14396.\u001B[39;00m\n\u001B[1;32m   1826\u001B[0m \u001B[38;5;28;01mif\u001B[39;00m pid \u001B[38;5;241m==\u001B[39m \u001B[38;5;28mself\u001B[39m\u001B[38;5;241m.\u001B[39mpid:\n",
      "File \u001B[0;32m~/anaconda3/envs/envclara/lib/python3.8/subprocess.py:1780\u001B[0m, in \u001B[0;36mPopen._try_wait\u001B[0;34m(self, wait_flags)\u001B[0m\n\u001B[1;32m   1778\u001B[0m \u001B[38;5;250m\u001B[39m\u001B[38;5;124;03m\"\"\"All callers to this function MUST hold self._waitpid_lock.\"\"\"\u001B[39;00m\n\u001B[1;32m   1779\u001B[0m \u001B[38;5;28;01mtry\u001B[39;00m:\n\u001B[0;32m-> 1780\u001B[0m     (pid, sts) \u001B[38;5;241m=\u001B[39m \u001B[43mos\u001B[49m\u001B[38;5;241;43m.\u001B[39;49m\u001B[43mwaitpid\u001B[49m\u001B[43m(\u001B[49m\u001B[38;5;28;43mself\u001B[39;49m\u001B[38;5;241;43m.\u001B[39;49m\u001B[43mpid\u001B[49m\u001B[43m,\u001B[49m\u001B[43m \u001B[49m\u001B[43mwait_flags\u001B[49m\u001B[43m)\u001B[49m\n\u001B[1;32m   1781\u001B[0m \u001B[38;5;28;01mexcept\u001B[39;00m \u001B[38;5;167;01mChildProcessError\u001B[39;00m:\n\u001B[1;32m   1782\u001B[0m     \u001B[38;5;66;03m# This happens if SIGCLD is set to be ignored or waiting\u001B[39;00m\n\u001B[1;32m   1783\u001B[0m     \u001B[38;5;66;03m# for child processes has otherwise been disabled for our\u001B[39;00m\n\u001B[1;32m   1784\u001B[0m     \u001B[38;5;66;03m# process.  This child is dead, we can't get the status.\u001B[39;00m\n\u001B[1;32m   1785\u001B[0m     pid \u001B[38;5;241m=\u001B[39m \u001B[38;5;28mself\u001B[39m\u001B[38;5;241m.\u001B[39mpid\n",
      "\u001B[0;31mKeyboardInterrupt\u001B[0m: "
     ]
    }
   ],
   "source": [
    "# Initialize the YOLO model\n",
    "model = YOLO('yolov8m.pt')\n",
    "\n",
    "# Tune hyperparameters on COCO8 for 30 epochs\n",
    "model.tune(data='/data1/home/tscl/Chess-Pieces-3-2/data.yaml', epochs=30, iterations=300, optimizer='AdamW', plots=False, save=False, val=False, device=0)"
   ]
  }
 ],
 "metadata": {
  "kernelspec": {
   "display_name": "envclara",
   "language": "python",
   "name": "envclara"
  },
  "language_info": {
   "codemirror_mode": {
    "name": "ipython",
    "version": 3
   },
   "file_extension": ".py",
   "mimetype": "text/x-python",
   "name": "python",
   "nbconvert_exporter": "python",
   "pygments_lexer": "ipython3",
   "version": "3.8.18"
  }
 },
 "nbformat": 4,
 "nbformat_minor": 5
}
