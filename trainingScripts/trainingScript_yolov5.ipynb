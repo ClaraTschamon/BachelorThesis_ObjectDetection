{
 "cells": [
  {
   "cell_type": "code",
   "execution_count": 2,
   "id": "626f6145f35ac880",
   "metadata": {},
   "outputs": [
    {
     "name": "stdout",
     "output_type": "stream",
     "text": [
      "/data1/home/tscl/YOLOv5\n"
     ]
    }
   ],
   "source": [
    "import os\n",
    "\n",
    "#to get the current working directory\n",
    "directory = os.getcwd()\n",
    "\n",
    "print(directory)"
   ]
  },
  {
   "cell_type": "code",
   "execution_count": 2,
   "id": "c05796b6c75e4191",
   "metadata": {},
   "outputs": [
    {
     "name": "stdout",
     "output_type": "stream",
     "text": [
      "Collecting roboflow\n",
      "  Obtaining dependency information for roboflow from https://files.pythonhosted.org/packages/4f/2c/13ef4a1811365208f7441dae564ea57dad4b58762196b7d8e65860b0cc07/roboflow-1.1.7-py3-none-any.whl.metadata\n",
      "  Using cached roboflow-1.1.7-py3-none-any.whl.metadata (9.0 kB)\n",
      "Collecting certifi==2022.12.7 (from roboflow)\n",
      "  Using cached certifi-2022.12.7-py3-none-any.whl (155 kB)\n",
      "Collecting chardet==4.0.0 (from roboflow)\n",
      "  Using cached chardet-4.0.0-py2.py3-none-any.whl (178 kB)\n",
      "Collecting cycler==0.10.0 (from roboflow)\n",
      "  Using cached cycler-0.10.0-py2.py3-none-any.whl (6.5 kB)\n",
      "Collecting idna==2.10 (from roboflow)\n",
      "  Using cached idna-2.10-py2.py3-none-any.whl (58 kB)\n",
      "Collecting kiwisolver>=1.3.1 (from roboflow)\n",
      "  Obtaining dependency information for kiwisolver>=1.3.1 from https://files.pythonhosted.org/packages/d2/55/7021ffcc8cb26a520bb051aa0a3d08daf200cde945e5863d5768161e2d3d/kiwisolver-1.4.5-cp38-cp38-manylinux_2_5_x86_64.manylinux1_x86_64.whl.metadata\n",
      "  Using cached kiwisolver-1.4.5-cp38-cp38-manylinux_2_5_x86_64.manylinux1_x86_64.whl.metadata (6.4 kB)\n",
      "Collecting matplotlib (from roboflow)\n",
      "  Obtaining dependency information for matplotlib from https://files.pythonhosted.org/packages/08/73/a4af3493a81d6e5e1fdb4c72f4d3573a7e94b60f7c2c69ab0275fdc7cd8e/matplotlib-3.7.3-cp38-cp38-manylinux_2_12_x86_64.manylinux2010_x86_64.whl.metadata\n",
      "  Using cached matplotlib-3.7.3-cp38-cp38-manylinux_2_12_x86_64.manylinux2010_x86_64.whl.metadata (5.7 kB)\n",
      "Collecting numpy>=1.18.5 (from roboflow)\n",
      "  Obtaining dependency information for numpy>=1.18.5 from https://files.pythonhosted.org/packages/98/5d/5738903efe0ecb73e51eb44feafba32bdba2081263d40c5043568ff60faf/numpy-1.24.4-cp38-cp38-manylinux_2_17_x86_64.manylinux2014_x86_64.whl.metadata\n",
      "  Using cached numpy-1.24.4-cp38-cp38-manylinux_2_17_x86_64.manylinux2014_x86_64.whl.metadata (5.6 kB)\n",
      "Collecting opencv-python-headless==4.8.0.74 (from roboflow)\n",
      "  Obtaining dependency information for opencv-python-headless==4.8.0.74 from https://files.pythonhosted.org/packages/76/02/f128517f3ade4bb5f71e2afd8461dba70e3f466ce745fa1fd1fade9ad1b7/opencv_python_headless-4.8.0.74-cp37-abi3-manylinux_2_17_x86_64.manylinux2014_x86_64.whl.metadata\n",
      "  Using cached opencv_python_headless-4.8.0.74-cp37-abi3-manylinux_2_17_x86_64.manylinux2014_x86_64.whl.metadata (19 kB)\n",
      "Collecting Pillow>=7.1.2 (from roboflow)\n",
      "  Obtaining dependency information for Pillow>=7.1.2 from https://files.pythonhosted.org/packages/cd/6d/07566c00ddb116a0eca1a623abda12da81099a6ff3200e5e6b7e2d3c8c2b/Pillow-10.0.1-cp38-cp38-manylinux_2_28_x86_64.whl.metadata\n",
      "  Using cached Pillow-10.0.1-cp38-cp38-manylinux_2_28_x86_64.whl.metadata (9.5 kB)\n",
      "Collecting pyparsing==2.4.7 (from roboflow)\n",
      "  Using cached pyparsing-2.4.7-py2.py3-none-any.whl (67 kB)\n",
      "Requirement already satisfied: python-dateutil in /data1/home/tscl/anaconda3/envs/envclara/lib/python3.8/site-packages (from roboflow) (2.8.2)\n",
      "Collecting python-dotenv (from roboflow)\n",
      "  Using cached python_dotenv-1.0.0-py3-none-any.whl (19 kB)\n",
      "Requirement already satisfied: requests in /data1/home/tscl/anaconda3/envs/envclara/lib/python3.8/site-packages (from roboflow) (2.31.0)\n",
      "Requirement already satisfied: six in /data1/home/tscl/anaconda3/envs/envclara/lib/python3.8/site-packages (from roboflow) (1.16.0)\n",
      "Collecting supervision (from roboflow)\n",
      "  Obtaining dependency information for supervision from https://files.pythonhosted.org/packages/51/81/3314df2b9f84c0101ba3980499f2b3d87632e19ceaaeaa922fa7c697fa2c/supervision-0.15.0-py3-none-any.whl.metadata\n",
      "  Using cached supervision-0.15.0-py3-none-any.whl.metadata (14 kB)\n",
      "Requirement already satisfied: urllib3>=1.26.6 in /data1/home/tscl/anaconda3/envs/envclara/lib/python3.8/site-packages (from roboflow) (1.26.16)\n",
      "Collecting tqdm>=4.41.0 (from roboflow)\n",
      "  Obtaining dependency information for tqdm>=4.41.0 from https://files.pythonhosted.org/packages/00/e5/f12a80907d0884e6dff9c16d0c0114d81b8cd07dc3ae54c5e962cc83037e/tqdm-4.66.1-py3-none-any.whl.metadata\n",
      "  Using cached tqdm-4.66.1-py3-none-any.whl.metadata (57 kB)\n",
      "Requirement already satisfied: PyYAML>=5.3.1 in /data1/home/tscl/anaconda3/envs/envclara/lib/python3.8/site-packages (from roboflow) (6.0)\n",
      "Collecting requests-toolbelt (from roboflow)\n",
      "  Using cached requests_toolbelt-1.0.0-py2.py3-none-any.whl (54 kB)\n",
      "Collecting contourpy>=1.0.1 (from matplotlib->roboflow)\n",
      "  Obtaining dependency information for contourpy>=1.0.1 from https://files.pythonhosted.org/packages/8e/71/7f20855592cc929bc206810432b991ec4c702dc26b0567b132e52c85536f/contourpy-1.1.1-cp38-cp38-manylinux_2_17_x86_64.manylinux2014_x86_64.whl.metadata\n",
      "  Using cached contourpy-1.1.1-cp38-cp38-manylinux_2_17_x86_64.manylinux2014_x86_64.whl.metadata (5.9 kB)\n",
      "Collecting fonttools>=4.22.0 (from matplotlib->roboflow)\n",
      "  Obtaining dependency information for fonttools>=4.22.0 from https://files.pythonhosted.org/packages/a6/b8/965acdc0510d0ceca51bb9b9286a600eb8221d1e79d29da16f5bf035deab/fonttools-4.43.1-cp38-cp38-manylinux_2_17_x86_64.manylinux2014_x86_64.whl.metadata\n",
      "  Using cached fonttools-4.43.1-cp38-cp38-manylinux_2_17_x86_64.manylinux2014_x86_64.whl.metadata (152 kB)\n",
      "Requirement already satisfied: packaging>=20.0 in /data1/home/tscl/anaconda3/envs/envclara/lib/python3.8/site-packages (from matplotlib->roboflow) (23.1)\n",
      "Requirement already satisfied: importlib-resources>=3.2.0 in /data1/home/tscl/anaconda3/envs/envclara/lib/python3.8/site-packages (from matplotlib->roboflow) (5.2.0)\n",
      "Requirement already satisfied: charset-normalizer<4,>=2 in /data1/home/tscl/anaconda3/envs/envclara/lib/python3.8/site-packages (from requests->roboflow) (2.0.4)\n",
      "Collecting scipy<2.0.0,>=1.9.0 (from supervision->roboflow)\n",
      "  Using cached scipy-1.10.1-cp38-cp38-manylinux_2_17_x86_64.manylinux2014_x86_64.whl (34.5 MB)\n",
      "Requirement already satisfied: zipp>=3.1.0 in /data1/home/tscl/anaconda3/envs/envclara/lib/python3.8/site-packages (from importlib-resources>=3.2.0->matplotlib->roboflow) (3.11.0)\n",
      "Using cached roboflow-1.1.7-py3-none-any.whl (58 kB)\n",
      "Using cached opencv_python_headless-4.8.0.74-cp37-abi3-manylinux_2_17_x86_64.manylinux2014_x86_64.whl (49.1 MB)\n",
      "Using cached kiwisolver-1.4.5-cp38-cp38-manylinux_2_5_x86_64.manylinux1_x86_64.whl (1.2 MB)\n",
      "Using cached numpy-1.24.4-cp38-cp38-manylinux_2_17_x86_64.manylinux2014_x86_64.whl (17.3 MB)\n",
      "Using cached Pillow-10.0.1-cp38-cp38-manylinux_2_28_x86_64.whl (3.6 MB)\n",
      "Using cached tqdm-4.66.1-py3-none-any.whl (78 kB)\n",
      "Using cached matplotlib-3.7.3-cp38-cp38-manylinux_2_12_x86_64.manylinux2010_x86_64.whl (9.2 MB)\n",
      "Using cached supervision-0.15.0-py3-none-any.whl (69 kB)\n",
      "Using cached contourpy-1.1.1-cp38-cp38-manylinux_2_17_x86_64.manylinux2014_x86_64.whl (301 kB)\n",
      "Using cached fonttools-4.43.1-cp38-cp38-manylinux_2_17_x86_64.manylinux2014_x86_64.whl (4.6 MB)\n",
      "Installing collected packages: tqdm, python-dotenv, pyparsing, Pillow, numpy, kiwisolver, idna, fonttools, cycler, chardet, certifi, scipy, opencv-python-headless, contourpy, requests-toolbelt, matplotlib, supervision, roboflow\n",
      "  Attempting uninstall: idna\n",
      "    Found existing installation: idna 3.4\n",
      "    Uninstalling idna-3.4:\n",
      "      Successfully uninstalled idna-3.4\n",
      "  Attempting uninstall: certifi\n",
      "    Found existing installation: certifi 2023.7.22\n",
      "    Uninstalling certifi-2023.7.22:\n",
      "      Successfully uninstalled certifi-2023.7.22\n",
      "Successfully installed Pillow-10.0.1 certifi-2022.12.7 chardet-4.0.0 contourpy-1.1.1 cycler-0.10.0 fonttools-4.43.1 idna-2.10 kiwisolver-1.4.5 matplotlib-3.7.3 numpy-1.24.4 opencv-python-headless-4.8.0.74 pyparsing-2.4.7 python-dotenv-1.0.0 requests-toolbelt-1.0.0 roboflow-1.1.7 scipy-1.10.1 supervision-0.15.0 tqdm-4.66.1\n"
     ]
    }
   ],
   "source": [
    "# Used to download dataset\n",
    "\n",
    "#!pip install roboflow\n",
    "\n",
    "#from roboflow import Roboflow\n",
    "#rf = Roboflow(api_key=\"cx2jF1GuAVvRWlxk9ZNY\")\n",
    "#project = rf.workspace(\"fhv\").project(\"chess-pieces-2-6l8qq\")\n",
    "#dataset = project.version(5).download(\"yolov5\")"
   ]
  },
  {
   "cell_type": "code",
   "execution_count": 4,
   "id": "294e053e",
   "metadata": {},
   "outputs": [
    {
     "name": "stdout",
     "output_type": "stream",
     "text": [
      "Collecting roboflow\n",
      "  Obtaining dependency information for roboflow from https://files.pythonhosted.org/packages/4f/2c/13ef4a1811365208f7441dae564ea57dad4b58762196b7d8e65860b0cc07/roboflow-1.1.7-py3-none-any.whl.metadata\n",
      "  Using cached roboflow-1.1.7-py3-none-any.whl.metadata (9.0 kB)\n",
      "Collecting certifi==2022.12.7 (from roboflow)\n",
      "  Using cached certifi-2022.12.7-py3-none-any.whl (155 kB)\n",
      "Collecting chardet==4.0.0 (from roboflow)\n",
      "  Using cached chardet-4.0.0-py2.py3-none-any.whl (178 kB)\n",
      "Collecting cycler==0.10.0 (from roboflow)\n",
      "  Using cached cycler-0.10.0-py2.py3-none-any.whl (6.5 kB)\n",
      "Collecting idna==2.10 (from roboflow)\n",
      "  Using cached idna-2.10-py2.py3-none-any.whl (58 kB)\n",
      "Requirement already satisfied: kiwisolver>=1.3.1 in /data1/home/tscl/anaconda3/envs/envclara/lib/python3.8/site-packages (from roboflow) (1.4.5)\n",
      "Requirement already satisfied: matplotlib in /data1/home/tscl/anaconda3/envs/envclara/lib/python3.8/site-packages (from roboflow) (3.7.3)\n",
      "Requirement already satisfied: numpy>=1.18.5 in /data1/home/tscl/anaconda3/envs/envclara/lib/python3.8/site-packages (from roboflow) (1.24.3)\n",
      "Collecting opencv-python-headless==4.8.0.74 (from roboflow)\n",
      "  Obtaining dependency information for opencv-python-headless==4.8.0.74 from https://files.pythonhosted.org/packages/76/02/f128517f3ade4bb5f71e2afd8461dba70e3f466ce745fa1fd1fade9ad1b7/opencv_python_headless-4.8.0.74-cp37-abi3-manylinux_2_17_x86_64.manylinux2014_x86_64.whl.metadata\n",
      "  Using cached opencv_python_headless-4.8.0.74-cp37-abi3-manylinux_2_17_x86_64.manylinux2014_x86_64.whl.metadata (19 kB)\n",
      "Requirement already satisfied: Pillow>=7.1.2 in /data1/home/tscl/anaconda3/envs/envclara/lib/python3.8/site-packages (from roboflow) (10.0.1)\n",
      "Collecting pyparsing==2.4.7 (from roboflow)\n",
      "  Using cached pyparsing-2.4.7-py2.py3-none-any.whl (67 kB)\n",
      "Requirement already satisfied: python-dateutil in /data1/home/tscl/anaconda3/envs/envclara/lib/python3.8/site-packages (from roboflow) (2.8.2)\n",
      "Collecting python-dotenv (from roboflow)\n",
      "  Using cached python_dotenv-1.0.0-py3-none-any.whl (19 kB)\n",
      "Requirement already satisfied: requests in /data1/home/tscl/anaconda3/envs/envclara/lib/python3.8/site-packages (from roboflow) (2.31.0)\n",
      "Requirement already satisfied: six in /data1/home/tscl/anaconda3/envs/envclara/lib/python3.8/site-packages (from roboflow) (1.16.0)\n",
      "Collecting supervision (from roboflow)\n",
      "  Obtaining dependency information for supervision from https://files.pythonhosted.org/packages/c0/59/6bc863f530c0ba5da4c565fd40f17b2b333c2ab28b783202937293ae494a/supervision-0.16.0-py3-none-any.whl.metadata\n",
      "  Downloading supervision-0.16.0-py3-none-any.whl.metadata (14 kB)\n",
      "Requirement already satisfied: urllib3>=1.26.6 in /data1/home/tscl/anaconda3/envs/envclara/lib/python3.8/site-packages (from roboflow) (1.26.16)\n",
      "Requirement already satisfied: tqdm>=4.41.0 in /data1/home/tscl/anaconda3/envs/envclara/lib/python3.8/site-packages (from roboflow) (4.66.1)\n",
      "Requirement already satisfied: PyYAML>=5.3.1 in /data1/home/tscl/anaconda3/envs/envclara/lib/python3.8/site-packages (from roboflow) (6.0.1)\n",
      "Collecting requests-toolbelt (from roboflow)\n",
      "  Using cached requests_toolbelt-1.0.0-py2.py3-none-any.whl (54 kB)\n",
      "Requirement already satisfied: contourpy>=1.0.1 in /data1/home/tscl/anaconda3/envs/envclara/lib/python3.8/site-packages (from matplotlib->roboflow) (1.1.1)\n",
      "Requirement already satisfied: fonttools>=4.22.0 in /data1/home/tscl/anaconda3/envs/envclara/lib/python3.8/site-packages (from matplotlib->roboflow) (4.43.1)\n",
      "Requirement already satisfied: packaging>=20.0 in /data1/home/tscl/anaconda3/envs/envclara/lib/python3.8/site-packages (from matplotlib->roboflow) (23.1)\n",
      "Requirement already satisfied: importlib-resources>=3.2.0 in /data1/home/tscl/anaconda3/envs/envclara/lib/python3.8/site-packages (from matplotlib->roboflow) (5.2.0)\n",
      "Requirement already satisfied: charset-normalizer<4,>=2 in /data1/home/tscl/anaconda3/envs/envclara/lib/python3.8/site-packages (from requests->roboflow) (2.0.4)\n",
      "Requirement already satisfied: scipy<2.0.0,>=1.9.0 in /data1/home/tscl/anaconda3/envs/envclara/lib/python3.8/site-packages (from supervision->roboflow) (1.10.1)\n",
      "Requirement already satisfied: zipp>=3.1.0 in /data1/home/tscl/anaconda3/envs/envclara/lib/python3.8/site-packages (from importlib-resources>=3.2.0->matplotlib->roboflow) (3.11.0)\n",
      "Using cached roboflow-1.1.7-py3-none-any.whl (58 kB)\n",
      "Using cached opencv_python_headless-4.8.0.74-cp37-abi3-manylinux_2_17_x86_64.manylinux2014_x86_64.whl (49.1 MB)\n",
      "Downloading supervision-0.16.0-py3-none-any.whl (72 kB)\n",
      "\u001b[2K   \u001b[90m━━━━━━━━━━━━━━━━━━━━━━━━━━━━━━━━━━━━━━━━\u001b[0m \u001b[32m72.2/72.2 kB\u001b[0m \u001b[31m5.8 MB/s\u001b[0m eta \u001b[36m0:00:00\u001b[0m\n",
      "\u001b[?25hInstalling collected packages: python-dotenv, pyparsing, opencv-python-headless, idna, cycler, chardet, certifi, supervision, requests-toolbelt, roboflow\n",
      "  Attempting uninstall: pyparsing\n",
      "    Found existing installation: pyparsing 3.1.1\n",
      "    Uninstalling pyparsing-3.1.1:\n",
      "      Successfully uninstalled pyparsing-3.1.1\n",
      "  Attempting uninstall: idna\n",
      "    Found existing installation: idna 3.4\n",
      "    Uninstalling idna-3.4:\n",
      "      Successfully uninstalled idna-3.4\n",
      "  Attempting uninstall: cycler\n",
      "    Found existing installation: cycler 0.12.1\n",
      "    Uninstalling cycler-0.12.1:\n",
      "      Successfully uninstalled cycler-0.12.1\n",
      "  Attempting uninstall: certifi\n",
      "    Found existing installation: certifi 2023.7.22\n",
      "    Uninstalling certifi-2023.7.22:\n",
      "      Successfully uninstalled certifi-2023.7.22\n",
      "Successfully installed certifi-2022.12.7 chardet-4.0.0 cycler-0.10.0 idna-2.10 opencv-python-headless-4.8.0.74 pyparsing-2.4.7 python-dotenv-1.0.0 requests-toolbelt-1.0.0 roboflow-1.1.7 supervision-0.16.0\n",
      "loading Roboflow workspace...\n",
      "loading Roboflow project...\n"
     ]
    },
    {
     "name": "stderr",
     "output_type": "stream",
     "text": [
      "Downloading Dataset Version Zip in Chess-Pieces-3-2 to yolov5pytorch:: 100%|█| 1621715/1621715 [00:43<00:00, 37360.07it/"
     ]
    },
    {
     "name": "stdout",
     "output_type": "stream",
     "text": [
      "\n"
     ]
    },
    {
     "name": "stderr",
     "output_type": "stream",
     "text": [
      "\n",
      "Extracting Dataset Version Zip to Chess-Pieces-3-2 in yolov5pytorch:: 100%|█████| 35836/35836 [00:03<00:00, 9066.57it/s]\n"
     ]
    }
   ],
   "source": [
    "!pip install roboflow\n",
    "\n",
    "from roboflow import Roboflow\n",
    "rf = Roboflow(api_key=\"cx2jF1GuAVvRWlxk9ZNY\")\n",
    "project = rf.workspace(\"fhv\").project(\"chess-pieces-3\")\n",
    "dataset = project.version(2).download(\"yolov5\")"
   ]
  },
  {
   "cell_type": "code",
   "execution_count": 3,
   "id": "fad4b332ae2dc97a",
   "metadata": {},
   "outputs": [
    {
     "name": "stdout",
     "output_type": "stream",
     "text": [
      "Cloning into 'yolov5'...\n",
      "remote: Enumerating objects: 16003, done.\u001b[K\n",
      "remote: Counting objects: 100% (36/36), done.\u001b[K\n",
      "remote: Compressing objects: 100% (23/23), done.\u001b[K\n",
      "remote: Total 16003 (delta 21), reused 20 (delta 13), pack-reused 15967\u001b[K\n",
      "Receiving objects: 100% (16003/16003), 14.66 MiB | 23.13 MiB/s, done.\n",
      "Resolving deltas: 100% (10987/10987), done.\n"
     ]
    }
   ],
   "source": [
    "#!git clone https://github.com/ultralytics/yolov5"
   ]
  },
  {
   "cell_type": "code",
   "execution_count": 3,
   "id": "b7cbc444be4df8a3",
   "metadata": {},
   "outputs": [],
   "source": [
    "os.environ[\"CUDA_DEVICE_ORDER\"] = \"PCI_BUS_ID\"\n",
    "os.environ[\"CUDA_VISIBLE_DEVICES\"] = \"0\""
   ]
  },
  {
   "cell_type": "code",
   "execution_count": 4,
   "id": "acf85053",
   "metadata": {},
   "outputs": [
    {
     "name": "stdout",
     "output_type": "stream",
     "text": [
      "/data1/home/tscl/YOLOv5/yolov5\n"
     ]
    }
   ],
   "source": [
    "%cd yolov5"
   ]
  },
  {
   "cell_type": "code",
   "execution_count": 5,
   "id": "f5d6aae28792de80",
   "metadata": {},
   "outputs": [
    {
     "name": "stdout",
     "output_type": "stream",
     "text": [
      "Note: you may need to restart the kernel to use updated packages.\n"
     ]
    }
   ],
   "source": [
    "%pip install -qr requirements.txt"
   ]
  },
  {
   "cell_type": "markdown",
   "id": "0bd022fe",
   "metadata": {},
   "source": [
    "Copied data.yaml file to yolov5 directory!"
   ]
  },
  {
   "cell_type": "code",
   "execution_count": 7,
   "id": "77359a86",
   "metadata": {},
   "outputs": [],
   "source": [
    "#run this command in commandline a pytorch version which is compatible with my cuda version (11.2)\n",
    "#pip install torch==1.12.1+cu113 torchvision==0.13.1+cu113 torchaudio==0.12.1 --extra-index-url https://download.pytorch.org/whl/cu113"
   ]
  },
  {
   "cell_type": "code",
   "execution_count": 6,
   "id": "a2f3b73e",
   "metadata": {},
   "outputs": [
    {
     "data": {
      "text/plain": [
       "tensor([0.], device='cuda:0')"
      ]
     },
     "execution_count": 6,
     "metadata": {},
     "output_type": "execute_result"
    }
   ],
   "source": [
    "import torch\n",
    "torch.zeros(1).cuda()"
   ]
  },
  {
   "cell_type": "code",
   "execution_count": 7,
   "id": "84929871b56b5dfa",
   "metadata": {
    "scrolled": true
   },
   "outputs": [
    {
     "name": "stdout",
     "output_type": "stream",
     "text": [
      "\u001b[34m\u001b[1mtrain: \u001b[0mweights=yolov5m.pt, cfg=models/yolov5m.yaml, data=data.yaml, hyp=data/hyps/hyp.scratch-low.yaml, epochs=25, batch_size=64, imgsz=640, rect=False, resume=False, nosave=False, noval=False, noautoanchor=False, noplots=False, evolve=None, bucket=, cache=disk, image_weights=False, device=0, multi_scale=False, single_cls=False, optimizer=SGD, sync_bn=False, workers=8, project=runs/train, name=exp, exist_ok=False, quad=False, cos_lr=False, label_smoothing=0.0, patience=100, freeze=[0], save_period=-1, seed=0, local_rank=-1, entity=None, upload_dataset=False, bbox_interval=-1, artifact_alias=latest\n",
      "remote: Enumerating objects: 6, done.\u001b[K\n",
      "remote: Counting objects: 100% (6/6), done.\u001b[K\n",
      "remote: Compressing objects: 100% (6/6), done.\u001b[K\n",
      "remote: Total 6 (delta 0), reused 3 (delta 0), pack-reused 0\u001b[K\n",
      "Unpacking objects: 100% (6/6), done.\n",
      "From https://github.com/ultralytics/yolov5\n",
      "   53efd07..c2f131a  master     -> origin/master\n",
      " * [new branch]      dependabot/github_actions/actions/setup-node-4 -> origin/dependabot/github_actions/actions/setup-node-4\n",
      "\u001b[34m\u001b[1mgithub: \u001b[0m⚠️ YOLOv5 is out of date by 5 commits. Use 'git pull' or 'git clone https://github.com/ultralytics/yolov5' to update.\n",
      "YOLOv5 🚀 v7.0-226-gdd9e338 Python-3.8.18 torch-1.12.1+cu113 CUDA:0 (Quadro RTX 6000, 24220MiB)\n",
      "\n",
      "\u001b[34m\u001b[1mhyperparameters: \u001b[0mlr0=0.01, lrf=0.01, momentum=0.937, weight_decay=0.0005, warmup_epochs=3.0, warmup_momentum=0.8, warmup_bias_lr=0.1, box=0.05, cls=0.5, cls_pw=1.0, obj=1.0, obj_pw=1.0, iou_t=0.2, anchor_t=4.0, fl_gamma=0.0, hsv_h=0.015, hsv_s=0.7, hsv_v=0.4, degrees=0.0, translate=0.1, scale=0.5, shear=0.0, perspective=0.0, flipud=0.0, fliplr=0.5, mosaic=1.0, mixup=0.0, copy_paste=0.0\n",
      "\u001b[34m\u001b[1mComet: \u001b[0mrun 'pip install comet_ml' to automatically track and visualize YOLOv5 🚀 runs in Comet\n",
      "\u001b[34m\u001b[1mTensorBoard: \u001b[0mStart with 'tensorboard --logdir runs/train', view at http://localhost:6006/\n",
      "Overriding model.yaml nc=80 with nc=12\n",
      "\n",
      "                 from  n    params  module                                  arguments                     \n",
      "  0                -1  1      5280  models.common.Conv                      [3, 48, 6, 2, 2]              \n",
      "  1                -1  1     41664  models.common.Conv                      [48, 96, 3, 2]                \n",
      "  2                -1  2     65280  models.common.C3                        [96, 96, 2]                   \n",
      "  3                -1  1    166272  models.common.Conv                      [96, 192, 3, 2]               \n",
      "  4                -1  4    444672  models.common.C3                        [192, 192, 4]                 \n",
      "  5                -1  1    664320  models.common.Conv                      [192, 384, 3, 2]              \n",
      "  6                -1  6   2512896  models.common.C3                        [384, 384, 6]                 \n",
      "  7                -1  1   2655744  models.common.Conv                      [384, 768, 3, 2]              \n",
      "  8                -1  2   4134912  models.common.C3                        [768, 768, 2]                 \n",
      "  9                -1  1   1476864  models.common.SPPF                      [768, 768, 5]                 \n",
      " 10                -1  1    295680  models.common.Conv                      [768, 384, 1, 1]              \n",
      " 11                -1  1         0  torch.nn.modules.upsampling.Upsample    [None, 2, 'nearest']          \n",
      " 12           [-1, 6]  1         0  models.common.Concat                    [1]                           \n",
      " 13                -1  2   1182720  models.common.C3                        [768, 384, 2, False]          \n",
      " 14                -1  1     74112  models.common.Conv                      [384, 192, 1, 1]              \n",
      " 15                -1  1         0  torch.nn.modules.upsampling.Upsample    [None, 2, 'nearest']          \n",
      " 16           [-1, 4]  1         0  models.common.Concat                    [1]                           \n",
      " 17                -1  2    296448  models.common.C3                        [384, 192, 2, False]          \n",
      " 18                -1  1    332160  models.common.Conv                      [192, 192, 3, 2]              \n",
      " 19          [-1, 14]  1         0  models.common.Concat                    [1]                           \n",
      " 20                -1  2   1035264  models.common.C3                        [384, 384, 2, False]          \n",
      " 21                -1  1   1327872  models.common.Conv                      [384, 384, 3, 2]              \n",
      " 22          [-1, 10]  1         0  models.common.Concat                    [1]                           \n",
      " 23                -1  2   4134912  models.common.C3                        [768, 768, 2, False]          \n",
      " 24      [17, 20, 23]  1     68697  models.yolo.Detect                      [12, [[10, 13, 16, 30, 33, 23], [30, 61, 62, 45, 59, 119], [116, 90, 156, 198, 373, 326]], [192, 384, 768]]\n",
      "YOLOv5m summary: 291 layers, 20915769 parameters, 20915769 gradients, 48.4 GFLOPs\n",
      "\n",
      "Transferred 474/481 items from yolov5m.pt\n",
      "\u001b[34m\u001b[1mAMP: \u001b[0mchecks passed ✅\n",
      "\u001b[34m\u001b[1moptimizer:\u001b[0m SGD(lr=0.01) with parameter groups 79 weight(decay=0.0), 82 weight(decay=0.0005), 82 bias\n",
      "\u001b[34m\u001b[1mtrain: \u001b[0mScanning /data1/home/tscl/YOLOv5/Chess-Pieces-3-2/train/labels.cache... 1\u001b[0m\n",
      "\u001b[34m\u001b[1mtrain: \u001b[0mWARNING ⚠️ /data1/home/tscl/YOLOv5/Chess-Pieces-3-2/train/images/IMG_20200829_012731_jpg.rf.48455ad76c8df3563906d75b5a548744.jpg: 1 duplicate labels removed\n",
      "\u001b[34m\u001b[1mtrain: \u001b[0mWARNING ⚠️ /data1/home/tscl/YOLOv5/Chess-Pieces-3-2/train/images/IMG_20200829_012731_jpg.rf.c162340d6b775a4ad56d1f9eee29b857.jpg: 1 duplicate labels removed\n",
      "\u001b[34m\u001b[1mtrain: \u001b[0mWARNING ⚠️ /data1/home/tscl/YOLOv5/Chess-Pieces-3-2/train/images/IMG_20200829_012731_jpg.rf.fb4d2d2eb5394628818cc17d0bb9166d.jpg: 1 duplicate labels removed\n",
      "\u001b[34m\u001b[1mtrain: \u001b[0mWARNING ⚠️ /data1/home/tscl/YOLOv5/Chess-Pieces-3-2/train/images/IMG_20200829_013159_jpg.rf.471cc6fc90e599058fb811d9399129ae.jpg: 1 duplicate labels removed\n",
      "\u001b[34m\u001b[1mtrain: \u001b[0mWARNING ⚠️ /data1/home/tscl/YOLOv5/Chess-Pieces-3-2/train/images/IMG_20200829_013159_jpg.rf.673a8f4716969977686c34c892036aa4.jpg: 1 duplicate labels removed\n",
      "\u001b[34m\u001b[1mtrain: \u001b[0mWARNING ⚠️ /data1/home/tscl/YOLOv5/Chess-Pieces-3-2/train/images/IMG_20200829_013159_jpg.rf.c8f2fac2991e09e0f69de6e84fae92f0.jpg: 1 duplicate labels removed\n",
      "\u001b[34m\u001b[1mtrain: \u001b[0mWARNING ⚠️ /data1/home/tscl/YOLOv5/Chess-Pieces-3-2/train/images/IMG_20200908_230810_jpg.rf.0b5fb97b5ba95e4e6c05f8bd421355f1.jpg: 2 duplicate labels removed\n",
      "\u001b[34m\u001b[1mtrain: \u001b[0mWARNING ⚠️ /data1/home/tscl/YOLOv5/Chess-Pieces-3-2/train/images/IMG_20200908_230810_jpg.rf.0c00122a606ee06f5aa7443f8ca3d71e.jpg: 2 duplicate labels removed\n",
      "\u001b[34m\u001b[1mtrain: \u001b[0mWARNING ⚠️ /data1/home/tscl/YOLOv5/Chess-Pieces-3-2/train/images/IMG_20200908_230810_jpg.rf.bf747a086fbb4b466b9e9a7a83568b86.jpg: 2 duplicate labels removed\n",
      "\u001b[34m\u001b[1mtrain: \u001b[0mWARNING ⚠️ /data1/home/tscl/YOLOv5/Chess-Pieces-3-2/train/images/IMG_20200908_231320_jpg.rf.36415b922498a900c27a6497f0085d17.jpg: 1 duplicate labels removed\n",
      "\u001b[34m\u001b[1mtrain: \u001b[0mWARNING ⚠️ /data1/home/tscl/YOLOv5/Chess-Pieces-3-2/train/images/IMG_20200908_231320_jpg.rf.3f9f1e7d0355e6750d4b1dcd4d375943.jpg: 1 duplicate labels removed\n",
      "\u001b[34m\u001b[1mtrain: \u001b[0mWARNING ⚠️ /data1/home/tscl/YOLOv5/Chess-Pieces-3-2/train/images/IMG_20200908_231320_jpg.rf.6b1ccb15170aa37272f96fd9446bc396.jpg: 1 duplicate labels removed\n",
      "\u001b[34m\u001b[1mtrain: \u001b[0mWARNING ⚠️ /data1/home/tscl/YOLOv5/Chess-Pieces-3-2/train/images/IMG_20200909_210543_jpg.rf.31f0cdf29e54a91404e9af8a07656278.jpg: 3 duplicate labels removed\n",
      "\u001b[34m\u001b[1mtrain: \u001b[0mWARNING ⚠️ /data1/home/tscl/YOLOv5/Chess-Pieces-3-2/train/images/IMG_20200909_210543_jpg.rf.57935b431b5def44b8b762e9bf847c84.jpg: 3 duplicate labels removed\n",
      "\u001b[34m\u001b[1mtrain: \u001b[0mWARNING ⚠️ /data1/home/tscl/YOLOv5/Chess-Pieces-3-2/train/images/IMG_20200909_210543_jpg.rf.a861a80f15ed06523a5e93a45429cad8.jpg: 3 duplicate labels removed\n",
      "\u001b[34m\u001b[1mtrain: \u001b[0mCaching images (19.4GB disk): 100%|██████████| 16986/16986 [00:00<00:00, \u001b[0m\n",
      "\u001b[34m\u001b[1mval: \u001b[0mScanning /data1/home/tscl/YOLOv5/Chess-Pieces-3-2/valid/labels.cache... 910\u001b[0m\n",
      "\u001b[34m\u001b[1mval: \u001b[0mCaching images (1.0GB disk): 100%|██████████| 910/910 [00:00<00:00, 42321.6\u001b[0m\n",
      "\n",
      "\u001b[34m\u001b[1mAutoAnchor: \u001b[0m6.04 anchors/target, 1.000 Best Possible Recall (BPR). Current anchors are a good fit to dataset ✅\n",
      "Plotting labels to runs/train/exp6/labels.jpg... \n"
     ]
    },
    {
     "name": "stdout",
     "output_type": "stream",
     "text": [
      "Image sizes 640 train, 640 val\n",
      "Using 8 dataloader workers\n",
      "Logging results to \u001b[1mruns/train/exp6\u001b[0m\n",
      "Starting training for 25 epochs...\n",
      "\n",
      "      Epoch    GPU_mem   box_loss   obj_loss   cls_loss  Instances       Size\n",
      "       0/24      22.3G     0.0707    0.07952    0.06522        411        640: 1\n",
      "                 Class     Images  Instances          P          R      mAP50   \n",
      "                   all        910      16125     0.0856      0.792      0.124       0.06\n",
      "\n",
      "      Epoch    GPU_mem   box_loss   obj_loss   cls_loss  Instances       Size\n",
      "       1/24      22.3G    0.05008     0.0655    0.05867        567        640: 1\n",
      "                 Class     Images  Instances          P          R      mAP50   \n",
      "                   all        910      16125      0.209      0.729      0.323      0.184\n",
      "\n",
      "      Epoch    GPU_mem   box_loss   obj_loss   cls_loss  Instances       Size\n",
      "       2/24      22.3G    0.04415    0.06168    0.04413        404        640: 1\n",
      "                 Class     Images  Instances          P          R      mAP50   \n",
      "                   all        910      16125      0.399      0.795      0.511      0.311\n",
      "\n",
      "      Epoch    GPU_mem   box_loss   obj_loss   cls_loss  Instances       Size\n",
      "       3/24      22.3G    0.03928    0.05924    0.03451        264        640: 1\n",
      "                 Class     Images  Instances          P          R      mAP50   \n",
      "                   all        910      16125      0.607      0.857      0.685      0.419\n",
      "\n",
      "      Epoch    GPU_mem   box_loss   obj_loss   cls_loss  Instances       Size\n",
      "       4/24      22.3G    0.03702    0.05727    0.02759        402        640: 1\n",
      "                 Class     Images  Instances          P          R      mAP50   \n",
      "                   all        910      16125      0.793      0.829      0.851      0.536\n",
      "\n",
      "      Epoch    GPU_mem   box_loss   obj_loss   cls_loss  Instances       Size\n",
      "       5/24      22.3G      0.035    0.05578    0.02226        394        640: 1\n",
      "                 Class     Images  Instances          P          R      mAP50   \n",
      "                   all        910      16125      0.917      0.886      0.925      0.607\n",
      "\n",
      "      Epoch    GPU_mem   box_loss   obj_loss   cls_loss  Instances       Size\n",
      "       6/24      22.3G    0.03429    0.05581    0.01924        338        640: 1\n",
      "                 Class     Images  Instances          P          R      mAP50   \n",
      "                   all        910      16125       0.92      0.896      0.933      0.624\n",
      "\n",
      "      Epoch    GPU_mem   box_loss   obj_loss   cls_loss  Instances       Size\n",
      "       7/24      22.3G    0.03316      0.054    0.01749        595        640: 1\n",
      "                 Class     Images  Instances          P          R      mAP50   \n",
      "                   all        910      16125      0.924      0.903      0.935      0.624\n",
      "\n",
      "      Epoch    GPU_mem   box_loss   obj_loss   cls_loss  Instances       Size\n",
      "       8/24      22.3G    0.03251     0.0534    0.01626        409        640: 1\n",
      "                 Class     Images  Instances          P          R      mAP50   \n",
      "                   all        910      16125      0.948      0.926      0.948      0.637\n",
      "\n",
      "      Epoch    GPU_mem   box_loss   obj_loss   cls_loss  Instances       Size\n",
      "       9/24      22.3G    0.03169    0.05302    0.01483        471        640: 1\n",
      "                 Class     Images  Instances          P          R      mAP50   \n",
      "                   all        910      16125      0.948      0.923      0.947      0.647\n",
      "\n",
      "      Epoch    GPU_mem   box_loss   obj_loss   cls_loss  Instances       Size\n",
      "      10/24      22.3G    0.03121     0.0518    0.01412        413        640: 1\n",
      "                 Class     Images  Instances          P          R      mAP50   \n",
      "                   all        910      16125      0.963      0.934      0.953      0.656\n",
      "\n",
      "      Epoch    GPU_mem   box_loss   obj_loss   cls_loss  Instances       Size\n",
      "      11/24      22.3G    0.03084     0.0521     0.0134        437        640: 1\n",
      "                 Class     Images  Instances          P          R      mAP50   \n",
      "                   all        910      16125      0.959      0.935      0.951      0.657\n",
      "\n",
      "      Epoch    GPU_mem   box_loss   obj_loss   cls_loss  Instances       Size\n",
      "      12/24      22.3G    0.03027    0.05156    0.01283        417        640: 1\n",
      "                 Class     Images  Instances          P          R      mAP50   \n",
      "                   all        910      16125      0.967      0.936      0.954      0.664\n",
      "\n",
      "      Epoch    GPU_mem   box_loss   obj_loss   cls_loss  Instances       Size\n",
      "      13/24      22.3G    0.02974    0.05076    0.01217        521        640: 1\n",
      "                 Class     Images  Instances          P          R      mAP50   \n",
      "                   all        910      16125      0.969      0.946      0.957      0.668\n",
      "\n",
      "      Epoch    GPU_mem   box_loss   obj_loss   cls_loss  Instances       Size\n",
      "      14/24      22.3G    0.02946    0.04987    0.01176        437        640: 1\n",
      "                 Class     Images  Instances          P          R      mAP50   \n",
      "                   all        910      16125      0.963      0.939      0.952      0.669\n",
      "\n",
      "      Epoch    GPU_mem   box_loss   obj_loss   cls_loss  Instances       Size\n",
      "      15/24      22.3G    0.02898    0.05001    0.01117        498        640: 1\n",
      "                 Class     Images  Instances          P          R      mAP50   \n",
      "                   all        910      16125      0.967      0.945      0.954       0.67\n",
      "\n",
      "      Epoch    GPU_mem   box_loss   obj_loss   cls_loss  Instances       Size\n",
      "      16/24      22.3G    0.02858    0.04952    0.01078        363        640: 1\n",
      "                 Class     Images  Instances          P          R      mAP50   \n",
      "                   all        910      16125      0.967      0.944      0.954      0.667\n",
      "\n",
      "      Epoch    GPU_mem   box_loss   obj_loss   cls_loss  Instances       Size\n",
      "      17/24      22.3G    0.02844    0.04929    0.01048        632        640: 1\n",
      "                 Class     Images  Instances          P          R      mAP50   \n",
      "                   all        910      16125       0.97      0.946      0.955       0.67\n",
      "\n",
      "      Epoch    GPU_mem   box_loss   obj_loss   cls_loss  Instances       Size\n",
      "      18/24      22.3G    0.02773    0.04864   0.009871        426        640: 1\n",
      "                 Class     Images  Instances          P          R      mAP50   \n",
      "                   all        910      16125      0.971      0.948      0.955      0.675\n",
      "\n",
      "      Epoch    GPU_mem   box_loss   obj_loss   cls_loss  Instances       Size\n",
      "      19/24      22.3G    0.02724    0.04747   0.009499        295        640: 1\n",
      "                 Class     Images  Instances          P          R      mAP50   \n",
      "                   all        910      16125      0.974      0.948      0.957      0.671\n",
      "\n",
      "      Epoch    GPU_mem   box_loss   obj_loss   cls_loss  Instances       Size\n",
      "      20/24      22.3G    0.02719    0.04759   0.009223        442        640: 1\n",
      "                 Class     Images  Instances          P          R      mAP50   \n",
      "                   all        910      16125      0.974      0.949      0.958      0.678\n",
      "\n",
      "      Epoch    GPU_mem   box_loss   obj_loss   cls_loss  Instances       Size\n",
      "      21/24      22.3G    0.02698    0.04706   0.008929        303        640: 1\n",
      "                 Class     Images  Instances          P          R      mAP50   \n",
      "                   all        910      16125      0.976      0.951      0.957      0.682\n",
      "\n",
      "      Epoch    GPU_mem   box_loss   obj_loss   cls_loss  Instances       Size\n",
      "      22/24      22.3G    0.02637    0.04597   0.008626        465        640: 1\n",
      "                 Class     Images  Instances          P          R      mAP50   \n",
      "                   all        910      16125      0.976       0.95      0.956      0.679\n",
      "\n",
      "      Epoch    GPU_mem   box_loss   obj_loss   cls_loss  Instances       Size\n",
      "      23/24      22.3G    0.02623     0.0463   0.008213        387        640: 1\n",
      "                 Class     Images  Instances          P          R      mAP50   \n",
      "                   all        910      16125      0.977      0.951      0.958      0.684\n",
      "\n",
      "      Epoch    GPU_mem   box_loss   obj_loss   cls_loss  Instances       Size\n",
      "      24/24      22.3G    0.02569     0.0452   0.007844        553        640: 1\n",
      "                 Class     Images  Instances          P          R      mAP50   \n",
      "                   all        910      16125      0.975      0.952      0.957      0.682\n",
      "\n",
      "25 epochs completed in 1.200 hours.\n",
      "Optimizer stripped from runs/train/exp6/weights/last.pt, 42.3MB\n",
      "Optimizer stripped from runs/train/exp6/weights/best.pt, 42.3MB\n",
      "\n",
      "Validating runs/train/exp6/weights/best.pt...\n",
      "Fusing layers... \n",
      "YOLOv5m summary: 212 layers, 20897385 parameters, 0 gradients, 48.0 GFLOPs\n",
      "                 Class     Images  Instances          P          R      mAP50   \n",
      "                   all        910      16125      0.977      0.951      0.958      0.684\n",
      "          Black-bishop        910       1292      0.976      0.951      0.961       0.64\n",
      "            Black-king        910        790      0.966      0.938      0.955      0.729\n",
      "          Black-knight        910        987      0.978      0.958      0.963      0.684\n",
      "            Black-pawn        910       3831      0.984      0.955      0.963      0.649\n",
      "           Black-queen        910        786      0.976      0.943      0.958      0.732\n",
      "            Black-rook        910       1171      0.968      0.938      0.943      0.669\n",
      "          White-bishop        910       1204      0.981      0.951      0.965      0.655\n",
      "            White-king        910        887      0.979      0.963      0.967      0.743\n",
      "          White-knight        910       1125       0.98      0.947      0.945       0.67\n",
      "            White-pawn        910       2363      0.978      0.969      0.968      0.615\n",
      "           White-queen        910        931      0.987      0.954      0.962       0.74\n",
      "            White-rook        910        758      0.966      0.951      0.945      0.677\n",
      "Results saved to \u001b[1mruns/train/exp6\u001b[0m\n"
     ]
    }
   ],
   "source": [
    "!python train.py \\\n",
    "--data 'data.yaml' \\\n",
    "--weights yolov5m.pt \\\n",
    "--img 640 \\\n",
    "--epochs 25 \\\n",
    "--batch-size 64 \\\n",
    "--cfg 'models/yolov5m.yaml' \\\n",
    "--cache disk \\\n",
    "--device 0"
   ]
  },
  {
   "cell_type": "code",
   "execution_count": 8,
   "id": "69aca3c8-4289-4505-a495-d0530a2ffd44",
   "metadata": {},
   "outputs": [
    {
     "name": "stdout",
     "output_type": "stream",
     "text": [
      "  adding: runs/train/exp6/ (stored 0%)\n",
      "  adding: runs/train/exp6/weights/ (stored 0%)\n",
      "  adding: runs/train/exp6/weights/last.pt (deflated 8%)\n",
      "  adding: runs/train/exp6/weights/best.pt (deflated 8%)\n",
      "  adding: runs/train/exp6/hyp.yaml (deflated 45%)\n",
      "  adding: runs/train/exp6/opt.yaml (deflated 49%)\n",
      "  adding: runs/train/exp6/events.out.tfevents.1698694383.srvgpu.82667.0 (deflated 28%)\n",
      "  adding: runs/train/exp6/labels_correlogram.jpg (deflated 33%)\n",
      "  adding: runs/train/exp6/labels.jpg (deflated 27%)\n",
      "  adding: runs/train/exp6/train_batch0.jpg (deflated 1%)\n",
      "  adding: runs/train/exp6/train_batch1.jpg (deflated 1%)\n",
      "  adding: runs/train/exp6/train_batch2.jpg (deflated 1%)\n",
      "  adding: runs/train/exp6/results.csv (deflated 82%)\n",
      "  adding: runs/train/exp6/val_batch0_labels.jpg (deflated 8%)\n",
      "  adding: runs/train/exp6/val_batch0_pred.jpg (deflated 8%)\n",
      "  adding: runs/train/exp6/val_batch1_labels.jpg (deflated 7%)\n",
      "  adding: runs/train/exp6/val_batch1_pred.jpg (deflated 7%)\n",
      "  adding: runs/train/exp6/val_batch2_labels.jpg (deflated 5%)\n",
      "  adding: runs/train/exp6/val_batch2_pred.jpg (deflated 5%)\n",
      "  adding: runs/train/exp6/PR_curve.png (deflated 11%)\n",
      "  adding: runs/train/exp6/R_curve.png (deflated 9%)\n",
      "  adding: runs/train/exp6/P_curve.png (deflated 8%)\n",
      "  adding: runs/train/exp6/F1_curve.png (deflated 6%)\n",
      "  adding: runs/train/exp6/confusion_matrix.png (deflated 17%)\n",
      "  adding: runs/train/exp6/results.png (deflated 9%)\n"
     ]
    }
   ],
   "source": [
    "!zip -r runs/train/exp6.zip runs/train/exp6"
   ]
  },
  {
   "cell_type": "markdown",
   "id": "32d5e519",
   "metadata": {},
   "source": [
    "# Validating with val.py file\n",
    "https://towardsdatascience.com/the-practical-guide-for-object-detection-with-yolov5-algorithm-74c04aac4843\n",
    "\"To evaluate our model we’ll utilize the validation script. Performances can be evaluated over the training, validation or test dataset splits, controlled by the ‘task’ argument. Here, the test dataset split is being evaluated:\""
   ]
  },
  {
   "cell_type": "markdown",
   "id": "aefdc1bf",
   "metadata": {},
   "source": [
    "https://docs.ultralytics.com/modes/?h=generalization#train\n",
    "\"\n",
    "Val\n",
    "Val mode is used for validating a YOLOv8 model after it has been trained. In this mode, the model is evaluated on a validation set to measure its accuracy and generalization performance. This mode can be used to tune the hyperparameters of the model to improve its performance.\""
   ]
  },
  {
   "cell_type": "markdown",
   "id": "f1cd0ab0",
   "metadata": {},
   "source": [
    "## Idee:\n",
    "selbst test datensatz erstellen, dann mit diesem code hier validieren. Dann bekommt man eine Confusion Matrix für meine Bilder."
   ]
  },
  {
   "cell_type": "code",
   "execution_count": 9,
   "id": "8ff96a50",
   "metadata": {
    "scrolled": true
   },
   "outputs": [
    {
     "name": "stdout",
     "output_type": "stream",
     "text": [
      "\u001b[34m\u001b[1mval: \u001b[0mdata=data.yaml, weights=['runs/train/exp6/weights/best.pt'], batch_size=64, imgsz=640, conf_thres=0.001, iou_thres=0.6, max_det=300, task=test, device=0, workers=8, single_cls=False, augment=True, verbose=False, save_txt=False, save_hybrid=False, save_conf=False, save_json=False, project=runs_chessfigures, name=Validation, exist_ok=False, half=False, dnn=False\n",
      "YOLOv5 🚀 v7.0-226-gdd9e338 Python-3.8.18 torch-1.12.1+cu113 CUDA:0 (Quadro RTX 6000, 24220MiB)\n",
      "\n",
      "Fusing layers... \n",
      "YOLOv5m summary: 212 layers, 20897385 parameters, 0 gradients, 48.0 GFLOPs\n",
      "\u001b[34m\u001b[1mtest: \u001b[0mScanning /data1/home/tscl/YOLOv5/Chess-Pieces-3-2/test/labels.cache... 16 \u001b[0m\n",
      "                 Class     Images  Instances          P          R      mAP50   \n",
      "                   all         16        164      0.951      0.972      0.983      0.839\n",
      "          Black-bishop         16         11      0.901      0.831      0.912      0.782\n",
      "            Black-king         16         15      0.927      0.933      0.948      0.779\n",
      "          Black-knight         16         18      0.951          1      0.995      0.885\n",
      "            Black-pawn         16         10      0.982          1      0.995      0.877\n",
      "           Black-queen         16         16       0.95          1      0.995       0.86\n",
      "            Black-rook         16         18      0.946          1      0.992      0.869\n",
      "          White-bishop         16         10      0.984          1      0.995      0.852\n",
      "            White-king         16         10      0.991          1      0.995      0.898\n",
      "          White-knight         16         18      0.945      0.959      0.989      0.782\n",
      "            White-pawn         16         10      0.986          1      0.995      0.792\n",
      "           White-queen         16         10      0.907          1      0.995      0.867\n",
      "            White-rook         16         18      0.936      0.944       0.99      0.823\n",
      "Speed: 0.2ms pre-process, 13.8ms inference, 1.2ms NMS per image at shape (64, 3, 640, 640)\n",
      "Results saved to \u001b[1mruns_chessfigures/Validation\u001b[0m\n"
     ]
    }
   ],
   "source": [
    "!python val.py --batch 64 --data 'data.yaml' --weights 'runs/train/exp6/weights/best.pt' --task test --project 'runs_chessfigures' --name 'Validation' --device 0 --augment"
   ]
  },
  {
   "cell_type": "code",
   "execution_count": 10,
   "id": "75feeb75",
   "metadata": {},
   "outputs": [
    {
     "name": "stdout",
     "output_type": "stream",
     "text": [
      "  adding: runs_chessfigures/Validation/ (stored 0%)\n",
      "  adding: runs_chessfigures/Validation/val_batch0_labels.jpg (deflated 7%)\n",
      "  adding: runs_chessfigures/Validation/val_batch0_pred.jpg (deflated 6%)\n",
      "  adding: runs_chessfigures/Validation/F1_curve.png (deflated 5%)\n",
      "  adding: runs_chessfigures/Validation/P_curve.png (deflated 6%)\n",
      "  adding: runs_chessfigures/Validation/R_curve.png (deflated 12%)\n",
      "  adding: runs_chessfigures/Validation/PR_curve.png (deflated 14%)\n",
      "  adding: runs_chessfigures/Validation/confusion_matrix.png (deflated 18%)\n"
     ]
    }
   ],
   "source": [
    "!zip -r validation.zip runs_chessfigures/Validation"
   ]
  }
 ],
 "metadata": {
  "kernelspec": {
   "display_name": "envclara",
   "language": "python",
   "name": "envclara"
  },
  "language_info": {
   "codemirror_mode": {
    "name": "ipython",
    "version": 3
   },
   "file_extension": ".py",
   "mimetype": "text/x-python",
   "name": "python",
   "nbconvert_exporter": "python",
   "pygments_lexer": "ipython3",
   "version": "3.8.18"
  }
 },
 "nbformat": 4,
 "nbformat_minor": 5
}
