{
 "cells": [
  {
   "cell_type": "code",
   "execution_count": 1,
   "outputs": [
    {
     "name": "stdout",
     "output_type": "stream",
     "text": [
      "Known TensorBoard instances:\n",
      "  - port 6006: logdir training_results/runs/train/results_yolov8m (started 2 days, 5:09:16 ago; pid 21892)\n",
      "  - port 6006: logdir training_results/runs/train (started 2 days, 5:13:54 ago; pid 22016)\n"
     ]
    }
   ],
   "source": [
    "# https://www.tensorflow.org/tensorboard/tensorboard_in_notebooks\n",
    "from tensorboard import notebook\n",
    "notebook.list() # View open TensorBoard instances\n",
    "# clear that folder to kill the instances C:\\Users\\clara\\AppData\\Local\\Temp\\.tensorboard-info"
   ],
   "metadata": {
    "collapsed": false,
    "ExecuteTime": {
     "end_time": "2023-10-30T19:37:21.991023700Z",
     "start_time": "2023-10-30T19:37:21.930013900Z"
    }
   },
   "id": "b99282b376ad3a84"
  },
  {
   "cell_type": "code",
   "execution_count": 2,
   "outputs": [
    {
     "data": {
      "text/plain": "Launching TensorBoard..."
     },
     "metadata": {},
     "output_type": "display_data"
    },
    {
     "data": {
      "text/plain": "<IPython.core.display.HTML object>",
      "text/html": "\n      <iframe id=\"tensorboard-frame-1046d9cf314859ae\" width=\"100%\" height=\"800\" frameborder=\"0\">\n      </iframe>\n      <script>\n        (function() {\n          const frame = document.getElementById(\"tensorboard-frame-1046d9cf314859ae\");\n          const url = new URL(\"/\", window.location);\n          const port = 6006;\n          if (port) {\n            url.port = port;\n          }\n          frame.src = url;\n        })();\n      </script>\n    "
     },
     "metadata": {},
     "output_type": "display_data"
    }
   ],
   "source": [
    "%reload_ext tensorboard\n",
    "%tensorboard --logdir=training_results/runs/train/results_yolov8m"
   ],
   "metadata": {
    "collapsed": false,
    "ExecuteTime": {
     "end_time": "2023-10-30T19:37:29.897949800Z",
     "start_time": "2023-10-30T19:37:29.822439700Z"
    }
   },
   "id": "34971bedbe43f4cd"
  },
  {
   "cell_type": "code",
   "execution_count": 8,
   "outputs": [
    {
     "name": "stdout",
     "output_type": "stream",
     "text": [
      "Selecting TensorBoard with logdir training_results/runs/train/results_yolov8m (started 0:00:06 ago; port 6006, pid 21892).\n"
     ]
    },
    {
     "data": {
      "text/plain": "<IPython.core.display.HTML object>",
      "text/html": "\n      <iframe id=\"tensorboard-frame-ff7d3d3cb0d5cd79\" width=\"100%\" height=\"800\" frameborder=\"0\">\n      </iframe>\n      <script>\n        (function() {\n          const frame = document.getElementById(\"tensorboard-frame-ff7d3d3cb0d5cd79\");\n          const url = new URL(\"/\", window.location);\n          const port = 6006;\n          if (port) {\n            url.port = port;\n          }\n          frame.src = url;\n        })();\n      </script>\n    "
     },
     "metadata": {},
     "output_type": "display_data"
    }
   ],
   "source": [
    "notebook.display()"
   ],
   "metadata": {
    "collapsed": false,
    "ExecuteTime": {
     "end_time": "2023-10-28T14:28:11.115356500Z",
     "start_time": "2023-10-28T14:28:11.102773700Z"
    }
   },
   "id": "8b86f616c9776b12"
  }
 ],
 "metadata": {
  "kernelspec": {
   "display_name": "Python 3",
   "language": "python",
   "name": "python3"
  },
  "language_info": {
   "codemirror_mode": {
    "name": "ipython",
    "version": 2
   },
   "file_extension": ".py",
   "mimetype": "text/x-python",
   "name": "python",
   "nbconvert_exporter": "python",
   "pygments_lexer": "ipython2",
   "version": "2.7.6"
  }
 },
 "nbformat": 4,
 "nbformat_minor": 5
}
